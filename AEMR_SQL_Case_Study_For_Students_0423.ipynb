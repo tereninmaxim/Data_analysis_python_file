{
 "cells": [
  {
   "cell_type": "markdown",
   "metadata": {
    "tags": [
     "112_min",
     "155_min",
     "167_min"
    ]
   },
   "source": [
    "<center><h1 style=\"color:#D4AF37\"> ⚡⚡ AEMR Data Analysis ⚡⚡</h1>"
   ]
  },
  {
   "cell_type": "markdown",
   "metadata": {
    "tags": [
     "4_min"
    ]
   },
   "source": [
    "<img src = \"https://images.squarespace-cdn.com/content/v1/551972d8e4b0d571edc2e2c8/8f3abd33-0916-4415-9b24-593eea1d1e3c/Screen+Shot+2022-04-20+at+12.41.24+PM.png\">\n",
    "\n",
    "  \n",
    "It’s time for you to apply your budding SQL Competencies to analyse data for the American Energy Market Regulator (AEMR)!\n",
    "\n",
    "The analytics team has supplied you with the following table extract that contains all the data you need to analyse for the `AEMR` outages. \n",
    "\n",
    "`AEMR_Outage_Table` \n",
    "    \n",
    "Now let's revisit the business problem below and understand what we're seeking to solve."
   ]
  },
  {
   "cell_type": "markdown",
   "metadata": {
    "tags": [
     "12_min"
    ]
   },
   "source": [
    "<h1 style=\"color:#D4AF37\"> What's the Business Problem? 💰</h1>\n",
    "\n",
    "The American Energy Market Regulator (AEMR) is responsible for looking after the\n",
    "United States of America’s domestic energy network. The regulator’s responsibility is to\n",
    "ensure that America’s energy network remains reliable with minimal disruptions, which\n",
    "are known as outages. \n",
    "\n",
    "There are four key types of outages:\n",
    "\n",
    "● Consequential\n",
    "\n",
    "● Forced \n",
    "\n",
    "● Opportunistic \n",
    "\n",
    "● Planned \n",
    "\n",
    "Recently, the AEMR management team has been increasingly aware of a large number\n",
    "of energy providers that submitted outages over the 2016 and 2017 calendar years. The\n",
    "management team has expressed a desire to have the following two areas of concern\n",
    "addressed:\n",
    "\n",
    "<b> A) Energy Stability and Market Outages\n",
    "    <p>\n",
    "B) Energy Losses and Market Reliability </b>\n",
    "\n",
    "As an analyst within the data and reporting team, you have been asked to address these\n",
    "two immediate areas of concern. Feel free to also explore beyond the queries asked and provide additional insights that you feel may be of interest to the management team. "
   ]
  },
  {
   "cell_type": "markdown",
   "metadata": {},
   "source": [
    "<h3 style=\"color:#D4AF37\">  SQLite Refresher ⚙️ </h3>\n",
    "\n",
    "We've pre-loaded the data you need to access in the `AEMR.db` we've included. We'll have you write SQL below where all your SQL queries will be stored in this notebook as a reference you can use when you review your data analysis in Tableau. </b>.\n",
    "\n",
    "To load the `AEMR.db` file into this notebook, run the below cells.\n",
    "\n",
    "<b> ⚠️ Please remember that everytime you close this file and re-open this, you'll need to re-run the cells below. ⚠️ </b>"
   ]
  },
  {
   "cell_type": "markdown",
   "metadata": {},
   "source": [
    "<b>⚠️ Note: Remember, you'll need to start each cell with the **`%%sql`** line, which allows us to execute SQL from within this notebook.</b>"
   ]
  },
  {
   "cell_type": "code",
   "execution_count": 16,
   "metadata": {},
   "outputs": [
    {
     "name": "stdout",
     "output_type": "stream",
     "text": [
      "SQLite database file downloaded successfully.\n",
      "The sql extension is already loaded. To reload it, use:\n",
      "  %reload_ext sql\n"
     ]
    }
   ],
   "source": [
    "import requests\n",
    "from IPython.core.magic import register_line_magic\n",
    "from IPython.display import HTML\n",
    "import sqlite3\n",
    "\n",
    "@register_line_magic\n",
    "def load_sqlite_db(url):\n",
    "    response = requests.get(url)\n",
    "\n",
    "    if response.status_code == 200:\n",
    "        with open('temp_db_file.db', 'wb') as file:\n",
    "            file.write(response.content)\n",
    "        print('SQLite database file downloaded successfully.')\n",
    "    else:\n",
    "        print('Failed to download the SQLite database file.')\n",
    "\n",
    "sqlite_db_url = 'https://raw.githubusercontent.com/chrishuisb1990/practice_datasets/main/AEMR.db'\n",
    "\n",
    "%load_sqlite_db $sqlite_db_url\n",
    "\n",
    "%load_ext sql\n",
    "\n",
    "%sql sqlite:///temp_db_file.db\n"
   ]
  },
  {
   "cell_type": "markdown",
   "metadata": {},
   "source": [
    "We've included an example of how you would write a query against the database below:\n",
    "\n",
    "~~~sql\n",
    "%%sql\n",
    "SELECT\n",
    "*\n",
    "FROM AEMR_Outage_Table\n",
    "LIMIT 10\n",
    "~~~\n",
    "\n",
    "Once you've written your SQL, you'll then need to press `Ctrl` + `Enter` to run the cell.\n",
    "Otherwise, you can just press `run` at the very top of your screen, to run the specific cell.\n",
    "\n",
    "For your convenience, we've included a <b style = \"color:#5D3FD3\"> subset of the answers </b> under the header `Expected Output (Sample)`. These small subsets also include all the `columns` you'll need to include in your Query, so you know what to expect!\n",
    "\n",
    "Good luck!\n",
    "\n",
    "\n",
    "<h3 style = \"color:#5D3FD3\"><p>\n",
    "    PS: In case any of you get stuck regarding how to tackle any of the questions, we've included a breakdown <a href = \"https://drive.google.com/file/d/1sXBGV5MZooZ7L38WYyXf9lIaA5sdKL7X/view?usp=share_link\"> here</a> where Chris walks through how to tackle each question! Feel free to use this when you're stuck and you can't book a Mentor Call! 💁</h3>"
   ]
  },
  {
   "cell_type": "markdown",
   "metadata": {
    "tags": [
     "2_min"
    ]
   },
   "source": [
    "<h1 style=\"color:#D4AF37\"> ⚡ Part I. Energy Stability & Market Outages ⚡ </h1>\n",
    "\n",
    "Energy stability is one of the key themes the AEMR management team cares about. To ensure energy security and reliability, AEMR needs to understand the following:\n",
    "<p>\n",
    "<b>\n",
    "\n",
    "<li> What are the most common outage types and how long do they tend to last? \n",
    "<li> How frequently do the outages occur? \n",
    "<li> Are there any energy providers which have more outages than their peers which may be indicative of being unreliable? \n",
    "    \n",
    "<p>\n",
    "\n",
    "<u style=\"color:Maroon\"> Please note that throughout the entire case study, we are interested ONLY in the Outages where Status = Approved. We don't have any interest in Outages that were cancelled or not approved. This means your WHERE Clause will ALWAYS contain the field `Where Status = Approved` </u>"
   ]
  },
  {
   "cell_type": "markdown",
   "metadata": {},
   "source": [
    "<h3 style=\"color:#D4AF37\"> Question One </h3> \n",
    "\n",
    "<b> Write a SQL Statement to `COUNT` the number of valid (i.e. `Status = Approved`) Outage Events sorted by their respective `Outage_Reason` (i.e. `Forced`, `Consequential`, `Scheduled`, `Opportunistic`) over the 2016 & 2017 Periods. </b>\n",
    "\n",
    "Do we notice anything regarding the trends for specific Outages over the 2016 / 2017 Period?"
   ]
  },
  {
   "cell_type": "markdown",
   "metadata": {},
   "source": [
    "<h4 style=\"color:Teal\"> Please write your SQL in the code window below </h4>"
   ]
  },
  {
   "cell_type": "markdown",
   "metadata": {},
   "source": [
    "<b>⚠️ Note: Remember, you'll need to start each cell with the **`%%sql`** line, which allows us to execute SQL from within this notebook.</b>"
   ]
  },
  {
   "cell_type": "code",
   "execution_count": null,
   "metadata": {},
   "outputs": [],
   "source": []
  },
  {
   "cell_type": "markdown",
   "metadata": {},
   "source": [
    "<h3 style = \"color:#5D3FD3\"> Expected Output (Sample) </h3>\n"
   ]
  },
  {
   "cell_type": "code",
   "execution_count": 194,
   "metadata": {},
   "outputs": [
    {
     "name": "stdout",
     "output_type": "stream",
     "text": [
      " * sqlite:///AEMR.db\n",
      "Done.\n"
     ]
    },
    {
     "data": {
      "text/html": [
       "<table>\n",
       "    <tr>\n",
       "        <th>Total_Number_Outages</th>\n",
       "        <th>Outage_Reason</th>\n",
       "        <th>Year</th>\n",
       "    </tr>\n",
       "    <tr>\n",
       "        <td>181</td>\n",
       "        <td>Consequential</td>\n",
       "        <td>2016</td>\n",
       "    </tr>\n",
       "    <tr>\n",
       "        <td>1264</td>\n",
       "        <td>Forced</td>\n",
       "        <td>2016</td>\n",
       "    </tr>\n",
       "    <tr>\n",
       "        <td>106</td>\n",
       "        <td>Opportunistic Maintenance (Planned)</td>\n",
       "        <td>2016</td>\n",
       "    </tr>\n",
       "    <tr>\n",
       "        <td>380</td>\n",
       "        <td>Scheduled (Planned)</td>\n",
       "        <td>2016</td>\n",
       "    </tr>\n",
       "</table>"
      ],
      "text/plain": [
       "[(181, 'Consequential', 2016),\n",
       " (1264, 'Forced', 2016),\n",
       " (106, 'Opportunistic Maintenance (Planned)', 2016),\n",
       " (380, 'Scheduled (Planned)', 2016)]"
      ]
     },
     "execution_count": 194,
     "metadata": {},
     "output_type": "execute_result"
    }
   ],
   "source": []
  },
  {
   "cell_type": "markdown",
   "metadata": {},
   "source": [
    "Now how about examining some monthly trends? Do we note any behaviours across the months that indicate certain months having more reliability issues over other months? \n"
   ]
  },
  {
   "cell_type": "markdown",
   "metadata": {
    "tags": [
     "3_min"
    ]
   },
   "source": [
    "<h3 style=\"color:#D4AF37\"> Question Two </h3>\n",
    "\n"
   ]
  },
  {
   "cell_type": "markdown",
   "metadata": {},
   "source": [
    "<b> i) Write a SQL Statement showing the `Total` of all Outage Types (Forced, Consequential, Scheduled, Opportunistic) where the `Status = Approved`, that occurred for both 2016 and 2017, grouped by `Year` and `Month`.  per month (i.e. 1 – 12). Order by `Year`, `Month`, `Total_Number_Outages` in Descending Order.\n",
    "\n",
    "\n",
    "ii) Building on the query you write in i), group the results by `Outage Type`, `Year` and `Month`. This is so you can identify whether there is any outage type specifically increasing on a monthly basis when comparing 2016 to 2017. </b>\n",
    "\n",
    "\n",
    "<b>⚠️Hint: You might find it helpful to create a small Common Table Expression to address these two questions! </b>"
   ]
  },
  {
   "cell_type": "markdown",
   "metadata": {},
   "source": [
    "<h4 style=\"color:Teal\"> Please write your SQL in the code window below </h4>"
   ]
  },
  {
   "cell_type": "code",
   "execution_count": null,
   "metadata": {},
   "outputs": [],
   "source": []
  },
  {
   "cell_type": "markdown",
   "metadata": {},
   "source": [
    "<h3 style = \"color:#5D3FD3\"> Expected Output (Sample) </h3>\n"
   ]
  },
  {
   "cell_type": "code",
   "execution_count": 20,
   "metadata": {},
   "outputs": [
    {
     "name": "stdout",
     "output_type": "stream",
     "text": [
      " * sqlite:///temp_db_file.db\n",
      "Done.\n"
     ]
    },
    {
     "data": {
      "text/html": [
       "<table>\n",
       "    <thead>\n",
       "        <tr>\n",
       "            <th>Year</th>\n",
       "            <th>Month</th>\n",
       "            <th>Total_Number_Outages</th>\n",
       "        </tr>\n",
       "    </thead>\n",
       "    <tbody>\n",
       "        <tr>\n",
       "            <td>2016</td>\n",
       "            <td>1</td>\n",
       "            <td>191</td>\n",
       "        </tr>\n",
       "        <tr>\n",
       "            <td>2016</td>\n",
       "            <td>2</td>\n",
       "            <td>227</td>\n",
       "        </tr>\n",
       "        <tr>\n",
       "            <td>2016</td>\n",
       "            <td>3</td>\n",
       "            <td>136</td>\n",
       "        </tr>\n",
       "        <tr>\n",
       "            <td>2016</td>\n",
       "            <td>4</td>\n",
       "            <td>134</td>\n",
       "        </tr>\n",
       "        <tr>\n",
       "            <td>2016</td>\n",
       "            <td>5</td>\n",
       "            <td>174</td>\n",
       "        </tr>\n",
       "    </tbody>\n",
       "</table>"
      ],
      "text/plain": [
       "[(2016, 1, 191),\n",
       " (2016, 2, 227),\n",
       " (2016, 3, 136),\n",
       " (2016, 4, 134),\n",
       " (2016, 5, 174)]"
      ]
     },
     "execution_count": 20,
     "metadata": {},
     "output_type": "execute_result"
    }
   ],
   "source": []
  },
  {
   "cell_type": "markdown",
   "metadata": {},
   "source": [
    "Hmm. Interesting. We've now identified a specific outage type is rapidly increasing from 2016 to 2017. However, frequency is just one aspect we care about. We also care about the <b> `duration` </b> of our ouatges.\n",
    "\n",
    "In other words, if an outage is very short, we aren't as concerned. However, if the outage is very long, this then has the risk of threatening our energy supplies. We want to identify the problematic energy providers here. This leads us to our next question below. "
   ]
  },
  {
   "cell_type": "markdown",
   "metadata": {},
   "source": [
    "<h3 style=\"color:#D4AF37\"> Question Three </h3>\n"
   ]
  },
  {
   "cell_type": "markdown",
   "metadata": {},
   "source": [
    "<b>Write a SQL statement that calculates 1) The `Total_Number_Outage_Events` and 2) The <b> `Average Duration`</b> in <u>DAYS</u> for each `Participant Code` and `Outage Type` over the 2016 and 2017 Period where the `Status = Approved`. \n",
    "Order by `Total_Number_Outage_Events` in Descending Order, `Reason` and `Year`.\n",
    "    \n",
    "Please note the average duration in days should be rounded to 2 decimal places for ease of comparison. When calculating the average duration, please note that you'll need to use the following fields:\n",
    "\n",
    "`Start_Time` and `End_Time`. </b>\n",
    "\n",
    "<b>⚠️ Hint:</b> If you're not sure how to calculate the difference between the `start_time` and `end_time` , reference this link <a href =\"https://learnsql.com/cookbook/how-to-calculate-the-difference-between-two-timestamps-in-sqlite/\"> here </a>\n",
    "\n",
    "We've included an example below of how you could use the `JULIANDAY()` function! Remember, the `JULIANDAY()` function returns the results in days, including the fractional component. Some of the date(s) are flipped in the dataset, so you'll need to use the ABS() function to ensure you don't return any negative values!\n",
    "\n",
    "Pay attention to the \n",
    "\n",
    "~~~sql\n",
    "%%sql\n",
    "\n",
    "SELECT\n",
    "        AVG((ABS(JULIANDAY(Date_2) - JULIANDAY(Date1))) \n",
    "FROM Some_Database\n",
    "~~~\n",
    "\n"
   ]
  },
  {
   "cell_type": "markdown",
   "metadata": {},
   "source": [
    "<h4 style=\"color:Teal\"> Please write your SQL in the code window below </h4>"
   ]
  },
  {
   "cell_type": "code",
   "execution_count": null,
   "metadata": {},
   "outputs": [],
   "source": []
  },
  {
   "cell_type": "markdown",
   "metadata": {},
   "source": [
    "<h3 style = \"color:#5D3FD3\"> Expected Output (Sample) </h3>\n"
   ]
  },
  {
   "cell_type": "code",
   "execution_count": 196,
   "metadata": {},
   "outputs": [
    {
     "name": "stdout",
     "output_type": "stream",
     "text": [
      " * sqlite:///AEMR.db\n",
      "Done.\n"
     ]
    },
    {
     "data": {
      "text/html": [
       "<table>\n",
       "    <tr>\n",
       "        <th>Participant_Code</th>\n",
       "        <th>Outage_Reason</th>\n",
       "        <th>Year</th>\n",
       "        <th>Total_Number_Outage_Events</th>\n",
       "        <th>Average_Outage_Duration_In_Days</th>\n",
       "    </tr>\n",
       "    <tr>\n",
       "        <td>AURICON</td>\n",
       "        <td>Forced</td>\n",
       "        <td>2017</td>\n",
       "        <td>490</td>\n",
       "        <td>0.07</td>\n",
       "    </tr>\n",
       "    <tr>\n",
       "        <td>GW</td>\n",
       "        <td>Forced</td>\n",
       "        <td>2016</td>\n",
       "        <td>317</td>\n",
       "        <td>0.38</td>\n",
       "    </tr>\n",
       "    <tr>\n",
       "        <td>GW</td>\n",
       "        <td>Forced</td>\n",
       "        <td>2017</td>\n",
       "        <td>227</td>\n",
       "        <td>1.06</td>\n",
       "    </tr>\n",
       "    <tr>\n",
       "        <td>AURICON</td>\n",
       "        <td>Forced</td>\n",
       "        <td>2016</td>\n",
       "        <td>208</td>\n",
       "        <td>0.07</td>\n",
       "    </tr>\n",
       "    <tr>\n",
       "        <td>AUXC</td>\n",
       "        <td>Forced</td>\n",
       "        <td>2016</td>\n",
       "        <td>206</td>\n",
       "        <td>0.08</td>\n",
       "    </tr>\n",
       "</table>"
      ],
      "text/plain": [
       "[('AURICON', 'Forced', 2017, 490, 0.07),\n",
       " ('GW', 'Forced', 2016, 317, 0.38),\n",
       " ('GW', 'Forced', 2017, 227, 1.06),\n",
       " ('AURICON', 'Forced', 2016, 208, 0.07),\n",
       " ('AUXC', 'Forced', 2016, 206, 0.08)]"
      ]
     },
     "execution_count": 196,
     "metadata": {},
     "output_type": "execute_result"
    }
   ],
   "source": []
  },
  {
   "cell_type": "markdown",
   "metadata": {},
   "source": [
    "Now we're getting somewhere...!\n",
    "We've identified participants who are having many outages, as well as participants who have been offline for the longest durations.\n",
    "\n",
    "Armed with this information, it's important we're able to classify our participants accordingly based on reliability metrics of uptime.\n",
    "\n",
    "We classify a participant based off the following criteria:\n",
    "<b>\n",
    "<li> High Risk - On average, the participant is unavailable for > 24 Hours (1 Day)</li>\n",
    "<li> Medium Risk - On average, the participant is unavailable between 12 and 24 Hours </li>\n",
    "<li> Low Risk - On average, the participant is unavailable for less than 12 Hours</li> \n",
    "</b>"
   ]
  },
  {
   "cell_type": "markdown",
   "metadata": {},
   "source": [
    "<h3 style=\"color:#D4AF37\"> Question Four </h3>"
   ]
  },
  {
   "cell_type": "markdown",
   "metadata": {},
   "source": [
    "<b> Using the above criteria for context, write a SQL Statement that <u> classifies each participant code as either `High Risk`, `Medium Risk` or `Low Risk` in a column called `Risk_Classification`</u> that is based off their Average Outage Duration Time. Please note that this is for all valid (i.e. `Where status = approved`) outage types (Forced, Consequential, Scheduled, Opportunistic) for <u>all</u> participant codes from 2016 to 2017. Order the results using `Average Duration Time In Days` in descending order. \n",
    "\n",
    "<b>⚠️Hint: Think about the CASE Statement and how you might use this to help you with your classification! This is a more challenging question so you'll need to think through this step by step. You might also find `CTEs` or `Sub Queries` helpful for you.</b>\n",
    "\n",
    "~~~sql\n",
    "%%sql\n",
    "\n",
    "SELECT\n",
    "CASE\n",
    "       WHEN Some_Condition > X THEN 'Something Happens'\n",
    "       WHEN Some_Condition BETWEEN X AND Y THEN 'Something Else Happens'\n",
    "       ELSE 'Something' END as Some_Column_Name\n",
    "FROM Some_Database\n",
    "~~~"
   ]
  },
  {
   "cell_type": "markdown",
   "metadata": {},
   "source": [
    "<h4 style=\"color:Teal\"> Please write your SQL in the code window below </h4>"
   ]
  },
  {
   "cell_type": "code",
   "execution_count": null,
   "metadata": {},
   "outputs": [],
   "source": []
  },
  {
   "cell_type": "markdown",
   "metadata": {},
   "source": [
    "<h3 style = \"color:#5D3FD3\"> Expected Output (Sample) </h3>\n"
   ]
  },
  {
   "cell_type": "code",
   "execution_count": 201,
   "metadata": {},
   "outputs": [
    {
     "name": "stdout",
     "output_type": "stream",
     "text": [
      " * sqlite:///AEMR.db\n",
      "Done.\n"
     ]
    },
    {
     "data": {
      "text/html": [
       "<table>\n",
       "    <tr>\n",
       "        <th>Participant_Code</th>\n",
       "        <th>Outage_Reason</th>\n",
       "        <th>Year</th>\n",
       "        <th>Total_Number_Outage_Events</th>\n",
       "        <th>Average_Outage_Duration_In_Days</th>\n",
       "        <th>Risk_Classification</th>\n",
       "    </tr>\n",
       "    <tr>\n",
       "        <td>AURICON</td>\n",
       "        <td>Forced</td>\n",
       "        <td>2017</td>\n",
       "        <td>490</td>\n",
       "        <td>0.07</td>\n",
       "        <td>Low Risk</td>\n",
       "    </tr>\n",
       "    <tr>\n",
       "        <td>GW</td>\n",
       "        <td>Forced</td>\n",
       "        <td>2016</td>\n",
       "        <td>317</td>\n",
       "        <td>0.38</td>\n",
       "        <td>Low Risk</td>\n",
       "    </tr>\n",
       "    <tr>\n",
       "        <td>GW</td>\n",
       "        <td>Forced</td>\n",
       "        <td>2017</td>\n",
       "        <td>227</td>\n",
       "        <td>1.06</td>\n",
       "        <td>High Risk</td>\n",
       "    </tr>\n",
       "</table>"
      ],
      "text/plain": [
       "[('AURICON', 'Forced', 2017, 490, 0.07, 'Low Risk'),\n",
       " ('GW', 'Forced', 2016, 317, 0.38, 'Low Risk'),\n",
       " ('GW', 'Forced', 2017, 227, 1.06, 'High Risk')]"
      ]
     },
     "execution_count": 201,
     "metadata": {},
     "output_type": "execute_result"
    }
   ],
   "source": []
  },
  {
   "cell_type": "markdown",
   "metadata": {},
   "source": [
    "Now that we've classified our participants as either `High Risk`, `Medium Risk` or `Low Risk`, we want to dig a little deeper.\n",
    "\n",
    "Does it make sense that `Consequential`, `Opportunistic` or `Planned` aren't considered regarding the Risk Category?\n",
    "\n",
    "Perhaps we should refine our category accordingly by ensuring we focus our Risk Category on labelling only `Forced` Outages as being a Risk. After all, Forced Outages are the unplanned outages that risk the security of the electricity grid.\n",
    "\n",
    "Let's add two additional criteria to our classification considering `Total Number of Outage Events` and `Outage Type`.\n",
    "\n",
    "We've summarised these below:\n",
    "\n",
    "<b>\n",
    "<li> High Risk - On average, the participant is unavailable for > 24 Hours (1 Day) OR the Total Number of Outage Events > 20 </li>\n",
    "<li> Medium Risk - On average, the participant is unavailable between 12 and 24 Hours OR the Total Number of Outage Events is Between 10 and 20 </li>\n",
    "<li> Low Risk - On average, the participant is unavailable for less than 12 Hours OR the Total Number of Outage Events < 10 </li> \n",
    "<li> If Outage Type is not forced, then N/A\n",
    "</b>\n"
   ]
  },
  {
   "cell_type": "markdown",
   "metadata": {},
   "source": [
    "<h3 style=\"color:#D4AF37\"> Question Five </h3>"
   ]
  },
  {
   "cell_type": "markdown",
   "metadata": {},
   "source": [
    "<b> Just as you did in Question Four, Using the above criteria for context, write a SQL Statement that <u> classifies each participant code as either `High Risk`, `Medium Risk` or `Low Risk` in a column called `Risk_Classification`</u> using the new classification criteria. Order the results using `Average Duration Time In Days` in descending order. \n",
    "\n",
    "<b>⚠️Hint: Think about the CASE Statement and how you might use this to help you with your classification! We've included a hint as to how your syntax should look below! </b>\n",
    "\n",
    "~~~sql\n",
    "%%sql\n",
    "\n",
    "SELECT\n",
    "CASE\n",
    "       WHEN Some_Condition > X AND Some_Other_Condition = 'Something' OR Some_Other_Condition > X THEN 'Something'\n",
    "       WHEN Some_Condition > X AND Some_Other_Condition = 'Something' OR Some_Other_Condition > X THEN 'Something'\n",
    "       ELSE 'Something' END as Some_Column_Name\n",
    "FROM Some_Database\n",
    "~~~"
   ]
  },
  {
   "cell_type": "markdown",
   "metadata": {},
   "source": [
    "<h4 style=\"color:Teal\"> Please write your SQL in the code window below </h4>"
   ]
  },
  {
   "cell_type": "code",
   "execution_count": null,
   "metadata": {},
   "outputs": [],
   "source": []
  },
  {
   "cell_type": "markdown",
   "metadata": {},
   "source": [
    "<h3 style = \"color:#5D3FD3\"> Expected Output (Sample) </h3>"
   ]
  },
  {
   "cell_type": "code",
   "execution_count": 202,
   "metadata": {},
   "outputs": [
    {
     "name": "stdout",
     "output_type": "stream",
     "text": [
      " * sqlite:///AEMR.db\n",
      "Done.\n"
     ]
    },
    {
     "data": {
      "text/html": [
       "<table>\n",
       "    <tr>\n",
       "        <th>Participant_Code</th>\n",
       "        <th>Outage_Reason</th>\n",
       "        <th>Year</th>\n",
       "        <th>Total_Number_Outage_Events</th>\n",
       "        <th>Average_Outage_Duration_In_Days</th>\n",
       "        <th>Risk_Classification</th>\n",
       "    </tr>\n",
       "    <tr>\n",
       "        <td>AURICON</td>\n",
       "        <td>Scheduled (Planned)</td>\n",
       "        <td>2016</td>\n",
       "        <td>46</td>\n",
       "        <td>1.89</td>\n",
       "        <td>N/A</td>\n",
       "    </tr>\n",
       "    <tr>\n",
       "        <td>AURICON</td>\n",
       "        <td>Scheduled (Planned)</td>\n",
       "        <td>2017</td>\n",
       "        <td>45</td>\n",
       "        <td>1.45</td>\n",
       "        <td>N/A</td>\n",
       "    </tr>\n",
       "    <tr>\n",
       "        <td>AURICON</td>\n",
       "        <td>Opportunistic Maintenance (Planned)</td>\n",
       "        <td>2016</td>\n",
       "        <td>3</td>\n",
       "        <td>0.33</td>\n",
       "        <td>N/A</td>\n",
       "    </tr>\n",
       "</table>"
      ],
      "text/plain": [
       "[('AURICON', 'Scheduled (Planned)', 2016, 46, 1.89, 'N/A'),\n",
       " ('AURICON', 'Scheduled (Planned)', 2017, 45, 1.45, 'N/A'),\n",
       " ('AURICON', 'Opportunistic Maintenance (Planned)', 2016, 3, 0.33, 'N/A')]"
      ]
     },
     "execution_count": 202,
     "metadata": {},
     "output_type": "execute_result"
    }
   ],
   "source": []
  },
  {
   "cell_type": "markdown",
   "metadata": {},
   "source": [
    "<h1 style=\"color:#D4AF37\"> ⚡ Part II. Energy Losses & Market Reliability ⚡ </h1>"
   ]
  },
  {
   "cell_type": "markdown",
   "metadata": {},
   "source": [
    "When an energy provider provides energy to the market, they are making a commitment to the market and saying; “We will supply X amount of energy to the market under a contractual obligation.” However, in a situation where the outages are Forced, the energy provider intended to provide energy but are unable to provide energy and are forced offline. <b style=\"color:Maroon\">If many energy providers are forced offline at the same time it could cause an energy security risk that AEMR needs to mitigate. </b>\n",
    "\n",
    "To ensure this doesn’t happen, the AEMR is interested in exploring the following questions:\n",
    "\n",
    "<li> Of the outage types in 2016 and 2017, what percent were Forced Outage(s)?\n",
    "<li> What was the average duration for a forced outage during both 2016 and 2017? Have we seen an increase in the average duration of forced outages?\n",
    "<li> Which energy providers tended to have the largest number of forced outages?\n",
    "    \n",
    "<p>\n",
    "\n",
    "<b> We'll examine this in the questions below. </b>\n",
    "    \n",
    "<img src = \"https://media.istockphoto.com/id/1281821795/photo/market-stock-graph-and-information-with-city-light-and-electricity-and-energy-facility-banner.jpg?s=612x612&w=0&k=20&c=RSN5LqeMW28HW10aA190_DWR5YJ5tG2wixHFPBV3uZE=\">"
   ]
  },
  {
   "cell_type": "markdown",
   "metadata": {},
   "source": [
    "<h3 style=\"color:#D4AF37\"> Question Six </h3>"
   ]
  },
  {
   "cell_type": "markdown",
   "metadata": {},
   "source": [
    "<b> Write a SQL Statement to calculate the proportion of Forced Outages that have occurred over the 2016 - 2017 Period.\n",
    "Do we observe any particular increases regarding any Outage Types over this period? </b>\n",
    "\n",
    "<b> Hint: This is a great question to consider the use of a Sub-Query or the usage of a `SUM(CASE WHEN Column = 'X' THEN 1 ELSE 0 END)` Syntax. We've included an example below to help you get started regarding how to think about this problem!\n",
    "   \n",
    "~~~sql\n",
    "%%sql\n",
    "\n",
    "SELECT\n",
    "    COUNT(*) as Total_Outage_Events,\n",
    "    SUM(CASE WHEN Column = 'X' THEN 1 ELSE 0 END)` as Total_Count_Of_Forced_Events,\n",
    "    ....\n",
    "FROM Some_Database\n",
    "~~~"
   ]
  },
  {
   "cell_type": "markdown",
   "metadata": {},
   "source": [
    "<h4 style=\"color:Teal\"> Please write your SQL in the code window below </h4>"
   ]
  },
  {
   "cell_type": "code",
   "execution_count": null,
   "metadata": {},
   "outputs": [],
   "source": [
    "\n"
   ]
  },
  {
   "cell_type": "markdown",
   "metadata": {},
   "source": [
    "<h3 style = \"color:#5D3FD3\"> Expected Output (Sample) </h3>\n"
   ]
  },
  {
   "cell_type": "code",
   "execution_count": 18,
   "metadata": {},
   "outputs": [
    {
     "name": "stdout",
     "output_type": "stream",
     "text": [
      " * sqlite:///temp_db_file.db\n",
      "Done.\n"
     ]
    },
    {
     "data": {
      "text/html": [
       "<table>\n",
       "    <thead>\n",
       "        <tr>\n",
       "            <th>Year</th>\n",
       "            <th>Total_Number_Outages</th>\n",
       "            <th>Total_Number_Forced_Outage_Events</th>\n",
       "            <th>Pct_Outage_Forced</th>\n",
       "        </tr>\n",
       "    </thead>\n",
       "    <tbody>\n",
       "        <tr>\n",
       "            <td>2016</td>\n",
       "            <td>1931</td>\n",
       "            <td>1264</td>\n",
       "            <td>65.46</td>\n",
       "        </tr>\n",
       "        <tr>\n",
       "            <td>2017</td>\n",
       "            <td>2171</td>\n",
       "            <td>1622</td>\n",
       "            <td>74.71</td>\n",
       "        </tr>\n",
       "    </tbody>\n",
       "</table>"
      ],
      "text/plain": [
       "[(2016, 1931, 1264, 65.46), (2017, 2171, 1622, 74.71)]"
      ]
     },
     "execution_count": 18,
     "metadata": {},
     "output_type": "execute_result"
    }
   ],
   "source": []
  },
  {
   "cell_type": "markdown",
   "metadata": {},
   "source": [
    "Great. It's clear to see now that `Forced Outages` are problematic for us. Not only are they the only outage type that generates financial losses as the Outage is unplanned, it seems there is a number of Energy Participants who have been having a significantly high number of Outages.\n",
    "\n",
    "Now what can we do about this? \n",
    "\n",
    "Let's break our analysis down into Macro and Micro Analysis.\n",
    "The total gives us the Overall Duration a participant is offline / has lost energy, however, it doesn't tell us how *frequently* this occurs. In other words, if we have one or two very big outages, it might contribute to very large totals.\n",
    "\n",
    "However, perhaps an <b> average </b> can help us identify how big these Outages might really be, spread across the year!\n",
    "\n",
    "Let's take a look."
   ]
  },
  {
   "cell_type": "markdown",
   "metadata": {},
   "source": [
    "<h3 style=\"color:#D4AF37\"> Question Seven </h3>"
   ]
  },
  {
   "cell_type": "markdown",
   "metadata": {},
   "source": [
    "Write a SQL Statement to calculate the `Total Number of Outages`, `Total Duration In Days`and `Total Energy Lost` of all valid `Outages` for each `participant code` and `facility_code`, sorted by `Total Energy Lost` in descending order and Ordered by the YEAR Category. \n",
    "    "
   ]
  },
  {
   "cell_type": "markdown",
   "metadata": {},
   "source": [
    "<h4 style=\"color:Teal\"> Please write your SQL in the code window below </h4>"
   ]
  },
  {
   "cell_type": "code",
   "execution_count": null,
   "metadata": {},
   "outputs": [],
   "source": []
  },
  {
   "cell_type": "markdown",
   "metadata": {},
   "source": [
    "<h3 style = \"color:#5D3FD3\"> Expected Output (Sample) </h3>\n"
   ]
  },
  {
   "cell_type": "code",
   "execution_count": 204,
   "metadata": {},
   "outputs": [
    {
     "name": "stdout",
     "output_type": "stream",
     "text": [
      " * sqlite:///AEMR.db\n",
      "Done.\n"
     ]
    },
    {
     "data": {
      "text/html": [
       "<table>\n",
       "    <tr>\n",
       "        <th>Total_Number_Outages</th>\n",
       "        <th>Total_Duration_In_Days</th>\n",
       "        <th>Total_Energy_Lost</th>\n",
       "        <th>Outage_Reason</th>\n",
       "        <th>Participant_Code</th>\n",
       "        <th>Facility_Code</th>\n",
       "        <th>Year</th>\n",
       "    </tr>\n",
       "    <tr>\n",
       "        <td>70</td>\n",
       "        <td>482.58</td>\n",
       "        <td>7499.28</td>\n",
       "        <td>Scheduled (Planned)</td>\n",
       "        <td>MELK</td>\n",
       "        <td>MELK_G7</td>\n",
       "        <td>2017</td>\n",
       "    </tr>\n",
       "    <tr>\n",
       "        <td>177</td>\n",
       "        <td>404.15</td>\n",
       "        <td>10285.4</td>\n",
       "        <td>Forced</td>\n",
       "        <td>MELK</td>\n",
       "        <td>MELK_G7</td>\n",
       "        <td>2017</td>\n",
       "    </tr>\n",
       "    <tr>\n",
       "        <td>85</td>\n",
       "        <td>392.25</td>\n",
       "        <td>9668.79</td>\n",
       "        <td>Scheduled (Planned)</td>\n",
       "        <td>MELK</td>\n",
       "        <td>MELK_G7</td>\n",
       "        <td>2016</td>\n",
       "    </tr>\n",
       "    <tr>\n",
       "        <td>227</td>\n",
       "        <td>240.69</td>\n",
       "        <td>19326.56</td>\n",
       "        <td>Forced</td>\n",
       "        <td>GW</td>\n",
       "        <td>BW1_GREENWATERS_G2</td>\n",
       "        <td>2017</td>\n",
       "    </tr>\n",
       "    <tr>\n",
       "        <td>45</td>\n",
       "        <td>199.4</td>\n",
       "        <td>6450.0</td>\n",
       "        <td>Scheduled (Planned)</td>\n",
       "        <td>GW</td>\n",
       "        <td>BW1_GREENWATERS_G2</td>\n",
       "        <td>2016</td>\n",
       "    </tr>\n",
       "</table>"
      ],
      "text/plain": [
       "[(70, 482.58, 7499.28, 'Scheduled (Planned)', 'MELK', 'MELK_G7', 2017),\n",
       " (177, 404.15, 10285.4, 'Forced', 'MELK', 'MELK_G7', 2017),\n",
       " (85, 392.25, 9668.79, 'Scheduled (Planned)', 'MELK', 'MELK_G7', 2016),\n",
       " (227, 240.69, 19326.56, 'Forced', 'GW', 'BW1_GREENWATERS_G2', 2017),\n",
       " (45, 199.4, 6450.0, 'Scheduled (Planned)', 'GW', 'BW1_GREENWATERS_G2', 2016)]"
      ]
     },
     "execution_count": 204,
     "metadata": {},
     "output_type": "execute_result"
    }
   ],
   "source": []
  },
  {
   "cell_type": "markdown",
   "metadata": {},
   "source": [
    "<h3 style=\"color:#D4AF37\"> Question Eight </h3>"
   ]
  },
  {
   "cell_type": "markdown",
   "metadata": {},
   "source": [
    "<b> Write a SQL Statement to calculate the `Average Duration In Days`and `Average Energy Lost` of all valid `FORCED OUTAGES` for each `participant code` and `facility_code` sorted by `Average Energy Lost` in descending order and Ordered by the YEAR Category. \n"
   ]
  },
  {
   "cell_type": "markdown",
   "metadata": {},
   "source": [
    "<h4 style=\"color:Teal\"> Please write your SQL in the code window below </h4>"
   ]
  },
  {
   "cell_type": "code",
   "execution_count": null,
   "metadata": {},
   "outputs": [],
   "source": []
  },
  {
   "cell_type": "markdown",
   "metadata": {},
   "source": [
    "<h3 style = \"color:#5D3FD3\"> Expected Output (Sample) </h3>\n"
   ]
  },
  {
   "cell_type": "code",
   "execution_count": 205,
   "metadata": {},
   "outputs": [
    {
     "name": "stdout",
     "output_type": "stream",
     "text": [
      " * sqlite:///AEMR.db\n",
      "Done.\n"
     ]
    },
    {
     "data": {
      "text/html": [
       "<table>\n",
       "    <tr>\n",
       "        <th>Avg_Duration_In_Days</th>\n",
       "        <th>Avg_Energy_Lost</th>\n",
       "        <th>Outage_Reason</th>\n",
       "        <th>Participant_Code</th>\n",
       "        <th>Facility_Code</th>\n",
       "        <th>Year</th>\n",
       "    </tr>\n",
       "    <tr>\n",
       "        <td>5.9</td>\n",
       "        <td>5.89</td>\n",
       "        <td>Forced</td>\n",
       "        <td>EUCT</td>\n",
       "        <td>GRASMERE_WF1</td>\n",
       "        <td>2016</td>\n",
       "    </tr>\n",
       "    <tr>\n",
       "        <td>3.44</td>\n",
       "        <td>27.66</td>\n",
       "        <td>Forced</td>\n",
       "        <td>WGUTD</td>\n",
       "        <td>WEST_KALGOORLIE_GT2</td>\n",
       "        <td>2017</td>\n",
       "    </tr>\n",
       "    <tr>\n",
       "        <td>2.28</td>\n",
       "        <td>58.11</td>\n",
       "        <td>Forced</td>\n",
       "        <td>MELK</td>\n",
       "        <td>MELK_G7</td>\n",
       "        <td>2017</td>\n",
       "    </tr>\n",
       "</table>"
      ],
      "text/plain": [
       "[(5.9, 5.89, 'Forced', 'EUCT', 'GRASMERE_WF1', 2016),\n",
       " (3.44, 27.66, 'Forced', 'WGUTD', 'WEST_KALGOORLIE_GT2', 2017),\n",
       " (2.28, 58.11, 'Forced', 'MELK', 'MELK_G7', 2017)]"
      ]
     },
     "execution_count": 205,
     "metadata": {},
     "output_type": "execute_result"
    }
   ],
   "source": []
  },
  {
   "cell_type": "markdown",
   "metadata": {},
   "source": [
    "<h3> <span style=\"color:orange\"> Please note that Question Nine and Question Ten are Challenge Questions and will intentionally be more difficult </h3> "
   ]
  },
  {
   "cell_type": "markdown",
   "metadata": {},
   "source": [
    "<h3 style=\"color:#D4AF37\"> Question Nine </h3>"
   ]
  },
  {
   "cell_type": "markdown",
   "metadata": {},
   "source": [
    "<b> Write a SQL Statement to calculate the `Average Energy Lost` and `Total Energy Lost` for each `Facility Code` and `Participant Code` across both the 2016 and 2017 periods when the `Outage_Reason` is set to Forced. Upon completion of this, calculate the <u> percentage </u> of energy lost due to forced outages for each `Facility_Code`. Please ORDER the query by `Total Energy Lost` from 2016 to 2017.\n",
    "    \n",
    "From your analysis, which participants have contributed the most to the Energy Lost due to Forced Outages?\n"
   ]
  },
  {
   "cell_type": "markdown",
   "metadata": {},
   "source": [
    "<h4 style=\"color:Teal\"> Please write your SQL in the code window below </h4>"
   ]
  },
  {
   "cell_type": "code",
   "execution_count": null,
   "metadata": {},
   "outputs": [],
   "source": []
  },
  {
   "cell_type": "markdown",
   "metadata": {},
   "source": [
    "<h3 style = \"color:#5D3FD3\"> Expected Output (Sample) </h3>\n"
   ]
  },
  {
   "cell_type": "code",
   "execution_count": 206,
   "metadata": {},
   "outputs": [
    {
     "name": "stdout",
     "output_type": "stream",
     "text": [
      " * sqlite:///AEMR.db\n",
      "Done.\n"
     ]
    },
    {
     "data": {
      "text/html": [
       "<table>\n",
       "    <tr>\n",
       "        <th>Avg_Energy_Lost</th>\n",
       "        <th>Total_Energy_Lost</th>\n",
       "        <th>Pct_Energy_Loss</th>\n",
       "        <th>Outage_Reason</th>\n",
       "        <th>Participant_Code</th>\n",
       "        <th>Facility_Code</th>\n",
       "        <th>Year</th>\n",
       "    </tr>\n",
       "    <tr>\n",
       "        <td>44.16</td>\n",
       "        <td>21639.55</td>\n",
       "        <td>14.21</td>\n",
       "        <td>Forced</td>\n",
       "        <td>AURICON</td>\n",
       "        <td>AURICON_PNJ_U1</td>\n",
       "        <td>2017</td>\n",
       "    </tr>\n",
       "    <tr>\n",
       "        <td>85.14</td>\n",
       "        <td>19326.56</td>\n",
       "        <td>12.69</td>\n",
       "        <td>Forced</td>\n",
       "        <td>GW</td>\n",
       "        <td>BW1_GREENWATERS_G2</td>\n",
       "        <td>2017</td>\n",
       "    </tr>\n",
       "    <tr>\n",
       "        <td>49.69</td>\n",
       "        <td>15751.38</td>\n",
       "        <td>10.34</td>\n",
       "        <td>Forced</td>\n",
       "        <td>GW</td>\n",
       "        <td>BW1_GREENWATERS_G2</td>\n",
       "        <td>2016</td>\n",
       "    </tr>\n",
       "</table>"
      ],
      "text/plain": [
       "[(44.16, 21639.55, 14.21, 'Forced', 'AURICON', 'AURICON_PNJ_U1', 2017),\n",
       " (85.14, 19326.56, 12.69, 'Forced', 'GW', 'BW1_GREENWATERS_G2', 2017),\n",
       " (49.69, 15751.38, 10.34, 'Forced', 'GW', 'BW1_GREENWATERS_G2', 2016)]"
      ]
     },
     "execution_count": 206,
     "metadata": {},
     "output_type": "execute_result"
    }
   ],
   "source": []
  },
  {
   "cell_type": "markdown",
   "metadata": {},
   "source": [
    "<h3 style=\"color:#D4AF37\"> Question Ten </h3>"
   ]
  },
  {
   "cell_type": "markdown",
   "metadata": {},
   "source": [
    "<b>Having identified the top 3 participants by Total Energy Loss being `GW`, `MELK` and `Auricon`; Write a SQL Statement calculating the `Total_Energy_Lost` each of these three `Participant_Codes` and the `Facility_Code`. Additionally, identify the `Description_Of_Outage` associated with the highest `Total_Energy_Lost` for each of the `Participant_Codes` and `Facility_Code` for each of the three participants. \n",
    "    \n",
    "<u>Lastly, calculate the percentage of Energy Loss, attributed to these reasons!</u> </b>\n",
    "\n",
    "<b> ⚠️ Hint: As this is the final question, this is a bit of a <b> challenge question </b> which will involve some SQL functions you're not familiar with just yet. In the workplace, you're going to have to grow familiar with googling and searching for functions that you may have not learned or be familiar with. In this question, to identify the TOP `Description_Of_Outage` reason for each Participant, you're going to need to use `PARTITION BY`. You can read all about the approach you can take in this example <a href = \"https://learnsql.com/cookbook/how-to-rank-rows-within-a-partition-in-sql/#:~:text=To%20partition%20rows%20and%20rank,rank%20rows%20within%20a%20partition.\"> here </a>. Good luck! "
   ]
  },
  {
   "cell_type": "markdown",
   "metadata": {},
   "source": [
    "<h4 style=\"color:Teal\"> Please write your SQL in the code window below </h4>"
   ]
  },
  {
   "cell_type": "code",
   "execution_count": null,
   "metadata": {},
   "outputs": [],
   "source": []
  },
  {
   "cell_type": "markdown",
   "metadata": {},
   "source": [
    "<h3 style = \"color:#5D3FD3\"> Expected Output (Sample) </h3>\n"
   ]
  },
  {
   "cell_type": "code",
   "execution_count": 198,
   "metadata": {},
   "outputs": [
    {
     "name": "stdout",
     "output_type": "stream",
     "text": [
      " * sqlite:///AEMR.db\n",
      "Done.\n"
     ]
    },
    {
     "data": {
      "text/html": [
       "<table>\n",
       "    <tr>\n",
       "        <th>Participant_Code</th>\n",
       "        <th>Facility_Code</th>\n",
       "        <th>Description_Of_Outage</th>\n",
       "        <th>Total_Energy_Lost</th>\n",
       "        <th>Pct_Energy_Loss</th>\n",
       "        <th>rank</th>\n",
       "    </tr>\n",
       "    <tr>\n",
       "        <td>AURICON</td>\n",
       "        <td>AURICON_PNJ_U1</td>\n",
       "        <td>Full unit trip</td>\n",
       "        <td>6033.87</td>\n",
       "        <td>3.96</td>\n",
       "        <td>1</td>\n",
       "    </tr>\n",
       "    <tr>\n",
       "        <td>GW</td>\n",
       "        <td>BW1_GREENWATERS_G2</td>\n",
       "        <td>Operational Issues caused real time forced outage.</td>\n",
       "        <td>28687.54</td>\n",
       "        <td>18.84</td>\n",
       "        <td>1</td>\n",
       "    </tr>\n",
       "    <tr>\n",
       "        <td>MELK</td>\n",
       "        <td>MELK_G7</td>\n",
       "        <td>Safety Issues</td>\n",
       "        <td>1100.0</td>\n",
       "        <td>0.72</td>\n",
       "        <td>1</td>\n",
       "    </tr>\n",
       "</table>"
      ],
      "text/plain": [
       "[('AURICON', 'AURICON_PNJ_U1', 'Full unit trip', 6033.87, 3.96, 1),\n",
       " ('GW', 'BW1_GREENWATERS_G2', 'Operational Issues caused real time forced outage.', 28687.54, 18.84, 1),\n",
       " ('MELK', 'MELK_G7', 'Safety Issues', 1100.0, 0.72, 1)]"
      ]
     },
     "execution_count": 198,
     "metadata": {},
     "output_type": "execute_result"
    }
   ],
   "source": []
  },
  {
   "cell_type": "markdown",
   "metadata": {},
   "source": [
    "Well done! That's a Wrap! We've now analyzed all the data we need to answer Management's Question.\n",
    "You'll now move to the next part of your analysis where you'll be proceeding with creating your story in Tableau using the insights you've gathered from your SQL Analysis! \n",
    "\n",
    "Let's now switch to Part II of our Analysis in Tableau!!\n",
    "\n",
    "<img src = https://www.energymagazine.com.au/wp-content/uploads/2021/05/shutterstock_1888482466-e1620278098312.jpg>\n"
   ]
  },
  {
   "cell_type": "markdown",
   "metadata": {},
   "source": [
    "## Appendix: SQL Cheat Sheet\n",
    "\n",
    "**SELECT**\n",
    "\n",
    "```SQL\n",
    "- SELECT * FROM table_name -- Select all columns from a table\n",
    "- SELECT column_name(s) FROM table_name -- Select some columns from a table\n",
    "- SELECT DISTINCT column_name(s) FROM table_name -- Select only the different values\n",
    "- SELECT column_name(s) FROM table_name -- Select data filtered with the WHERE clause\n",
    "  WHERE condition\n",
    "- SELECT column_name(s) FROM table_name -- Order data by multiple columns. DESC for descending \n",
    "  ORDER BY column_1, column_2 DESC, column_3 ASC -- and ASC (optional) for ascending order\n",
    "```\n",
    "\n",
    "**Operators**\n",
    "- `<` - Less than\n",
    "- `>` - Greater than\n",
    "- `<=` - Less than or equal\n",
    "- `>=` - Greater than or equal\n",
    "- `<>` - Not equal\n",
    "- `=` - Equal\n",
    "- `BETWEEN v1 AND v2` - Between a specified range\n",
    "- `LIKE` - Search pattern. Use `%` as a wildcard. E.g., `%o%` matches \"o\", \"bob\", \"blob\", etc.\n",
    "\n",
    "**Aggregate Functions**\n",
    "- `AVG(column)` - Returns the average value of a column\n",
    "- `COUNT(column)` - Returns the number of rows (without a NULL value) of a column\n",
    "- `MAX(column)` - Returns the maximum value of a column\n",
    "- `MIN(column)` - Returns the minimum value of a column\n",
    "- `SUM(column)` - Returns the sum of a column\n",
    "```SQL\n",
    "SELECT AVG(column_name), MIN(column_name), MAX(column_name) FROM table_name\n",
    "```\n",
    " \n",
    "**Miscellaneous**\n",
    "- `CASE...END` - Used in `SELECT` queries to alter a variable in place. E.g.\n",
    "```SQL\n",
    "SELECT column_name\n",
    "    CASE\n",
    "        WHEN column_name >= 0 THEN 'POSITIVE'\n",
    "        ELSE 'NEGATIVE'\n",
    "    END\n",
    "FROM table\n",
    "```\n",
    "- `AS` - Used to rename a variable. E.g.\n",
    "```SQL\n",
    "SELECT SUM(column_name) AS total_column_name FROM table_name\n",
    "```\n",
    "- `GROUP BY` - Used to group rows that share the same value(s) in particular column(s). It is mostly used along with aggregation functions\n",
    "- `ORDER BY` - Determines the order in which the rows are returned by an SQL query"
   ]
  }
 ],
 "metadata": {
  "c1_recart": "7.18.0-57c20131aabc1dc2a8c675852d80a7da",
  "kernelspec": {
   "display_name": "Python 3 (ipykernel)",
   "language": "python",
   "name": "python3"
  },
  "language_info": {
   "codemirror_mode": {
    "name": "ipython",
    "version": 3
   },
   "file_extension": ".py",
   "mimetype": "text/x-python",
   "name": "python",
   "nbconvert_exporter": "python",
   "pygments_lexer": "ipython3",
   "version": "3.11.3"
  }
 },
 "nbformat": 4,
 "nbformat_minor": 2
}
