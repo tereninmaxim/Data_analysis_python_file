{
 "cells": [
  {
   "cell_type": "code",
   "execution_count": 1,
   "id": "1cbecbb9-5313-41a2-a272-d77441490970",
   "metadata": {},
   "outputs": [],
   "source": [
    "import numpy as np\n",
    "import pandas as pd\n",
    "import matplotlib as plt\n",
    "import seaborn as sns"
   ]
  },
  {
   "cell_type": "code",
   "execution_count": 9,
   "id": "7525c301-f1cf-42d4-a1ce-7c9edb2d7c0a",
   "metadata": {},
   "outputs": [],
   "source": [
    "df = pd.read_csv(r\"C:\\Users\\teren\\Downloads\\world_internet_user.csv\", encoding='ISO-8859-1')"
   ]
  },
  {
   "cell_type": "code",
   "execution_count": 11,
   "id": "6beee7aa-c4e0-46ed-a793-b1bd378e0437",
   "metadata": {},
   "outputs": [
    {
     "data": {
      "text/html": [
       "<div>\n",
       "<style scoped>\n",
       "    .dataframe tbody tr th:only-of-type {\n",
       "        vertical-align: middle;\n",
       "    }\n",
       "\n",
       "    .dataframe tbody tr th {\n",
       "        vertical-align: top;\n",
       "    }\n",
       "\n",
       "    .dataframe thead th {\n",
       "        text-align: right;\n",
       "    }\n",
       "</style>\n",
       "<table border=\"1\" class=\"dataframe\">\n",
       "  <thead>\n",
       "    <tr style=\"text-align: right;\">\n",
       "      <th></th>\n",
       "      <th>Country</th>\n",
       "      <th>Region</th>\n",
       "      <th>Population</th>\n",
       "      <th>Internet Users</th>\n",
       "      <th>% of Population</th>\n",
       "    </tr>\n",
       "  </thead>\n",
       "  <tbody>\n",
       "    <tr>\n",
       "      <th>0</th>\n",
       "      <td>_World</td>\n",
       "      <td>NaN</td>\n",
       "      <td>7920539977</td>\n",
       "      <td>5424080321</td>\n",
       "      <td>68.48</td>\n",
       "    </tr>\n",
       "    <tr>\n",
       "      <th>1</th>\n",
       "      <td>Afganistan</td>\n",
       "      <td>Asia</td>\n",
       "      <td>40403518</td>\n",
       "      <td>9237489</td>\n",
       "      <td>22.86</td>\n",
       "    </tr>\n",
       "    <tr>\n",
       "      <th>2</th>\n",
       "      <td>Albania</td>\n",
       "      <td>Europe</td>\n",
       "      <td>2872758</td>\n",
       "      <td>2191467</td>\n",
       "      <td>76.28</td>\n",
       "    </tr>\n",
       "  </tbody>\n",
       "</table>\n",
       "</div>"
      ],
      "text/plain": [
       "      Country  Region  Population  Internet Users  % of Population\n",
       "0      _World     NaN  7920539977      5424080321            68.48\n",
       "1  Afganistan    Asia    40403518         9237489            22.86\n",
       "2     Albania  Europe     2872758         2191467            76.28"
      ]
     },
     "execution_count": 11,
     "metadata": {},
     "output_type": "execute_result"
    }
   ],
   "source": [
    "df.head(3)"
   ]
  },
  {
   "cell_type": "code",
   "execution_count": 13,
   "id": "f1ae47fd-5f3c-402f-b7f5-acce92c7b780",
   "metadata": {},
   "outputs": [
    {
     "data": {
      "text/plain": [
       "(243, 5)"
      ]
     },
     "execution_count": 13,
     "metadata": {},
     "output_type": "execute_result"
    }
   ],
   "source": [
    "df.shape"
   ]
  },
  {
   "cell_type": "code",
   "execution_count": 15,
   "id": "832a658c-e5ee-48a5-ba6b-b074d96ba878",
   "metadata": {},
   "outputs": [
    {
     "data": {
      "text/html": [
       "<div>\n",
       "<style scoped>\n",
       "    .dataframe tbody tr th:only-of-type {\n",
       "        vertical-align: middle;\n",
       "    }\n",
       "\n",
       "    .dataframe tbody tr th {\n",
       "        vertical-align: top;\n",
       "    }\n",
       "\n",
       "    .dataframe thead th {\n",
       "        text-align: right;\n",
       "    }\n",
       "</style>\n",
       "<table border=\"1\" class=\"dataframe\">\n",
       "  <thead>\n",
       "    <tr style=\"text-align: right;\">\n",
       "      <th></th>\n",
       "      <th>Population</th>\n",
       "      <th>Internet Users</th>\n",
       "      <th>% of Population</th>\n",
       "    </tr>\n",
       "  </thead>\n",
       "  <tbody>\n",
       "    <tr>\n",
       "      <th>count</th>\n",
       "      <td>2.430000e+02</td>\n",
       "      <td>2.430000e+02</td>\n",
       "      <td>243.000000</td>\n",
       "    </tr>\n",
       "    <tr>\n",
       "      <th>mean</th>\n",
       "      <td>6.518963e+07</td>\n",
       "      <td>4.464264e+07</td>\n",
       "      <td>69.921111</td>\n",
       "    </tr>\n",
       "    <tr>\n",
       "      <th>std</th>\n",
       "      <td>5.235850e+08</td>\n",
       "      <td>3.579556e+08</td>\n",
       "      <td>27.426974</td>\n",
       "    </tr>\n",
       "    <tr>\n",
       "      <th>min</th>\n",
       "      <td>5.960000e+02</td>\n",
       "      <td>4.140000e+02</td>\n",
       "      <td>0.080000</td>\n",
       "    </tr>\n",
       "    <tr>\n",
       "      <th>25%</th>\n",
       "      <td>3.321120e+05</td>\n",
       "      <td>2.049585e+05</td>\n",
       "      <td>52.190000</td>\n",
       "    </tr>\n",
       "    <tr>\n",
       "      <th>50%</th>\n",
       "      <td>5.302778e+06</td>\n",
       "      <td>2.864000e+06</td>\n",
       "      <td>77.940000</td>\n",
       "    </tr>\n",
       "    <tr>\n",
       "      <th>75%</th>\n",
       "      <td>2.025171e+07</td>\n",
       "      <td>9.898751e+06</td>\n",
       "      <td>91.010000</td>\n",
       "    </tr>\n",
       "    <tr>\n",
       "      <th>max</th>\n",
       "      <td>7.920540e+09</td>\n",
       "      <td>5.424080e+09</td>\n",
       "      <td>120.700000</td>\n",
       "    </tr>\n",
       "  </tbody>\n",
       "</table>\n",
       "</div>"
      ],
      "text/plain": [
       "         Population  Internet Users  % of Population\n",
       "count  2.430000e+02    2.430000e+02       243.000000\n",
       "mean   6.518963e+07    4.464264e+07        69.921111\n",
       "std    5.235850e+08    3.579556e+08        27.426974\n",
       "min    5.960000e+02    4.140000e+02         0.080000\n",
       "25%    3.321120e+05    2.049585e+05        52.190000\n",
       "50%    5.302778e+06    2.864000e+06        77.940000\n",
       "75%    2.025171e+07    9.898751e+06        91.010000\n",
       "max    7.920540e+09    5.424080e+09       120.700000"
      ]
     },
     "execution_count": 15,
     "metadata": {},
     "output_type": "execute_result"
    }
   ],
   "source": [
    "df.describe()"
   ]
  },
  {
   "cell_type": "code",
   "execution_count": 19,
   "id": "911032fd-07b6-41e7-878c-c8014be415cb",
   "metadata": {},
   "outputs": [
    {
     "name": "stdout",
     "output_type": "stream",
     "text": [
      "<class 'pandas.core.frame.DataFrame'>\n",
      "RangeIndex: 243 entries, 0 to 242\n",
      "Data columns (total 5 columns):\n",
      " #   Column           Non-Null Count  Dtype  \n",
      "---  ------           --------------  -----  \n",
      " 0   Country          243 non-null    object \n",
      " 1   Region           242 non-null    object \n",
      " 2   Population       243 non-null    int64  \n",
      " 3   Internet Users   243 non-null    int64  \n",
      " 4   % of Population  243 non-null    float64\n",
      "dtypes: float64(1), int64(2), object(2)\n",
      "memory usage: 9.6+ KB\n"
     ]
    }
   ],
   "source": [
    "df.info()"
   ]
  },
  {
   "cell_type": "code",
   "execution_count": 23,
   "id": "223906f5-6bb6-4a23-9f49-eb352ddf14d2",
   "metadata": {},
   "outputs": [
    {
     "data": {
      "text/plain": [
       "Index(['Country', 'Region', 'Population', 'Internet Users', '% of Population'], dtype='object')"
      ]
     },
     "execution_count": 23,
     "metadata": {},
     "output_type": "execute_result"
    }
   ],
   "source": [
    "df.columns"
   ]
  },
  {
   "cell_type": "code",
   "execution_count": 25,
   "id": "1f111219-e192-4d3c-8441-8610844ba009",
   "metadata": {},
   "outputs": [
    {
     "data": {
      "text/plain": [
       "10848160642"
      ]
     },
     "execution_count": 25,
     "metadata": {},
     "output_type": "execute_result"
    }
   ],
   "source": [
    "df['Internet Users'].sum()"
   ]
  },
  {
   "cell_type": "code",
   "execution_count": 27,
   "id": "cb99b79a-9fd3-4684-92d5-b0ac115c1234",
   "metadata": {},
   "outputs": [
    {
     "data": {
      "text/plain": [
       "Country            0\n",
       "Region             1\n",
       "Population         0\n",
       "Internet Users     0\n",
       "% of Population    0\n",
       "dtype: int64"
      ]
     },
     "execution_count": 27,
     "metadata": {},
     "output_type": "execute_result"
    }
   ],
   "source": [
    "df.isnull().sum()"
   ]
  },
  {
   "cell_type": "code",
   "execution_count": 45,
   "id": "b969a18a-4866-4c2f-9d06-ffa6169d7732",
   "metadata": {},
   "outputs": [],
   "source": [
    "def str_num(p: str):\n",
    "    dig = p.split(',')\n",
    "    num = \"\".join(dig)\n",
    "    return int(num)"
   ]
  },
  {
   "cell_type": "code",
   "execution_count": 47,
   "id": "7a27656c-ddc8-46a6-a2f2-1170efa4f692",
   "metadata": {},
   "outputs": [
    {
     "data": {
      "text/plain": [
       "123345999"
      ]
     },
     "execution_count": 47,
     "metadata": {},
     "output_type": "execute_result"
    }
   ],
   "source": [
    "str_num('123,345,999')"
   ]
  },
  {
   "cell_type": "code",
   "execution_count": 55,
   "id": "e878af21-bd71-4dad-b28c-c0838c88a204",
   "metadata": {},
   "outputs": [],
   "source": [
    "# df['Population'] = pd.Series(map(str_num, df['Population']))"
   ]
  },
  {
   "cell_type": "code",
   "execution_count": 57,
   "id": "45298ada-f017-4278-9801-22a8a9026c8d",
   "metadata": {},
   "outputs": [],
   "source": [
    "df1 = pd.read_csv(r\"C:\\Users\\teren\\Downloads\\nov23-cps.csv\")"
   ]
  },
  {
   "cell_type": "code",
   "execution_count": 58,
   "id": "5fe7f8c9-3996-4580-9ce3-b48d0cb19d19",
   "metadata": {},
   "outputs": [
    {
     "data": {
      "text/html": [
       "<div>\n",
       "<style scoped>\n",
       "    .dataframe tbody tr th:only-of-type {\n",
       "        vertical-align: middle;\n",
       "    }\n",
       "\n",
       "    .dataframe tbody tr th {\n",
       "        vertical-align: top;\n",
       "    }\n",
       "\n",
       "    .dataframe thead th {\n",
       "        text-align: right;\n",
       "    }\n",
       "</style>\n",
       "<table border=\"1\" class=\"dataframe\">\n",
       "  <thead>\n",
       "    <tr style=\"text-align: right;\">\n",
       "      <th></th>\n",
       "      <th>hrhhid</th>\n",
       "      <th>hrmonth</th>\n",
       "      <th>hryear4</th>\n",
       "      <th>hurespli</th>\n",
       "      <th>hufinal</th>\n",
       "      <th>hetenure</th>\n",
       "      <th>hehousut</th>\n",
       "      <th>hetelhhd</th>\n",
       "      <th>hetelavl</th>\n",
       "      <th>hephoneo</th>\n",
       "      <th>...</th>\n",
       "      <th>rewgt151</th>\n",
       "      <th>rewgt152</th>\n",
       "      <th>rewgt153</th>\n",
       "      <th>rewgt154</th>\n",
       "      <th>rewgt155</th>\n",
       "      <th>rewgt156</th>\n",
       "      <th>rewgt157</th>\n",
       "      <th>rewgt158</th>\n",
       "      <th>rewgt159</th>\n",
       "      <th>rewgt160</th>\n",
       "    </tr>\n",
       "  </thead>\n",
       "  <tbody>\n",
       "    <tr>\n",
       "      <th>0</th>\n",
       "      <td>110008290875961</td>\n",
       "      <td>11</td>\n",
       "      <td>2023</td>\n",
       "      <td>-1</td>\n",
       "      <td>226</td>\n",
       "      <td>-1</td>\n",
       "      <td>1</td>\n",
       "      <td>-1</td>\n",
       "      <td>-1</td>\n",
       "      <td>1</td>\n",
       "      <td>...</td>\n",
       "      <td>NaN</td>\n",
       "      <td>NaN</td>\n",
       "      <td>NaN</td>\n",
       "      <td>NaN</td>\n",
       "      <td>NaN</td>\n",
       "      <td>NaN</td>\n",
       "      <td>NaN</td>\n",
       "      <td>NaN</td>\n",
       "      <td>NaN</td>\n",
       "      <td>NaN</td>\n",
       "    </tr>\n",
       "    <tr>\n",
       "      <th>1</th>\n",
       "      <td>152130010023084</td>\n",
       "      <td>11</td>\n",
       "      <td>2023</td>\n",
       "      <td>1</td>\n",
       "      <td>201</td>\n",
       "      <td>1</td>\n",
       "      <td>1</td>\n",
       "      <td>1</td>\n",
       "      <td>-1</td>\n",
       "      <td>1</td>\n",
       "      <td>...</td>\n",
       "      <td>NaN</td>\n",
       "      <td>NaN</td>\n",
       "      <td>NaN</td>\n",
       "      <td>NaN</td>\n",
       "      <td>NaN</td>\n",
       "      <td>NaN</td>\n",
       "      <td>NaN</td>\n",
       "      <td>NaN</td>\n",
       "      <td>NaN</td>\n",
       "      <td>NaN</td>\n",
       "    </tr>\n",
       "    <tr>\n",
       "      <th>2</th>\n",
       "      <td>152130010023084</td>\n",
       "      <td>11</td>\n",
       "      <td>2023</td>\n",
       "      <td>1</td>\n",
       "      <td>201</td>\n",
       "      <td>1</td>\n",
       "      <td>1</td>\n",
       "      <td>1</td>\n",
       "      <td>-1</td>\n",
       "      <td>1</td>\n",
       "      <td>...</td>\n",
       "      <td>1213.2374</td>\n",
       "      <td>3073.945</td>\n",
       "      <td>1224.8011</td>\n",
       "      <td>3065.844</td>\n",
       "      <td>1295.0831</td>\n",
       "      <td>3187.3864</td>\n",
       "      <td>3324.6645</td>\n",
       "      <td>3212.9233</td>\n",
       "      <td>3192.5312</td>\n",
       "      <td>1238.2671</td>\n",
       "    </tr>\n",
       "  </tbody>\n",
       "</table>\n",
       "<p>3 rows × 1037 columns</p>\n",
       "</div>"
      ],
      "text/plain": [
       "            hrhhid  hrmonth  hryear4  hurespli  hufinal  hetenure  hehousut  \\\n",
       "0  110008290875961       11     2023        -1      226        -1         1   \n",
       "1  152130010023084       11     2023         1      201         1         1   \n",
       "2  152130010023084       11     2023         1      201         1         1   \n",
       "\n",
       "   hetelhhd  hetelavl  hephoneo  ...   rewgt151  rewgt152   rewgt153  \\\n",
       "0        -1        -1         1  ...        NaN       NaN        NaN   \n",
       "1         1        -1         1  ...        NaN       NaN        NaN   \n",
       "2         1        -1         1  ...  1213.2374  3073.945  1224.8011   \n",
       "\n",
       "   rewgt154   rewgt155   rewgt156   rewgt157   rewgt158   rewgt159   rewgt160  \n",
       "0       NaN        NaN        NaN        NaN        NaN        NaN        NaN  \n",
       "1       NaN        NaN        NaN        NaN        NaN        NaN        NaN  \n",
       "2  3065.844  1295.0831  3187.3864  3324.6645  3212.9233  3192.5312  1238.2671  \n",
       "\n",
       "[3 rows x 1037 columns]"
      ]
     },
     "execution_count": 58,
     "metadata": {},
     "output_type": "execute_result"
    }
   ],
   "source": [
    "df1.head(3)"
   ]
  },
  {
   "cell_type": "code",
   "execution_count": 61,
   "id": "b1afeb50-b6cc-4ab3-b5b0-7ab070cfe93c",
   "metadata": {},
   "outputs": [
    {
     "data": {
      "text/plain": [
       "hrhhid          0\n",
       "hrmonth         0\n",
       "hryear4         0\n",
       "hurespli        0\n",
       "hufinal         0\n",
       "            ...  \n",
       "rewgt156    90269\n",
       "rewgt157    90269\n",
       "rewgt158    90269\n",
       "rewgt159    90269\n",
       "rewgt160    90269\n",
       "Length: 1037, dtype: int64"
      ]
     },
     "execution_count": 61,
     "metadata": {},
     "output_type": "execute_result"
    }
   ],
   "source": [
    "df1.isnull().sum()"
   ]
  },
  {
   "cell_type": "code",
   "execution_count": 63,
   "id": "17d6733d-a833-47b1-8374-a7a0b2d189d9",
   "metadata": {},
   "outputs": [
    {
     "data": {
      "text/plain": [
       "array([6.8480e+01, 2.2860e+01, 7.6280e+01, 8.3800e+01, 6.3280e+01,\n",
       "       9.4370e+01, 2.5960e+01, 8.9770e+01, 1.0000e+02, 8.0330e+01,\n",
       "       9.1560e+01, 7.7000e+01, 1.0400e+02, 9.0000e+01, 8.8000e+01,\n",
       "       8.5000e+01, 8.7000e+01, 7.7180e+01, 7.9860e+01, 9.2000e+01,\n",
       "       7.4510e+01, 3.0040e+01, 1.0009e+02, 7.4330e+01, 7.4590e+01,\n",
       "       7.8720e+01, 8.7080e+01, 5.1320e+01, 8.2830e+01, 8.1890e+01,\n",
       "       1.1968e+02, 7.0000e+01, 2.1010e+01, 1.2860e+01, 6.2240e+01,\n",
       "       8.1140e+01, 3.3130e+01, 9.7000e+01, 1.1017e+02, 1.1210e+01,\n",
       "       1.3000e+01, 9.7170e+01, 6.9790e+01, 6.5710e+01, 6.9460e+01,\n",
       "       8.7770e+01, 2.5420e+01, 1.6200e+01, 1.7370e+01, 7.4470e+01,\n",
       "       8.5600e+01, 4.4600e+01, 9.3600e+01, 7.4000e+01, 9.1580e+01,\n",
       "       1.0807e+02, 8.6800e+01, 9.7670e+01, 5.4260e+01, 7.1940e+01,\n",
       "       8.7190e+01, 5.1870e+01, 7.4860e+01, 2.4490e+01, 6.8400e+00,\n",
       "       9.6130e+01, 5.6390e+01, 1.7660e+01, 9.8550e+01, 9.8630e+01,\n",
       "       7.5850e+01, 9.4080e+01, 9.2240e+01, 5.2210e+01, 8.1110e+01,\n",
       "       5.9110e+01, 1.7460e+01, 9.1240e+01, 9.3950e+01, 4.5930e+01,\n",
       "       9.7810e+01, 7.8470e+01, 9.1340e+01, 8.1330e+01, 7.2480e+01,\n",
       "       1.0583e+02, 5.8210e+01, 1.8580e+01, 4.3990e+01, 7.2680e+01,\n",
       "       3.5000e+01, 5.4560e+01, 8.8050e+01, 8.9270e+01, 9.9570e+01,\n",
       "       5.9460e+01, 7.6310e+01, 9.1030e+01, 7.4310e+01, 9.0850e+01,\n",
       "       6.8000e+01, 9.3260e+01, 8.3860e+01, 8.3890e+01, 8.6000e+01,\n",
       "       8.4070e+01, 4.9870e+01, 8.0000e-02, 9.0420e+01, 9.9000e+01,\n",
       "       5.4960e+01, 5.7540e+01, 8.4000e+01, 3.1480e+01, 1.4920e+01,\n",
       "       9.4790e+01, 9.7790e+01, 9.5210e+01, 1.0070e+01, 1.3830e+01,\n",
       "       9.3760e+01, 8.0210e+01, 5.9840e+01, 1.0786e+02, 8.3010e+01,\n",
       "       4.1770e+01, 8.0920e+01, 2.0300e+01, 7.2170e+01, 3.8620e+01,\n",
       "       8.4110e+01, 4.8010e+01, 7.6330e+01, 8.9180e+01, 6.8040e+01,\n",
       "       6.8520e+01, 2.0280e+01, 5.2080e+01, 9.3270e+01, 7.2970e+01,\n",
       "       9.5280e+01, 8.2000e+01, 9.3350e+01, 6.3260e+01, 1.3390e+01,\n",
       "       7.2990e+01, 9.0330e+01, 4.5770e+01, 8.1000e+01, 7.7940e+01,\n",
       "       9.8140e+01, 9.5000e+01, 5.0860e+01, 1.0365e+02, 7.5000e+01,\n",
       "       7.7070e+01, 1.1910e+01, 8.4900e+01, 8.7760e+01, 9.0990e+01,\n",
       "       9.1500e+01, 8.8150e+01, 1.1091e+02, 1.0732e+02, 6.7430e+01,\n",
       "       7.8000e+01, 8.5340e+01, 4.5050e+01, 3.7790e+01, 7.7290e+01,\n",
       "       7.0550e+01, 6.0000e+01, 2.8590e+01, 9.8000e+01, 5.6700e+01,\n",
       "       7.2090e+01, 1.2820e+01, 8.9520e+01, 2.4090e+01, 1.2770e+01,\n",
       "       7.9100e+00, 9.3000e+01, 4.1190e+01, 7.1320e+01, 8.5110e+01,\n",
       "       5.0050e+01, 9.0450e+01, 8.1790e+01, 2.9220e+01, 9.7980e+01,\n",
       "       9.7300e+01, 9.6210e+01, 4.6640e+01, 9.4780e+01, 3.0440e+01,\n",
       "       3.7630e+01, 8.8320e+01, 3.7860e+01, 1.1930e+01, 5.7760e+01,\n",
       "       7.4390e+01, 8.1190e+01, 6.8450e+01, 8.4460e+01, 2.5300e+01,\n",
       "       9.3480e+01, 5.3180e+01, 3.9260e+01, 9.4450e+01, 1.2070e+02,\n",
       "       9.3170e+01, 9.3380e+01, 6.4830e+01, 5.0070e+01, 3.8480e+01,\n",
       "       7.2510e+01, 7.8700e+01, 5.6710e+01, 4.5800e+00, 2.7000e+01,\n",
       "       5.2170e+01, 5.5660e+01])"
      ]
     },
     "execution_count": 63,
     "metadata": {},
     "output_type": "execute_result"
    }
   ],
   "source": [
    "df['% of Population'].unique()"
   ]
  },
  {
   "cell_type": "code",
   "execution_count": 111,
   "id": "8f23ec46-cba0-40f3-bf1d-de8c1cb9ae13",
   "metadata": {},
   "outputs": [],
   "source": [
    "def per_culc(percent: str):\n",
    "    res = ''\n",
    "    for i in percent:\n",
    "        if i != '%':\n",
    "            res = res + i\n",
    "            # print(res)\n",
    "        else:\n",
    "            break\n",
    "    return float(res)"
   ]
  },
  {
   "cell_type": "code",
   "execution_count": 115,
   "id": "7a4391c3-7c07-4d12-8caf-284d480504ba",
   "metadata": {},
   "outputs": [
    {
     "data": {
      "text/plain": [
       "42.5"
      ]
     },
     "execution_count": 115,
     "metadata": {},
     "output_type": "execute_result"
    }
   ],
   "source": [
    "per_culc('42.5%')"
   ]
  },
  {
   "cell_type": "code",
   "execution_count": 95,
   "id": "56f50e0c-362b-4c3c-a3e5-24c752e4e6b8",
   "metadata": {},
   "outputs": [
    {
     "name": "stdout",
     "output_type": "stream",
     "text": [
      "45.0\n"
     ]
    }
   ],
   "source": [
    "res1 = ''\n",
    "for i in '45':\n",
    "    res1 = res1 + i\n",
    "print(float(res1))\n",
    "    "
   ]
  },
  {
   "cell_type": "code",
   "execution_count": 117,
   "id": "e6c5e551-6770-4463-ae6b-26db80a5a877",
   "metadata": {},
   "outputs": [
    {
     "data": {
      "text/html": [
       "<div>\n",
       "<style scoped>\n",
       "    .dataframe tbody tr th:only-of-type {\n",
       "        vertical-align: middle;\n",
       "    }\n",
       "\n",
       "    .dataframe tbody tr th {\n",
       "        vertical-align: top;\n",
       "    }\n",
       "\n",
       "    .dataframe thead th {\n",
       "        text-align: right;\n",
       "    }\n",
       "</style>\n",
       "<table border=\"1\" class=\"dataframe\">\n",
       "  <thead>\n",
       "    <tr style=\"text-align: right;\">\n",
       "      <th></th>\n",
       "      <th>Country</th>\n",
       "      <th>Region</th>\n",
       "      <th>Population</th>\n",
       "      <th>Internet Users</th>\n",
       "      <th>% of Population</th>\n",
       "    </tr>\n",
       "  </thead>\n",
       "  <tbody>\n",
       "    <tr>\n",
       "      <th>0</th>\n",
       "      <td>_World</td>\n",
       "      <td>NaN</td>\n",
       "      <td>7920539977</td>\n",
       "      <td>5424080321</td>\n",
       "      <td>68.48</td>\n",
       "    </tr>\n",
       "    <tr>\n",
       "      <th>1</th>\n",
       "      <td>Afganistan</td>\n",
       "      <td>Asia</td>\n",
       "      <td>40403518</td>\n",
       "      <td>9237489</td>\n",
       "      <td>22.86</td>\n",
       "    </tr>\n",
       "  </tbody>\n",
       "</table>\n",
       "</div>"
      ],
      "text/plain": [
       "      Country Region  Population  Internet Users  % of Population\n",
       "0      _World    NaN  7920539977      5424080321            68.48\n",
       "1  Afganistan   Asia    40403518         9237489            22.86"
      ]
     },
     "execution_count": 117,
     "metadata": {},
     "output_type": "execute_result"
    }
   ],
   "source": [
    "df.head(2)"
   ]
  },
  {
   "cell_type": "code",
   "execution_count": 123,
   "id": "860d079a-d44f-4824-8af4-9b11dd1f2433",
   "metadata": {},
   "outputs": [
    {
     "data": {
      "text/html": [
       "<div>\n",
       "<style scoped>\n",
       "    .dataframe tbody tr th:only-of-type {\n",
       "        vertical-align: middle;\n",
       "    }\n",
       "\n",
       "    .dataframe tbody tr th {\n",
       "        vertical-align: top;\n",
       "    }\n",
       "\n",
       "    .dataframe thead th {\n",
       "        text-align: right;\n",
       "    }\n",
       "</style>\n",
       "<table border=\"1\" class=\"dataframe\">\n",
       "  <thead>\n",
       "    <tr style=\"text-align: right;\">\n",
       "      <th></th>\n",
       "      <th>Country</th>\n",
       "      <th>Region</th>\n",
       "      <th>Population</th>\n",
       "      <th>Internet Users</th>\n",
       "      <th>% of Population</th>\n",
       "    </tr>\n",
       "  </thead>\n",
       "  <tbody>\n",
       "    <tr>\n",
       "      <th>0</th>\n",
       "      <td>_World</td>\n",
       "      <td>NaN</td>\n",
       "      <td>7920539977</td>\n",
       "      <td>5424080321</td>\n",
       "      <td>68.48</td>\n",
       "    </tr>\n",
       "  </tbody>\n",
       "</table>\n",
       "</div>"
      ],
      "text/plain": [
       "  Country Region  Population  Internet Users  % of Population\n",
       "0  _World    NaN  7920539977      5424080321            68.48"
      ]
     },
     "execution_count": 123,
     "metadata": {},
     "output_type": "execute_result"
    }
   ],
   "source": [
    "df[df['Population'] == df['Population'].max()]"
   ]
  },
  {
   "cell_type": "code",
   "execution_count": 133,
   "id": "be549122-de9c-4991-b6e3-2a386f20cb64",
   "metadata": {},
   "outputs": [
    {
     "data": {
      "text/html": [
       "<div>\n",
       "<style scoped>\n",
       "    .dataframe tbody tr th:only-of-type {\n",
       "        vertical-align: middle;\n",
       "    }\n",
       "\n",
       "    .dataframe tbody tr th {\n",
       "        vertical-align: top;\n",
       "    }\n",
       "\n",
       "    .dataframe thead th {\n",
       "        text-align: right;\n",
       "    }\n",
       "</style>\n",
       "<table border=\"1\" class=\"dataframe\">\n",
       "  <thead>\n",
       "    <tr style=\"text-align: right;\">\n",
       "      <th></th>\n",
       "      <th>Country</th>\n",
       "      <th>Region</th>\n",
       "      <th>Population</th>\n",
       "      <th>Internet Users</th>\n",
       "      <th>% of Population</th>\n",
       "    </tr>\n",
       "  </thead>\n",
       "  <tbody>\n",
       "    <tr>\n",
       "      <th>44</th>\n",
       "      <td>China</td>\n",
       "      <td>Asia</td>\n",
       "      <td>1448314408</td>\n",
       "      <td>1010740000</td>\n",
       "      <td>69.79</td>\n",
       "    </tr>\n",
       "  </tbody>\n",
       "</table>\n",
       "</div>"
      ],
      "text/plain": [
       "   Country Region  Population  Internet Users  % of Population\n",
       "44   China   Asia  1448314408      1010740000            69.79"
      ]
     },
     "execution_count": 133,
     "metadata": {},
     "output_type": "execute_result"
    }
   ],
   "source": [
    "df1[df1['Population'] == df1['Population'].max()]"
   ]
  },
  {
   "cell_type": "code",
   "execution_count": 129,
   "id": "800c9626-2ef6-4153-a635-36fbe4f06fb3",
   "metadata": {
    "scrolled": true
   },
   "outputs": [],
   "source": [
    "df1 = df.drop(index = 0)"
   ]
  },
  {
   "cell_type": "code",
   "execution_count": 131,
   "id": "bcc0c3e5-365c-48b3-a775-1863d5226070",
   "metadata": {},
   "outputs": [
    {
     "data": {
      "text/html": [
       "<div>\n",
       "<style scoped>\n",
       "    .dataframe tbody tr th:only-of-type {\n",
       "        vertical-align: middle;\n",
       "    }\n",
       "\n",
       "    .dataframe tbody tr th {\n",
       "        vertical-align: top;\n",
       "    }\n",
       "\n",
       "    .dataframe thead th {\n",
       "        text-align: right;\n",
       "    }\n",
       "</style>\n",
       "<table border=\"1\" class=\"dataframe\">\n",
       "  <thead>\n",
       "    <tr style=\"text-align: right;\">\n",
       "      <th></th>\n",
       "      <th>index</th>\n",
       "      <th>Country</th>\n",
       "      <th>Region</th>\n",
       "      <th>Population</th>\n",
       "      <th>Internet Users</th>\n",
       "      <th>% of Population</th>\n",
       "    </tr>\n",
       "  </thead>\n",
       "  <tbody>\n",
       "    <tr>\n",
       "      <th>0</th>\n",
       "      <td>1</td>\n",
       "      <td>Afganistan</td>\n",
       "      <td>Asia</td>\n",
       "      <td>40403518</td>\n",
       "      <td>9237489</td>\n",
       "      <td>22.86</td>\n",
       "    </tr>\n",
       "    <tr>\n",
       "      <th>1</th>\n",
       "      <td>2</td>\n",
       "      <td>Albania</td>\n",
       "      <td>Europe</td>\n",
       "      <td>2872758</td>\n",
       "      <td>2191467</td>\n",
       "      <td>76.28</td>\n",
       "    </tr>\n",
       "    <tr>\n",
       "      <th>2</th>\n",
       "      <td>3</td>\n",
       "      <td>Algeria</td>\n",
       "      <td>Africa</td>\n",
       "      <td>45150879</td>\n",
       "      <td>37836425</td>\n",
       "      <td>83.80</td>\n",
       "    </tr>\n",
       "    <tr>\n",
       "      <th>3</th>\n",
       "      <td>4</td>\n",
       "      <td>American Samoa</td>\n",
       "      <td>Oceania</td>\n",
       "      <td>54995</td>\n",
       "      <td>34800</td>\n",
       "      <td>63.28</td>\n",
       "    </tr>\n",
       "    <tr>\n",
       "      <th>4</th>\n",
       "      <td>5</td>\n",
       "      <td>Andorra</td>\n",
       "      <td>Europe</td>\n",
       "      <td>77465</td>\n",
       "      <td>73101</td>\n",
       "      <td>94.37</td>\n",
       "    </tr>\n",
       "    <tr>\n",
       "      <th>...</th>\n",
       "      <td>...</td>\n",
       "      <td>...</td>\n",
       "      <td>...</td>\n",
       "      <td>...</td>\n",
       "      <td>...</td>\n",
       "      <td>...</td>\n",
       "    </tr>\n",
       "    <tr>\n",
       "      <th>237</th>\n",
       "      <td>238</td>\n",
       "      <td>Wallis &amp; Futuna</td>\n",
       "      <td>Oceania</td>\n",
       "      <td>10932</td>\n",
       "      <td>6200</td>\n",
       "      <td>56.71</td>\n",
       "    </tr>\n",
       "    <tr>\n",
       "      <th>238</th>\n",
       "      <td>239</td>\n",
       "      <td>Western Sahara</td>\n",
       "      <td>Africa</td>\n",
       "      <td>611875</td>\n",
       "      <td>28000</td>\n",
       "      <td>4.58</td>\n",
       "    </tr>\n",
       "    <tr>\n",
       "      <th>239</th>\n",
       "      <td>240</td>\n",
       "      <td>Yemen</td>\n",
       "      <td>Middle East</td>\n",
       "      <td>30938435</td>\n",
       "      <td>8353377</td>\n",
       "      <td>27.00</td>\n",
       "    </tr>\n",
       "    <tr>\n",
       "      <th>240</th>\n",
       "      <td>241</td>\n",
       "      <td>Zambia</td>\n",
       "      <td>Africa</td>\n",
       "      <td>18920651</td>\n",
       "      <td>9870427</td>\n",
       "      <td>52.17</td>\n",
       "    </tr>\n",
       "    <tr>\n",
       "      <th>241</th>\n",
       "      <td>242</td>\n",
       "      <td>Zimbabwe</td>\n",
       "      <td>Africa</td>\n",
       "      <td>15092171</td>\n",
       "      <td>8400000</td>\n",
       "      <td>55.66</td>\n",
       "    </tr>\n",
       "  </tbody>\n",
       "</table>\n",
       "<p>242 rows × 6 columns</p>\n",
       "</div>"
      ],
      "text/plain": [
       "     index          Country       Region  Population  Internet Users  \\\n",
       "0        1       Afganistan         Asia    40403518         9237489   \n",
       "1        2          Albania       Europe     2872758         2191467   \n",
       "2        3          Algeria       Africa    45150879        37836425   \n",
       "3        4   American Samoa      Oceania       54995           34800   \n",
       "4        5          Andorra       Europe       77465           73101   \n",
       "..     ...              ...          ...         ...             ...   \n",
       "237    238  Wallis & Futuna      Oceania       10932            6200   \n",
       "238    239   Western Sahara       Africa      611875           28000   \n",
       "239    240            Yemen  Middle East    30938435         8353377   \n",
       "240    241           Zambia       Africa    18920651         9870427   \n",
       "241    242         Zimbabwe       Africa    15092171         8400000   \n",
       "\n",
       "     % of Population  \n",
       "0              22.86  \n",
       "1              76.28  \n",
       "2              83.80  \n",
       "3              63.28  \n",
       "4              94.37  \n",
       "..               ...  \n",
       "237            56.71  \n",
       "238             4.58  \n",
       "239            27.00  \n",
       "240            52.17  \n",
       "241            55.66  \n",
       "\n",
       "[242 rows x 6 columns]"
      ]
     },
     "execution_count": 131,
     "metadata": {},
     "output_type": "execute_result"
    }
   ],
   "source": [
    "df1.reset_index()"
   ]
  },
  {
   "cell_type": "code",
   "execution_count": 135,
   "id": "5aa00992-a7f3-4ded-a2e6-147fd68cc160",
   "metadata": {},
   "outputs": [
    {
     "data": {
      "text/html": [
       "<div>\n",
       "<style scoped>\n",
       "    .dataframe tbody tr th:only-of-type {\n",
       "        vertical-align: middle;\n",
       "    }\n",
       "\n",
       "    .dataframe tbody tr th {\n",
       "        vertical-align: top;\n",
       "    }\n",
       "\n",
       "    .dataframe thead th {\n",
       "        text-align: right;\n",
       "    }\n",
       "</style>\n",
       "<table border=\"1\" class=\"dataframe\">\n",
       "  <thead>\n",
       "    <tr style=\"text-align: right;\">\n",
       "      <th></th>\n",
       "      <th>Country</th>\n",
       "      <th>Region</th>\n",
       "      <th>Population</th>\n",
       "      <th>Internet Users</th>\n",
       "      <th>% of Population</th>\n",
       "    </tr>\n",
       "  </thead>\n",
       "  <tbody>\n",
       "    <tr>\n",
       "      <th>0</th>\n",
       "      <td>_World</td>\n",
       "      <td>NaN</td>\n",
       "      <td>7920539977</td>\n",
       "      <td>5424080321</td>\n",
       "      <td>68.48</td>\n",
       "    </tr>\n",
       "    <tr>\n",
       "      <th>1</th>\n",
       "      <td>Afganistan</td>\n",
       "      <td>Asia</td>\n",
       "      <td>40403518</td>\n",
       "      <td>9237489</td>\n",
       "      <td>22.86</td>\n",
       "    </tr>\n",
       "  </tbody>\n",
       "</table>\n",
       "</div>"
      ],
      "text/plain": [
       "      Country Region  Population  Internet Users  % of Population\n",
       "0      _World    NaN  7920539977      5424080321            68.48\n",
       "1  Afganistan   Asia    40403518         9237489            22.86"
      ]
     },
     "execution_count": 135,
     "metadata": {},
     "output_type": "execute_result"
    }
   ],
   "source": [
    "df.head(2)"
   ]
  },
  {
   "cell_type": "code",
   "execution_count": 137,
   "id": "c0b249c4-af00-4646-9982-7cde0d224aab",
   "metadata": {},
   "outputs": [],
   "source": [
    "df = df.drop(index = 0)"
   ]
  },
  {
   "cell_type": "code",
   "execution_count": 139,
   "id": "147f455b-977f-4b2f-b18b-d34d56f98b82",
   "metadata": {},
   "outputs": [
    {
     "data": {
      "text/html": [
       "<div>\n",
       "<style scoped>\n",
       "    .dataframe tbody tr th:only-of-type {\n",
       "        vertical-align: middle;\n",
       "    }\n",
       "\n",
       "    .dataframe tbody tr th {\n",
       "        vertical-align: top;\n",
       "    }\n",
       "\n",
       "    .dataframe thead th {\n",
       "        text-align: right;\n",
       "    }\n",
       "</style>\n",
       "<table border=\"1\" class=\"dataframe\">\n",
       "  <thead>\n",
       "    <tr style=\"text-align: right;\">\n",
       "      <th></th>\n",
       "      <th>Country</th>\n",
       "      <th>Region</th>\n",
       "      <th>Population</th>\n",
       "      <th>Internet Users</th>\n",
       "      <th>% of Population</th>\n",
       "    </tr>\n",
       "  </thead>\n",
       "  <tbody>\n",
       "    <tr>\n",
       "      <th>1</th>\n",
       "      <td>Afganistan</td>\n",
       "      <td>Asia</td>\n",
       "      <td>40403518</td>\n",
       "      <td>9237489</td>\n",
       "      <td>22.86</td>\n",
       "    </tr>\n",
       "    <tr>\n",
       "      <th>2</th>\n",
       "      <td>Albania</td>\n",
       "      <td>Europe</td>\n",
       "      <td>2872758</td>\n",
       "      <td>2191467</td>\n",
       "      <td>76.28</td>\n",
       "    </tr>\n",
       "  </tbody>\n",
       "</table>\n",
       "</div>"
      ],
      "text/plain": [
       "      Country  Region  Population  Internet Users  % of Population\n",
       "1  Afganistan    Asia    40403518         9237489            22.86\n",
       "2     Albania  Europe     2872758         2191467            76.28"
      ]
     },
     "execution_count": 139,
     "metadata": {},
     "output_type": "execute_result"
    }
   ],
   "source": [
    "df.head(2)"
   ]
  },
  {
   "cell_type": "code",
   "execution_count": 143,
   "id": "bfea1eb9-4db3-4a9e-af60-1f7ac6ba33e4",
   "metadata": {},
   "outputs": [
    {
     "data": {
      "text/html": [
       "<div>\n",
       "<style scoped>\n",
       "    .dataframe tbody tr th:only-of-type {\n",
       "        vertical-align: middle;\n",
       "    }\n",
       "\n",
       "    .dataframe tbody tr th {\n",
       "        vertical-align: top;\n",
       "    }\n",
       "\n",
       "    .dataframe thead th {\n",
       "        text-align: right;\n",
       "    }\n",
       "</style>\n",
       "<table border=\"1\" class=\"dataframe\">\n",
       "  <thead>\n",
       "    <tr style=\"text-align: right;\">\n",
       "      <th></th>\n",
       "      <th>Country</th>\n",
       "      <th>Region</th>\n",
       "      <th>Population</th>\n",
       "      <th>Internet Users</th>\n",
       "      <th>% of Population</th>\n",
       "    </tr>\n",
       "  </thead>\n",
       "  <tbody>\n",
       "    <tr>\n",
       "      <th>113</th>\n",
       "      <td>Korea, North</td>\n",
       "      <td>Asia</td>\n",
       "      <td>25961763</td>\n",
       "      <td>20000</td>\n",
       "      <td>0.08</td>\n",
       "    </tr>\n",
       "  </tbody>\n",
       "</table>\n",
       "</div>"
      ],
      "text/plain": [
       "          Country Region  Population  Internet Users  % of Population\n",
       "113  Korea, North   Asia    25961763           20000             0.08"
      ]
     },
     "execution_count": 143,
     "metadata": {},
     "output_type": "execute_result"
    }
   ],
   "source": [
    "df[df['% of Population'] == df['% of Population'].min()]"
   ]
  },
  {
   "cell_type": "code",
   "execution_count": 149,
   "id": "631afa67-cbc3-4e9b-9757-4934bf528ec4",
   "metadata": {},
   "outputs": [],
   "source": [
    "def rank_culc(rank: str):\n",
    "    try:\n",
    "        return int(rank)\n",
    "    except:\n",
    "        return np.nan"
   ]
  },
  {
   "cell_type": "code",
   "execution_count": 153,
   "id": "303a9f68-b295-45bd-80db-268d4c3ebb0e",
   "metadata": {},
   "outputs": [
    {
     "data": {
      "text/plain": [
       "nan"
      ]
     },
     "execution_count": 153,
     "metadata": {},
     "output_type": "execute_result"
    }
   ],
   "source": [
    "rank_culc('-')"
   ]
  },
  {
   "cell_type": "code",
   "execution_count": 155,
   "id": "992d306a-3ed7-4d23-a052-3b96d7449401",
   "metadata": {},
   "outputs": [
    {
     "data": {
      "text/plain": [
       "Country            0\n",
       "Region             0\n",
       "Population         0\n",
       "Internet Users     0\n",
       "% of Population    0\n",
       "dtype: int64"
      ]
     },
     "execution_count": 155,
     "metadata": {},
     "output_type": "execute_result"
    }
   ],
   "source": [
    "df.isnull().sum()"
   ]
  },
  {
   "cell_type": "code",
   "execution_count": 157,
   "id": "2ef3a00d-50ae-4c45-9556-ba64b974284c",
   "metadata": {},
   "outputs": [],
   "source": [
    "df = pd.read_csv(r\"C:\\Users\\teren\\Downloads\\country-and-continent-codes-list-csv.csv\")"
   ]
  },
  {
   "cell_type": "code",
   "execution_count": 159,
   "id": "e23afcde-88ed-49db-92da-841199c0b872",
   "metadata": {},
   "outputs": [
    {
     "data": {
      "text/html": [
       "<div>\n",
       "<style scoped>\n",
       "    .dataframe tbody tr th:only-of-type {\n",
       "        vertical-align: middle;\n",
       "    }\n",
       "\n",
       "    .dataframe tbody tr th {\n",
       "        vertical-align: top;\n",
       "    }\n",
       "\n",
       "    .dataframe thead th {\n",
       "        text-align: right;\n",
       "    }\n",
       "</style>\n",
       "<table border=\"1\" class=\"dataframe\">\n",
       "  <thead>\n",
       "    <tr style=\"text-align: right;\">\n",
       "      <th></th>\n",
       "      <th>Continent_Name</th>\n",
       "      <th>Continent_Code</th>\n",
       "      <th>Country_Name</th>\n",
       "      <th>Two_Letter_Country_Code</th>\n",
       "      <th>Three_Letter_Country_Code</th>\n",
       "      <th>Country_Number</th>\n",
       "    </tr>\n",
       "  </thead>\n",
       "  <tbody>\n",
       "    <tr>\n",
       "      <th>0</th>\n",
       "      <td>Asia</td>\n",
       "      <td>AS</td>\n",
       "      <td>Afghanistan, Islamic Republic of</td>\n",
       "      <td>AF</td>\n",
       "      <td>AFG</td>\n",
       "      <td>4.0</td>\n",
       "    </tr>\n",
       "    <tr>\n",
       "      <th>1</th>\n",
       "      <td>Europe</td>\n",
       "      <td>EU</td>\n",
       "      <td>Albania, Republic of</td>\n",
       "      <td>AL</td>\n",
       "      <td>ALB</td>\n",
       "      <td>8.0</td>\n",
       "    </tr>\n",
       "    <tr>\n",
       "      <th>2</th>\n",
       "      <td>Antarctica</td>\n",
       "      <td>AN</td>\n",
       "      <td>Antarctica (the territory South of 60 deg S)</td>\n",
       "      <td>AQ</td>\n",
       "      <td>ATA</td>\n",
       "      <td>10.0</td>\n",
       "    </tr>\n",
       "  </tbody>\n",
       "</table>\n",
       "</div>"
      ],
      "text/plain": [
       "  Continent_Name Continent_Code                                  Country_Name  \\\n",
       "0           Asia             AS              Afghanistan, Islamic Republic of   \n",
       "1         Europe             EU                          Albania, Republic of   \n",
       "2     Antarctica             AN  Antarctica (the territory South of 60 deg S)   \n",
       "\n",
       "  Two_Letter_Country_Code Three_Letter_Country_Code  Country_Number  \n",
       "0                      AF                       AFG             4.0  \n",
       "1                      AL                       ALB             8.0  \n",
       "2                      AQ                       ATA            10.0  "
      ]
     },
     "execution_count": 159,
     "metadata": {},
     "output_type": "execute_result"
    }
   ],
   "source": [
    "df.head(3)"
   ]
  },
  {
   "cell_type": "code",
   "execution_count": 165,
   "id": "a3dd9c35-8c39-4ddd-a449-e03cfc04f3c3",
   "metadata": {},
   "outputs": [],
   "source": [
    "def split_cont(name: str):\n",
    "    res = ''\n",
    "    for i in name:\n",
    "        if i != ',' and i != ' ':\n",
    "            res = res + i\n",
    "        else:\n",
    "            break\n",
    "    return res"
   ]
  },
  {
   "cell_type": "code",
   "execution_count": 167,
   "id": "3c6baee6-aa63-4143-a162-515894176793",
   "metadata": {},
   "outputs": [
    {
     "data": {
      "text/plain": [
       "'Afghanistan'"
      ]
     },
     "execution_count": 167,
     "metadata": {},
     "output_type": "execute_result"
    }
   ],
   "source": [
    "split_cont('Afghanistan, Islamic Republic of')"
   ]
  },
  {
   "cell_type": "code",
   "execution_count": 169,
   "id": "899d5746-556b-4d77-82eb-3cb1abae04d5",
   "metadata": {},
   "outputs": [],
   "source": [
    "df['Country'] = pd.Series(map(split_cont, df['Country_Name']))"
   ]
  },
  {
   "cell_type": "code",
   "execution_count": 171,
   "id": "eb272f77-f052-42f8-b3e8-d2b6883d337d",
   "metadata": {},
   "outputs": [
    {
     "data": {
      "text/html": [
       "<div>\n",
       "<style scoped>\n",
       "    .dataframe tbody tr th:only-of-type {\n",
       "        vertical-align: middle;\n",
       "    }\n",
       "\n",
       "    .dataframe tbody tr th {\n",
       "        vertical-align: top;\n",
       "    }\n",
       "\n",
       "    .dataframe thead th {\n",
       "        text-align: right;\n",
       "    }\n",
       "</style>\n",
       "<table border=\"1\" class=\"dataframe\">\n",
       "  <thead>\n",
       "    <tr style=\"text-align: right;\">\n",
       "      <th></th>\n",
       "      <th>Continent_Name</th>\n",
       "      <th>Continent_Code</th>\n",
       "      <th>Country_Name</th>\n",
       "      <th>Two_Letter_Country_Code</th>\n",
       "      <th>Three_Letter_Country_Code</th>\n",
       "      <th>Country_Number</th>\n",
       "      <th>Country</th>\n",
       "    </tr>\n",
       "  </thead>\n",
       "  <tbody>\n",
       "    <tr>\n",
       "      <th>0</th>\n",
       "      <td>Asia</td>\n",
       "      <td>AS</td>\n",
       "      <td>Afghanistan, Islamic Republic of</td>\n",
       "      <td>AF</td>\n",
       "      <td>AFG</td>\n",
       "      <td>4.0</td>\n",
       "      <td>Afghanistan</td>\n",
       "    </tr>\n",
       "    <tr>\n",
       "      <th>1</th>\n",
       "      <td>Europe</td>\n",
       "      <td>EU</td>\n",
       "      <td>Albania, Republic of</td>\n",
       "      <td>AL</td>\n",
       "      <td>ALB</td>\n",
       "      <td>8.0</td>\n",
       "      <td>Albania</td>\n",
       "    </tr>\n",
       "    <tr>\n",
       "      <th>2</th>\n",
       "      <td>Antarctica</td>\n",
       "      <td>AN</td>\n",
       "      <td>Antarctica (the territory South of 60 deg S)</td>\n",
       "      <td>AQ</td>\n",
       "      <td>ATA</td>\n",
       "      <td>10.0</td>\n",
       "      <td>Antarctica</td>\n",
       "    </tr>\n",
       "  </tbody>\n",
       "</table>\n",
       "</div>"
      ],
      "text/plain": [
       "  Continent_Name Continent_Code                                  Country_Name  \\\n",
       "0           Asia             AS              Afghanistan, Islamic Republic of   \n",
       "1         Europe             EU                          Albania, Republic of   \n",
       "2     Antarctica             AN  Antarctica (the territory South of 60 deg S)   \n",
       "\n",
       "  Two_Letter_Country_Code Three_Letter_Country_Code  Country_Number  \\\n",
       "0                      AF                       AFG             4.0   \n",
       "1                      AL                       ALB             8.0   \n",
       "2                      AQ                       ATA            10.0   \n",
       "\n",
       "       Country  \n",
       "0  Afghanistan  \n",
       "1      Albania  \n",
       "2   Antarctica  "
      ]
     },
     "execution_count": 171,
     "metadata": {},
     "output_type": "execute_result"
    }
   ],
   "source": [
    "df.head(3)"
   ]
  },
  {
   "cell_type": "code",
   "execution_count": 225,
   "id": "f09ee2ce-cb65-42d9-9007-2bf7d83575cf",
   "metadata": {},
   "outputs": [],
   "source": [
    "def type_cont(name:str):\n",
    "    after_comma = ''\n",
    "    for i in name:\n",
    "        if i == ',':\n",
    "            after_comma = name.split(',', 1)[1].strip()\n",
    "        # break\n",
    "        if i == ' ':\n",
    "            after_comma = name.split(' ', 1)[1].strip()\n",
    "        # break\n",
    "    else:\n",
    "        after_comma == ''\n",
    "    return after_comma"
   ]
  },
  {
   "cell_type": "code",
   "execution_count": 227,
   "id": "df6dd283-32f2-4bc5-9d50-9f625484e442",
   "metadata": {},
   "outputs": [
    {
     "data": {
      "text/plain": [
       "'(the territory South of 60 deg S)'"
      ]
     },
     "execution_count": 227,
     "metadata": {},
     "output_type": "execute_result"
    }
   ],
   "source": [
    "type_cont('Antarctica (the territory South of 60 deg S)')"
   ]
  },
  {
   "cell_type": "code",
   "execution_count": 229,
   "id": "03331dcc-ced5-406a-af4a-99e81f8cd636",
   "metadata": {},
   "outputs": [],
   "source": [
    "df['Type'] = pd.Series(map(type_cont, df['Country_Name']))"
   ]
  },
  {
   "cell_type": "code",
   "execution_count": 231,
   "id": "42c93947-0e98-4bb0-a6a5-cca83dc93531",
   "metadata": {
    "scrolled": true
   },
   "outputs": [
    {
     "data": {
      "text/html": [
       "<div>\n",
       "<style scoped>\n",
       "    .dataframe tbody tr th:only-of-type {\n",
       "        vertical-align: middle;\n",
       "    }\n",
       "\n",
       "    .dataframe tbody tr th {\n",
       "        vertical-align: top;\n",
       "    }\n",
       "\n",
       "    .dataframe thead th {\n",
       "        text-align: right;\n",
       "    }\n",
       "</style>\n",
       "<table border=\"1\" class=\"dataframe\">\n",
       "  <thead>\n",
       "    <tr style=\"text-align: right;\">\n",
       "      <th></th>\n",
       "      <th>Continent_Name</th>\n",
       "      <th>Continent_Code</th>\n",
       "      <th>Country_Name</th>\n",
       "      <th>Two_Letter_Country_Code</th>\n",
       "      <th>Three_Letter_Country_Code</th>\n",
       "      <th>Country_Number</th>\n",
       "      <th>Country</th>\n",
       "      <th>Type</th>\n",
       "    </tr>\n",
       "  </thead>\n",
       "  <tbody>\n",
       "    <tr>\n",
       "      <th>0</th>\n",
       "      <td>Asia</td>\n",
       "      <td>AS</td>\n",
       "      <td>Afghanistan, Islamic Republic of</td>\n",
       "      <td>AF</td>\n",
       "      <td>AFG</td>\n",
       "      <td>4.0</td>\n",
       "      <td>Afghanistan</td>\n",
       "      <td>Islamic Republic of</td>\n",
       "    </tr>\n",
       "    <tr>\n",
       "      <th>1</th>\n",
       "      <td>Europe</td>\n",
       "      <td>EU</td>\n",
       "      <td>Albania, Republic of</td>\n",
       "      <td>AL</td>\n",
       "      <td>ALB</td>\n",
       "      <td>8.0</td>\n",
       "      <td>Albania</td>\n",
       "      <td>Republic of</td>\n",
       "    </tr>\n",
       "  </tbody>\n",
       "</table>\n",
       "</div>"
      ],
      "text/plain": [
       "  Continent_Name Continent_Code                      Country_Name  \\\n",
       "0           Asia             AS  Afghanistan, Islamic Republic of   \n",
       "1         Europe             EU              Albania, Republic of   \n",
       "\n",
       "  Two_Letter_Country_Code Three_Letter_Country_Code  Country_Number  \\\n",
       "0                      AF                       AFG             4.0   \n",
       "1                      AL                       ALB             8.0   \n",
       "\n",
       "       Country                 Type  \n",
       "0  Afghanistan  Islamic Republic of  \n",
       "1      Albania          Republic of  "
      ]
     },
     "execution_count": 231,
     "metadata": {},
     "output_type": "execute_result"
    }
   ],
   "source": [
    "df.head(2)"
   ]
  },
  {
   "cell_type": "code",
   "execution_count": 259,
   "id": "3d219d05-1874-4b64-8d09-219736824164",
   "metadata": {},
   "outputs": [
    {
     "data": {
      "text/plain": [
       "['Islamic', 'Republic', 'of']"
      ]
     },
     "execution_count": 259,
     "metadata": {},
     "output_type": "execute_result"
    }
   ],
   "source": [
    "'Islamic Republic of'.split()"
   ]
  },
  {
   "cell_type": "code",
   "execution_count": 269,
   "id": "26ee4a55-62fe-4446-8be2-adeea09a23cf",
   "metadata": {},
   "outputs": [],
   "source": [
    "def ell_of(name:str):\n",
    "    res = ''\n",
    "    ls = name.split()\n",
    "    for i in ls:\n",
    "        if i != 'of':\n",
    "            res = res + i\n",
    "            res = res + ' '\n",
    "        else:\n",
    "            break\n",
    "    return str(res.rstrip())\n",
    "    \n"
   ]
  },
  {
   "cell_type": "code",
   "execution_count": 271,
   "id": "d6a26422-8c2e-4f93-895d-c0caf632d87b",
   "metadata": {},
   "outputs": [
    {
     "data": {
      "text/plain": [
       "'Islamic Republic'"
      ]
     },
     "execution_count": 271,
     "metadata": {},
     "output_type": "execute_result"
    }
   ],
   "source": [
    "ell_of('Islamic Republic of')"
   ]
  },
  {
   "cell_type": "code",
   "execution_count": 275,
   "id": "5245511c-d7e8-4615-84b0-afd446f13c9b",
   "metadata": {},
   "outputs": [],
   "source": [
    "df['Type'] = pd.Series(map(ell_of, df['Type']))"
   ]
  },
  {
   "cell_type": "code",
   "execution_count": 277,
   "id": "f5e3ccc2-3542-4fc5-ab2c-90bf4764c280",
   "metadata": {},
   "outputs": [
    {
     "data": {
      "text/html": [
       "<div>\n",
       "<style scoped>\n",
       "    .dataframe tbody tr th:only-of-type {\n",
       "        vertical-align: middle;\n",
       "    }\n",
       "\n",
       "    .dataframe tbody tr th {\n",
       "        vertical-align: top;\n",
       "    }\n",
       "\n",
       "    .dataframe thead th {\n",
       "        text-align: right;\n",
       "    }\n",
       "</style>\n",
       "<table border=\"1\" class=\"dataframe\">\n",
       "  <thead>\n",
       "    <tr style=\"text-align: right;\">\n",
       "      <th></th>\n",
       "      <th>Continent_Name</th>\n",
       "      <th>Continent_Code</th>\n",
       "      <th>Country_Name</th>\n",
       "      <th>Two_Letter_Country_Code</th>\n",
       "      <th>Three_Letter_Country_Code</th>\n",
       "      <th>Country_Number</th>\n",
       "      <th>Country</th>\n",
       "      <th>Type</th>\n",
       "    </tr>\n",
       "  </thead>\n",
       "  <tbody>\n",
       "    <tr>\n",
       "      <th>0</th>\n",
       "      <td>Asia</td>\n",
       "      <td>AS</td>\n",
       "      <td>Afghanistan, Islamic Republic of</td>\n",
       "      <td>AF</td>\n",
       "      <td>AFG</td>\n",
       "      <td>4.0</td>\n",
       "      <td>Afghanistan</td>\n",
       "      <td>Islamic Republic</td>\n",
       "    </tr>\n",
       "    <tr>\n",
       "      <th>1</th>\n",
       "      <td>Europe</td>\n",
       "      <td>EU</td>\n",
       "      <td>Albania, Republic of</td>\n",
       "      <td>AL</td>\n",
       "      <td>ALB</td>\n",
       "      <td>8.0</td>\n",
       "      <td>Albania</td>\n",
       "      <td>Republic</td>\n",
       "    </tr>\n",
       "    <tr>\n",
       "      <th>2</th>\n",
       "      <td>Antarctica</td>\n",
       "      <td>AN</td>\n",
       "      <td>Antarctica (the territory South of 60 deg S)</td>\n",
       "      <td>AQ</td>\n",
       "      <td>ATA</td>\n",
       "      <td>10.0</td>\n",
       "      <td>Antarctica</td>\n",
       "      <td>(the territory South</td>\n",
       "    </tr>\n",
       "  </tbody>\n",
       "</table>\n",
       "</div>"
      ],
      "text/plain": [
       "  Continent_Name Continent_Code                                  Country_Name  \\\n",
       "0           Asia             AS              Afghanistan, Islamic Republic of   \n",
       "1         Europe             EU                          Albania, Republic of   \n",
       "2     Antarctica             AN  Antarctica (the territory South of 60 deg S)   \n",
       "\n",
       "  Two_Letter_Country_Code Three_Letter_Country_Code  Country_Number  \\\n",
       "0                      AF                       AFG             4.0   \n",
       "1                      AL                       ALB             8.0   \n",
       "2                      AQ                       ATA            10.0   \n",
       "\n",
       "       Country                  Type  \n",
       "0  Afghanistan      Islamic Republic  \n",
       "1      Albania              Republic  \n",
       "2   Antarctica  (the territory South  "
      ]
     },
     "execution_count": 277,
     "metadata": {},
     "output_type": "execute_result"
    }
   ],
   "source": [
    "df.head(3)"
   ]
  },
  {
   "cell_type": "code",
   "execution_count": 279,
   "id": "5ba361b0-4225-47eb-b5ee-aaedd3b160a8",
   "metadata": {},
   "outputs": [
    {
     "data": {
      "text/plain": [
       "(262, 8)"
      ]
     },
     "execution_count": 279,
     "metadata": {},
     "output_type": "execute_result"
    }
   ],
   "source": [
    "df.shape"
   ]
  },
  {
   "cell_type": "code",
   "execution_count": 281,
   "id": "f9f4256c-f839-4723-bf00-55b3a5f0474b",
   "metadata": {},
   "outputs": [],
   "source": [
    "df1 = pd.read_csv(r\"C:\\Users\\teren\\Downloads\\world_internet_user.csv\", encoding='ISO-8859-1')"
   ]
  },
  {
   "cell_type": "code",
   "execution_count": 283,
   "id": "aa80f3b8-23b7-4939-9cdc-42fd2917190b",
   "metadata": {},
   "outputs": [
    {
     "data": {
      "text/html": [
       "<div>\n",
       "<style scoped>\n",
       "    .dataframe tbody tr th:only-of-type {\n",
       "        vertical-align: middle;\n",
       "    }\n",
       "\n",
       "    .dataframe tbody tr th {\n",
       "        vertical-align: top;\n",
       "    }\n",
       "\n",
       "    .dataframe thead th {\n",
       "        text-align: right;\n",
       "    }\n",
       "</style>\n",
       "<table border=\"1\" class=\"dataframe\">\n",
       "  <thead>\n",
       "    <tr style=\"text-align: right;\">\n",
       "      <th></th>\n",
       "      <th>Country</th>\n",
       "      <th>Region</th>\n",
       "      <th>Population</th>\n",
       "      <th>Internet Users</th>\n",
       "      <th>% of Population</th>\n",
       "    </tr>\n",
       "  </thead>\n",
       "  <tbody>\n",
       "    <tr>\n",
       "      <th>0</th>\n",
       "      <td>_World</td>\n",
       "      <td>NaN</td>\n",
       "      <td>7920539977</td>\n",
       "      <td>5424080321</td>\n",
       "      <td>68.48</td>\n",
       "    </tr>\n",
       "    <tr>\n",
       "      <th>1</th>\n",
       "      <td>Afganistan</td>\n",
       "      <td>Asia</td>\n",
       "      <td>40403518</td>\n",
       "      <td>9237489</td>\n",
       "      <td>22.86</td>\n",
       "    </tr>\n",
       "    <tr>\n",
       "      <th>2</th>\n",
       "      <td>Albania</td>\n",
       "      <td>Europe</td>\n",
       "      <td>2872758</td>\n",
       "      <td>2191467</td>\n",
       "      <td>76.28</td>\n",
       "    </tr>\n",
       "  </tbody>\n",
       "</table>\n",
       "</div>"
      ],
      "text/plain": [
       "      Country  Region  Population  Internet Users  % of Population\n",
       "0      _World     NaN  7920539977      5424080321            68.48\n",
       "1  Afganistan    Asia    40403518         9237489            22.86\n",
       "2     Albania  Europe     2872758         2191467            76.28"
      ]
     },
     "execution_count": 283,
     "metadata": {},
     "output_type": "execute_result"
    }
   ],
   "source": [
    "df1.head(3)"
   ]
  },
  {
   "cell_type": "code",
   "execution_count": 285,
   "id": "7902cd81-17cf-42e8-bf54-9ad8df3ad650",
   "metadata": {},
   "outputs": [],
   "source": [
    "df1 = df1.drop(index = 0)"
   ]
  },
  {
   "cell_type": "code",
   "execution_count": 290,
   "id": "5c3ced49-9baf-48eb-944b-3a7bf9426afc",
   "metadata": {},
   "outputs": [],
   "source": [
    "df1 = df1.reset_index()"
   ]
  },
  {
   "cell_type": "code",
   "execution_count": 292,
   "id": "a2f99a40-244b-478b-a835-1d30aed8a694",
   "metadata": {},
   "outputs": [
    {
     "data": {
      "text/html": [
       "<div>\n",
       "<style scoped>\n",
       "    .dataframe tbody tr th:only-of-type {\n",
       "        vertical-align: middle;\n",
       "    }\n",
       "\n",
       "    .dataframe tbody tr th {\n",
       "        vertical-align: top;\n",
       "    }\n",
       "\n",
       "    .dataframe thead th {\n",
       "        text-align: right;\n",
       "    }\n",
       "</style>\n",
       "<table border=\"1\" class=\"dataframe\">\n",
       "  <thead>\n",
       "    <tr style=\"text-align: right;\">\n",
       "      <th></th>\n",
       "      <th>index</th>\n",
       "      <th>Country</th>\n",
       "      <th>Region</th>\n",
       "      <th>Population</th>\n",
       "      <th>Internet Users</th>\n",
       "      <th>% of Population</th>\n",
       "    </tr>\n",
       "  </thead>\n",
       "  <tbody>\n",
       "    <tr>\n",
       "      <th>0</th>\n",
       "      <td>1</td>\n",
       "      <td>Afganistan</td>\n",
       "      <td>Asia</td>\n",
       "      <td>40403518</td>\n",
       "      <td>9237489</td>\n",
       "      <td>22.86</td>\n",
       "    </tr>\n",
       "    <tr>\n",
       "      <th>1</th>\n",
       "      <td>2</td>\n",
       "      <td>Albania</td>\n",
       "      <td>Europe</td>\n",
       "      <td>2872758</td>\n",
       "      <td>2191467</td>\n",
       "      <td>76.28</td>\n",
       "    </tr>\n",
       "    <tr>\n",
       "      <th>2</th>\n",
       "      <td>3</td>\n",
       "      <td>Algeria</td>\n",
       "      <td>Africa</td>\n",
       "      <td>45150879</td>\n",
       "      <td>37836425</td>\n",
       "      <td>83.80</td>\n",
       "    </tr>\n",
       "  </tbody>\n",
       "</table>\n",
       "</div>"
      ],
      "text/plain": [
       "   index     Country  Region  Population  Internet Users  % of Population\n",
       "0      1  Afganistan    Asia    40403518         9237489            22.86\n",
       "1      2     Albania  Europe     2872758         2191467            76.28\n",
       "2      3     Algeria  Africa    45150879        37836425            83.80"
      ]
     },
     "execution_count": 292,
     "metadata": {},
     "output_type": "execute_result"
    }
   ],
   "source": [
    "df1.head(3)"
   ]
  },
  {
   "cell_type": "code",
   "execution_count": 294,
   "id": "be7400eb-8fdf-4843-82a9-ba88c57c1e3b",
   "metadata": {},
   "outputs": [
    {
     "data": {
      "text/html": [
       "<div>\n",
       "<style scoped>\n",
       "    .dataframe tbody tr th:only-of-type {\n",
       "        vertical-align: middle;\n",
       "    }\n",
       "\n",
       "    .dataframe tbody tr th {\n",
       "        vertical-align: top;\n",
       "    }\n",
       "\n",
       "    .dataframe thead th {\n",
       "        text-align: right;\n",
       "    }\n",
       "</style>\n",
       "<table border=\"1\" class=\"dataframe\">\n",
       "  <thead>\n",
       "    <tr style=\"text-align: right;\">\n",
       "      <th></th>\n",
       "      <th>Continent_Name</th>\n",
       "      <th>Continent_Code</th>\n",
       "      <th>Country_Name</th>\n",
       "      <th>Two_Letter_Country_Code</th>\n",
       "      <th>Three_Letter_Country_Code</th>\n",
       "      <th>Country_Number</th>\n",
       "      <th>Country</th>\n",
       "      <th>Type</th>\n",
       "    </tr>\n",
       "  </thead>\n",
       "  <tbody>\n",
       "    <tr>\n",
       "      <th>0</th>\n",
       "      <td>Asia</td>\n",
       "      <td>AS</td>\n",
       "      <td>Afghanistan, Islamic Republic of</td>\n",
       "      <td>AF</td>\n",
       "      <td>AFG</td>\n",
       "      <td>4.0</td>\n",
       "      <td>Afghanistan</td>\n",
       "      <td>Islamic Republic</td>\n",
       "    </tr>\n",
       "    <tr>\n",
       "      <th>1</th>\n",
       "      <td>Europe</td>\n",
       "      <td>EU</td>\n",
       "      <td>Albania, Republic of</td>\n",
       "      <td>AL</td>\n",
       "      <td>ALB</td>\n",
       "      <td>8.0</td>\n",
       "      <td>Albania</td>\n",
       "      <td>Republic</td>\n",
       "    </tr>\n",
       "    <tr>\n",
       "      <th>2</th>\n",
       "      <td>Antarctica</td>\n",
       "      <td>AN</td>\n",
       "      <td>Antarctica (the territory South of 60 deg S)</td>\n",
       "      <td>AQ</td>\n",
       "      <td>ATA</td>\n",
       "      <td>10.0</td>\n",
       "      <td>Antarctica</td>\n",
       "      <td>(the territory South</td>\n",
       "    </tr>\n",
       "  </tbody>\n",
       "</table>\n",
       "</div>"
      ],
      "text/plain": [
       "  Continent_Name Continent_Code                                  Country_Name  \\\n",
       "0           Asia             AS              Afghanistan, Islamic Republic of   \n",
       "1         Europe             EU                          Albania, Republic of   \n",
       "2     Antarctica             AN  Antarctica (the territory South of 60 deg S)   \n",
       "\n",
       "  Two_Letter_Country_Code Three_Letter_Country_Code  Country_Number  \\\n",
       "0                      AF                       AFG             4.0   \n",
       "1                      AL                       ALB             8.0   \n",
       "2                      AQ                       ATA            10.0   \n",
       "\n",
       "       Country                  Type  \n",
       "0  Afghanistan      Islamic Republic  \n",
       "1      Albania              Republic  \n",
       "2   Antarctica  (the territory South  "
      ]
     },
     "execution_count": 294,
     "metadata": {},
     "output_type": "execute_result"
    }
   ],
   "source": [
    "df.head(3)"
   ]
  },
  {
   "cell_type": "code",
   "execution_count": 300,
   "id": "aa1aef84-963d-45e0-8724-5b63be5f4cb9",
   "metadata": {},
   "outputs": [],
   "source": [
    "df2 = df1.merge(df, on = 'Country')"
   ]
  },
  {
   "cell_type": "code",
   "execution_count": 304,
   "id": "88944a45-c5e4-473e-882f-9b2c0f3c490b",
   "metadata": {},
   "outputs": [
    {
     "data": {
      "text/html": [
       "<div>\n",
       "<style scoped>\n",
       "    .dataframe tbody tr th:only-of-type {\n",
       "        vertical-align: middle;\n",
       "    }\n",
       "\n",
       "    .dataframe tbody tr th {\n",
       "        vertical-align: top;\n",
       "    }\n",
       "\n",
       "    .dataframe thead th {\n",
       "        text-align: right;\n",
       "    }\n",
       "</style>\n",
       "<table border=\"1\" class=\"dataframe\">\n",
       "  <thead>\n",
       "    <tr style=\"text-align: right;\">\n",
       "      <th></th>\n",
       "      <th>index</th>\n",
       "      <th>Country</th>\n",
       "      <th>Region</th>\n",
       "      <th>Population</th>\n",
       "      <th>Internet Users</th>\n",
       "      <th>% of Population</th>\n",
       "      <th>Continent_Name</th>\n",
       "      <th>Continent_Code</th>\n",
       "      <th>Country_Name</th>\n",
       "      <th>Two_Letter_Country_Code</th>\n",
       "      <th>Three_Letter_Country_Code</th>\n",
       "      <th>Country_Number</th>\n",
       "      <th>Type</th>\n",
       "    </tr>\n",
       "  </thead>\n",
       "  <tbody>\n",
       "    <tr>\n",
       "      <th>0</th>\n",
       "      <td>2</td>\n",
       "      <td>Albania</td>\n",
       "      <td>Europe</td>\n",
       "      <td>2872758</td>\n",
       "      <td>2191467</td>\n",
       "      <td>76.28</td>\n",
       "      <td>Europe</td>\n",
       "      <td>EU</td>\n",
       "      <td>Albania, Republic of</td>\n",
       "      <td>AL</td>\n",
       "      <td>ALB</td>\n",
       "      <td>8.0</td>\n",
       "      <td>Republic</td>\n",
       "    </tr>\n",
       "    <tr>\n",
       "      <th>1</th>\n",
       "      <td>3</td>\n",
       "      <td>Algeria</td>\n",
       "      <td>Africa</td>\n",
       "      <td>45150879</td>\n",
       "      <td>37836425</td>\n",
       "      <td>83.80</td>\n",
       "      <td>Africa</td>\n",
       "      <td>AF</td>\n",
       "      <td>Algeria, People's Democratic Republic of</td>\n",
       "      <td>DZ</td>\n",
       "      <td>DZA</td>\n",
       "      <td>12.0</td>\n",
       "      <td>People's Democratic Republic</td>\n",
       "    </tr>\n",
       "    <tr>\n",
       "      <th>2</th>\n",
       "      <td>5</td>\n",
       "      <td>Andorra</td>\n",
       "      <td>Europe</td>\n",
       "      <td>77465</td>\n",
       "      <td>73101</td>\n",
       "      <td>94.37</td>\n",
       "      <td>Europe</td>\n",
       "      <td>EU</td>\n",
       "      <td>Andorra, Principality of</td>\n",
       "      <td>AD</td>\n",
       "      <td>AND</td>\n",
       "      <td>20.0</td>\n",
       "      <td>Principality</td>\n",
       "    </tr>\n",
       "  </tbody>\n",
       "</table>\n",
       "</div>"
      ],
      "text/plain": [
       "   index  Country  Region  Population  Internet Users  % of Population  \\\n",
       "0      2  Albania  Europe     2872758         2191467            76.28   \n",
       "1      3  Algeria  Africa    45150879        37836425            83.80   \n",
       "2      5  Andorra  Europe       77465           73101            94.37   \n",
       "\n",
       "  Continent_Name Continent_Code                              Country_Name  \\\n",
       "0         Europe             EU                      Albania, Republic of   \n",
       "1         Africa             AF  Algeria, People's Democratic Republic of   \n",
       "2         Europe             EU                  Andorra, Principality of   \n",
       "\n",
       "  Two_Letter_Country_Code Three_Letter_Country_Code  Country_Number  \\\n",
       "0                      AL                       ALB             8.0   \n",
       "1                      DZ                       DZA            12.0   \n",
       "2                      AD                       AND            20.0   \n",
       "\n",
       "                           Type  \n",
       "0                      Republic  \n",
       "1  People's Democratic Republic  \n",
       "2                  Principality  "
      ]
     },
     "execution_count": 304,
     "metadata": {},
     "output_type": "execute_result"
    }
   ],
   "source": [
    "df2.head(3)"
   ]
  },
  {
   "cell_type": "code",
   "execution_count": 306,
   "id": "359cf396-42e7-4007-988c-1644f959bcd8",
   "metadata": {},
   "outputs": [
    {
     "data": {
      "text/plain": [
       "(175, 13)"
      ]
     },
     "execution_count": 306,
     "metadata": {},
     "output_type": "execute_result"
    }
   ],
   "source": [
    "df2.shape"
   ]
  },
  {
   "cell_type": "code",
   "execution_count": 308,
   "id": "d47e57f6-1349-4255-b14c-c2346f4eecc3",
   "metadata": {},
   "outputs": [],
   "source": [
    "df3 = pd.concat([df,df1], ignore_index = True)"
   ]
  },
  {
   "cell_type": "code",
   "execution_count": 310,
   "id": "271dc5c5-298b-42c5-8c86-64e5d2a163d9",
   "metadata": {},
   "outputs": [
    {
     "data": {
      "text/plain": [
       "(504, 13)"
      ]
     },
     "execution_count": 310,
     "metadata": {},
     "output_type": "execute_result"
    }
   ],
   "source": [
    "df3.shape"
   ]
  },
  {
   "cell_type": "code",
   "execution_count": 312,
   "id": "886b034e-6e81-49d3-88ad-5f2e2ab86828",
   "metadata": {},
   "outputs": [
    {
     "name": "stdout",
     "output_type": "stream",
     "text": [
      "(262, 8) (242, 6) (504, 13)\n"
     ]
    }
   ],
   "source": [
    "print(df.shape, df1.shape, df3.shape)"
   ]
  },
  {
   "cell_type": "code",
   "execution_count": 316,
   "id": "cdecc9e4-a11a-49de-aff1-e232adae0ff6",
   "metadata": {},
   "outputs": [
    {
     "data": {
      "text/html": [
       "<div>\n",
       "<style scoped>\n",
       "    .dataframe tbody tr th:only-of-type {\n",
       "        vertical-align: middle;\n",
       "    }\n",
       "\n",
       "    .dataframe tbody tr th {\n",
       "        vertical-align: top;\n",
       "    }\n",
       "\n",
       "    .dataframe thead th {\n",
       "        text-align: right;\n",
       "    }\n",
       "</style>\n",
       "<table border=\"1\" class=\"dataframe\">\n",
       "  <thead>\n",
       "    <tr style=\"text-align: right;\">\n",
       "      <th></th>\n",
       "      <th>Continent_Name</th>\n",
       "      <th>Continent_Code</th>\n",
       "      <th>Country_Name</th>\n",
       "      <th>Two_Letter_Country_Code</th>\n",
       "      <th>Three_Letter_Country_Code</th>\n",
       "      <th>Country_Number</th>\n",
       "      <th>Country</th>\n",
       "      <th>Type</th>\n",
       "      <th>index</th>\n",
       "      <th>Region</th>\n",
       "      <th>Population</th>\n",
       "      <th>Internet Users</th>\n",
       "      <th>% of Population</th>\n",
       "    </tr>\n",
       "  </thead>\n",
       "  <tbody>\n",
       "    <tr>\n",
       "      <th>501</th>\n",
       "      <td>NaN</td>\n",
       "      <td>NaN</td>\n",
       "      <td>NaN</td>\n",
       "      <td>NaN</td>\n",
       "      <td>NaN</td>\n",
       "      <td>NaN</td>\n",
       "      <td>Yemen</td>\n",
       "      <td>NaN</td>\n",
       "      <td>240.0</td>\n",
       "      <td>Middle East</td>\n",
       "      <td>30938435.0</td>\n",
       "      <td>8353377.0</td>\n",
       "      <td>27.00</td>\n",
       "    </tr>\n",
       "    <tr>\n",
       "      <th>502</th>\n",
       "      <td>NaN</td>\n",
       "      <td>NaN</td>\n",
       "      <td>NaN</td>\n",
       "      <td>NaN</td>\n",
       "      <td>NaN</td>\n",
       "      <td>NaN</td>\n",
       "      <td>Zambia</td>\n",
       "      <td>NaN</td>\n",
       "      <td>241.0</td>\n",
       "      <td>Africa</td>\n",
       "      <td>18920651.0</td>\n",
       "      <td>9870427.0</td>\n",
       "      <td>52.17</td>\n",
       "    </tr>\n",
       "    <tr>\n",
       "      <th>503</th>\n",
       "      <td>NaN</td>\n",
       "      <td>NaN</td>\n",
       "      <td>NaN</td>\n",
       "      <td>NaN</td>\n",
       "      <td>NaN</td>\n",
       "      <td>NaN</td>\n",
       "      <td>Zimbabwe</td>\n",
       "      <td>NaN</td>\n",
       "      <td>242.0</td>\n",
       "      <td>Africa</td>\n",
       "      <td>15092171.0</td>\n",
       "      <td>8400000.0</td>\n",
       "      <td>55.66</td>\n",
       "    </tr>\n",
       "  </tbody>\n",
       "</table>\n",
       "</div>"
      ],
      "text/plain": [
       "    Continent_Name Continent_Code Country_Name Two_Letter_Country_Code  \\\n",
       "501            NaN            NaN          NaN                     NaN   \n",
       "502            NaN            NaN          NaN                     NaN   \n",
       "503            NaN            NaN          NaN                     NaN   \n",
       "\n",
       "    Three_Letter_Country_Code  Country_Number   Country Type  index  \\\n",
       "501                       NaN             NaN     Yemen  NaN  240.0   \n",
       "502                       NaN             NaN    Zambia  NaN  241.0   \n",
       "503                       NaN             NaN  Zimbabwe  NaN  242.0   \n",
       "\n",
       "          Region  Population  Internet Users  % of Population  \n",
       "501  Middle East  30938435.0       8353377.0            27.00  \n",
       "502       Africa  18920651.0       9870427.0            52.17  \n",
       "503       Africa  15092171.0       8400000.0            55.66  "
      ]
     },
     "execution_count": 316,
     "metadata": {},
     "output_type": "execute_result"
    }
   ],
   "source": [
    "df3.tail(3)"
   ]
  },
  {
   "cell_type": "code",
   "execution_count": 320,
   "id": "e45e8e75-9d59-4e6b-a6e3-43f149c9f03a",
   "metadata": {},
   "outputs": [],
   "source": [
    "df3 = df1.merge(df, left_on='Country', right_on='Country', suffixes=('_left', '_right'))"
   ]
  },
  {
   "cell_type": "code",
   "execution_count": 322,
   "id": "1cc884c9-d5ce-4c29-8485-fb636648af86",
   "metadata": {},
   "outputs": [
    {
     "data": {
      "text/plain": [
       "(175, 13)"
      ]
     },
     "execution_count": 322,
     "metadata": {},
     "output_type": "execute_result"
    }
   ],
   "source": [
    "df3.shape"
   ]
  },
  {
   "cell_type": "code",
   "execution_count": 328,
   "id": "8a25d134-248a-4755-bc77-8b3bfd420996",
   "metadata": {},
   "outputs": [],
   "source": [
    "df3 = df3.drop(['Country_Name'], axis = 1)"
   ]
  },
  {
   "cell_type": "code",
   "execution_count": 330,
   "id": "200f219f-f294-4ec6-b34a-a971bd59c980",
   "metadata": {},
   "outputs": [
    {
     "data": {
      "text/html": [
       "<div>\n",
       "<style scoped>\n",
       "    .dataframe tbody tr th:only-of-type {\n",
       "        vertical-align: middle;\n",
       "    }\n",
       "\n",
       "    .dataframe tbody tr th {\n",
       "        vertical-align: top;\n",
       "    }\n",
       "\n",
       "    .dataframe thead th {\n",
       "        text-align: right;\n",
       "    }\n",
       "</style>\n",
       "<table border=\"1\" class=\"dataframe\">\n",
       "  <thead>\n",
       "    <tr style=\"text-align: right;\">\n",
       "      <th></th>\n",
       "      <th>index</th>\n",
       "      <th>Country</th>\n",
       "      <th>Region</th>\n",
       "      <th>Population</th>\n",
       "      <th>Internet Users</th>\n",
       "      <th>% of Population</th>\n",
       "      <th>Continent_Name</th>\n",
       "      <th>Continent_Code</th>\n",
       "      <th>Two_Letter_Country_Code</th>\n",
       "      <th>Three_Letter_Country_Code</th>\n",
       "      <th>Country_Number</th>\n",
       "      <th>Type</th>\n",
       "    </tr>\n",
       "  </thead>\n",
       "  <tbody>\n",
       "    <tr>\n",
       "      <th>0</th>\n",
       "      <td>2</td>\n",
       "      <td>Albania</td>\n",
       "      <td>Europe</td>\n",
       "      <td>2872758</td>\n",
       "      <td>2191467</td>\n",
       "      <td>76.28</td>\n",
       "      <td>Europe</td>\n",
       "      <td>EU</td>\n",
       "      <td>AL</td>\n",
       "      <td>ALB</td>\n",
       "      <td>8.0</td>\n",
       "      <td>Republic</td>\n",
       "    </tr>\n",
       "    <tr>\n",
       "      <th>1</th>\n",
       "      <td>3</td>\n",
       "      <td>Algeria</td>\n",
       "      <td>Africa</td>\n",
       "      <td>45150879</td>\n",
       "      <td>37836425</td>\n",
       "      <td>83.80</td>\n",
       "      <td>Africa</td>\n",
       "      <td>AF</td>\n",
       "      <td>DZ</td>\n",
       "      <td>DZA</td>\n",
       "      <td>12.0</td>\n",
       "      <td>People's Democratic Republic</td>\n",
       "    </tr>\n",
       "    <tr>\n",
       "      <th>2</th>\n",
       "      <td>5</td>\n",
       "      <td>Andorra</td>\n",
       "      <td>Europe</td>\n",
       "      <td>77465</td>\n",
       "      <td>73101</td>\n",
       "      <td>94.37</td>\n",
       "      <td>Europe</td>\n",
       "      <td>EU</td>\n",
       "      <td>AD</td>\n",
       "      <td>AND</td>\n",
       "      <td>20.0</td>\n",
       "      <td>Principality</td>\n",
       "    </tr>\n",
       "  </tbody>\n",
       "</table>\n",
       "</div>"
      ],
      "text/plain": [
       "   index  Country  Region  Population  Internet Users  % of Population  \\\n",
       "0      2  Albania  Europe     2872758         2191467            76.28   \n",
       "1      3  Algeria  Africa    45150879        37836425            83.80   \n",
       "2      5  Andorra  Europe       77465           73101            94.37   \n",
       "\n",
       "  Continent_Name Continent_Code Two_Letter_Country_Code  \\\n",
       "0         Europe             EU                      AL   \n",
       "1         Africa             AF                      DZ   \n",
       "2         Europe             EU                      AD   \n",
       "\n",
       "  Three_Letter_Country_Code  Country_Number                          Type  \n",
       "0                       ALB             8.0                      Republic  \n",
       "1                       DZA            12.0  People's Democratic Republic  \n",
       "2                       AND            20.0                  Principality  "
      ]
     },
     "execution_count": 330,
     "metadata": {},
     "output_type": "execute_result"
    }
   ],
   "source": [
    "df3.head(3)"
   ]
  },
  {
   "cell_type": "code",
   "execution_count": 298,
   "id": "98064dec-223f-42c7-9c78-6368afe14541",
   "metadata": {},
   "outputs": [
    {
     "data": {
      "text/html": [
       "<div>\n",
       "<style scoped>\n",
       "    .dataframe tbody tr th:only-of-type {\n",
       "        vertical-align: middle;\n",
       "    }\n",
       "\n",
       "    .dataframe tbody tr th {\n",
       "        vertical-align: top;\n",
       "    }\n",
       "\n",
       "    .dataframe thead th {\n",
       "        text-align: right;\n",
       "    }\n",
       "</style>\n",
       "<table border=\"1\" class=\"dataframe\">\n",
       "  <thead>\n",
       "    <tr style=\"text-align: right;\">\n",
       "      <th></th>\n",
       "      <th>index</th>\n",
       "      <th>Country</th>\n",
       "      <th>Region</th>\n",
       "      <th>Population</th>\n",
       "      <th>Internet Users</th>\n",
       "      <th>% of Population</th>\n",
       "    </tr>\n",
       "  </thead>\n",
       "  <tbody>\n",
       "    <tr>\n",
       "      <th>0</th>\n",
       "      <td>1</td>\n",
       "      <td>Afganistan</td>\n",
       "      <td>Asia</td>\n",
       "      <td>40403518</td>\n",
       "      <td>9237489</td>\n",
       "      <td>22.86</td>\n",
       "    </tr>\n",
       "    <tr>\n",
       "      <th>1</th>\n",
       "      <td>2</td>\n",
       "      <td>Albania</td>\n",
       "      <td>Europe</td>\n",
       "      <td>2872758</td>\n",
       "      <td>2191467</td>\n",
       "      <td>76.28</td>\n",
       "    </tr>\n",
       "    <tr>\n",
       "      <th>2</th>\n",
       "      <td>3</td>\n",
       "      <td>Algeria</td>\n",
       "      <td>Africa</td>\n",
       "      <td>45150879</td>\n",
       "      <td>37836425</td>\n",
       "      <td>83.80</td>\n",
       "    </tr>\n",
       "  </tbody>\n",
       "</table>\n",
       "</div>"
      ],
      "text/plain": [
       "   index     Country  Region  Population  Internet Users  % of Population\n",
       "0      1  Afganistan    Asia    40403518         9237489            22.86\n",
       "1      2     Albania  Europe     2872758         2191467            76.28\n",
       "2      3     Algeria  Africa    45150879        37836425            83.80"
      ]
     },
     "execution_count": 298,
     "metadata": {},
     "output_type": "execute_result"
    }
   ],
   "source": [
    "df1.head(3)"
   ]
  },
  {
   "cell_type": "code",
   "execution_count": 245,
   "id": "904d9921-bc29-497a-a0c9-b2ce48812f2b",
   "metadata": {},
   "outputs": [
    {
     "data": {
      "text/plain": [
       "57"
      ]
     },
     "execution_count": 245,
     "metadata": {},
     "output_type": "execute_result"
    }
   ],
   "source": [
    "df[df['Continent_Code'] == 'EU']['Country'].count()"
   ]
  },
  {
   "cell_type": "code",
   "execution_count": 255,
   "id": "557e0a72-2af3-470e-a581-b2706566bff6",
   "metadata": {},
   "outputs": [
    {
     "data": {
      "text/plain": [
       "Continent_Code\n",
       "AS    58\n",
       "AF    58\n",
       "EU    57\n",
       "OC    27\n",
       "SA    14\n",
       "AN     5\n",
       "Name: count, dtype: int64"
      ]
     },
     "execution_count": 255,
     "metadata": {},
     "output_type": "execute_result"
    }
   ],
   "source": [
    "df['Continent_Code'].value_counts()"
   ]
  },
  {
   "cell_type": "code",
   "execution_count": 344,
   "id": "9923c19b-54dc-442a-ba7a-9092868c7638",
   "metadata": {},
   "outputs": [
    {
     "data": {
      "text/plain": [
       "index                         0\n",
       "Country                       0\n",
       "Region                        0\n",
       "Population                    0\n",
       "Internet Users                0\n",
       "% of Population               0\n",
       "Continent_Name                0\n",
       "Continent_Code               22\n",
       "Two_Letter_Country_Code       0\n",
       "Three_Letter_Country_Code     0\n",
       "Country_Number                0\n",
       "Type                          0\n",
       "dtype: int64"
      ]
     },
     "execution_count": 344,
     "metadata": {},
     "output_type": "execute_result"
    }
   ],
   "source": [
    "df3.isnull().sum()"
   ]
  },
  {
   "cell_type": "code",
   "execution_count": 352,
   "id": "01fb93a4-4752-46e6-8529-83fbd0634476",
   "metadata": {},
   "outputs": [],
   "source": [
    "mask = df3['Two_Letter_Country_Code'].isnull()\n",
    "df3.loc[mask, 'Two_Letter_Country_Code'] = df3.loc[mask, 'Country'].str[:2].str.upper()"
   ]
  },
  {
   "cell_type": "code",
   "execution_count": null,
   "id": "b3639ba7-52e6-4fea-88bd-c5b0630f2a8b",
   "metadata": {},
   "outputs": [],
   "source": [
    "cond = df3['Continent_Code'].isnull()\n"
   ]
  },
  {
   "cell_type": "code",
   "execution_count": 370,
   "id": "aff613db-d43a-42fd-b614-fb2fa3abede1",
   "metadata": {},
   "outputs": [
    {
     "data": {
      "text/plain": [
       "array(['AS', 'EU', 'AN', 'AF', 'OC', nan, 'SA'], dtype=object)"
      ]
     },
     "execution_count": 370,
     "metadata": {},
     "output_type": "execute_result"
    }
   ],
   "source": [
    "df['Continent_Code'].unique()"
   ]
  },
  {
   "cell_type": "code",
   "execution_count": null,
   "id": "ff901d4e-2bb7-4417-a881-554ad1a57cc0",
   "metadata": {},
   "outputs": [],
   "source": [
    "df"
   ]
  },
  {
   "cell_type": "code",
   "execution_count": 384,
   "id": "9cd71cb2-9b24-466f-8bb9-b51b76349d53",
   "metadata": {},
   "outputs": [],
   "source": [
    "cond = df3['Continent_Code'].isnull()\n",
    "cond1 = df3['Continent_Name'] == 'North America'\n",
    "df3.loc[cond & cond1,'Continent_Code'] = 'AS'"
   ]
  },
  {
   "cell_type": "code",
   "execution_count": 388,
   "id": "bef49a87-d30f-4db9-862e-54153198ef78",
   "metadata": {},
   "outputs": [
    {
     "data": {
      "text/plain": [
       "index                        0\n",
       "Country                      0\n",
       "Region                       0\n",
       "Population                   0\n",
       "Internet Users               0\n",
       "% of Population              0\n",
       "Continent_Name               0\n",
       "Continent_Code               0\n",
       "Two_Letter_Country_Code      0\n",
       "Three_Letter_Country_Code    0\n",
       "Country_Number               0\n",
       "Type                         0\n",
       "dtype: int64"
      ]
     },
     "execution_count": 388,
     "metadata": {},
     "output_type": "execute_result"
    }
   ],
   "source": [
    "df3.isnull().sum()"
   ]
  },
  {
   "cell_type": "code",
   "execution_count": 390,
   "id": "908c376f-fb3b-446a-a742-5c7c3442a24f",
   "metadata": {},
   "outputs": [
    {
     "data": {
      "text/html": [
       "<div>\n",
       "<style scoped>\n",
       "    .dataframe tbody tr th:only-of-type {\n",
       "        vertical-align: middle;\n",
       "    }\n",
       "\n",
       "    .dataframe tbody tr th {\n",
       "        vertical-align: top;\n",
       "    }\n",
       "\n",
       "    .dataframe thead th {\n",
       "        text-align: right;\n",
       "    }\n",
       "</style>\n",
       "<table border=\"1\" class=\"dataframe\">\n",
       "  <thead>\n",
       "    <tr style=\"text-align: right;\">\n",
       "      <th></th>\n",
       "      <th>index</th>\n",
       "      <th>Country</th>\n",
       "      <th>Region</th>\n",
       "      <th>Population</th>\n",
       "      <th>Internet Users</th>\n",
       "      <th>% of Population</th>\n",
       "      <th>Continent_Name</th>\n",
       "      <th>Continent_Code</th>\n",
       "      <th>Two_Letter_Country_Code</th>\n",
       "      <th>Three_Letter_Country_Code</th>\n",
       "      <th>Country_Number</th>\n",
       "      <th>Type</th>\n",
       "    </tr>\n",
       "  </thead>\n",
       "  <tbody>\n",
       "  </tbody>\n",
       "</table>\n",
       "</div>"
      ],
      "text/plain": [
       "Empty DataFrame\n",
       "Columns: [index, Country, Region, Population, Internet Users, % of Population, Continent_Name, Continent_Code, Two_Letter_Country_Code, Three_Letter_Country_Code, Country_Number, Type]\n",
       "Index: []"
      ]
     },
     "execution_count": 390,
     "metadata": {},
     "output_type": "execute_result"
    }
   ],
   "source": [
    "cond = df3['Continent_Code'].isnull()\n",
    "df3[cond]"
   ]
  },
  {
   "cell_type": "code",
   "execution_count": 394,
   "id": "474eb4e6-bb5e-42a1-84fe-a4da56b3b196",
   "metadata": {},
   "outputs": [
    {
     "data": {
      "text/html": [
       "<div>\n",
       "<style scoped>\n",
       "    .dataframe tbody tr th:only-of-type {\n",
       "        vertical-align: middle;\n",
       "    }\n",
       "\n",
       "    .dataframe tbody tr th {\n",
       "        vertical-align: top;\n",
       "    }\n",
       "\n",
       "    .dataframe thead th {\n",
       "        text-align: right;\n",
       "    }\n",
       "</style>\n",
       "<table border=\"1\" class=\"dataframe\">\n",
       "  <thead>\n",
       "    <tr style=\"text-align: right;\">\n",
       "      <th></th>\n",
       "      <th>index</th>\n",
       "      <th>Country</th>\n",
       "      <th>Region</th>\n",
       "      <th>Population</th>\n",
       "      <th>Internet Users</th>\n",
       "      <th>% of Population</th>\n",
       "      <th>Continent_Name</th>\n",
       "      <th>Continent_Code</th>\n",
       "      <th>Two_Letter_Country_Code</th>\n",
       "      <th>Three_Letter_Country_Code</th>\n",
       "      <th>Country_Number</th>\n",
       "      <th>Type</th>\n",
       "    </tr>\n",
       "  </thead>\n",
       "  <tbody>\n",
       "    <tr>\n",
       "      <th>108</th>\n",
       "      <td>140</td>\n",
       "      <td>Mexico</td>\n",
       "      <td>America</td>\n",
       "      <td>131249817</td>\n",
       "      <td>110400000</td>\n",
       "      <td>84.11</td>\n",
       "      <td>North America</td>\n",
       "      <td>AS</td>\n",
       "      <td>MX</td>\n",
       "      <td>MEX</td>\n",
       "      <td>484.0</td>\n",
       "      <td>United Mexican States</td>\n",
       "    </tr>\n",
       "  </tbody>\n",
       "</table>\n",
       "</div>"
      ],
      "text/plain": [
       "     index Country   Region  Population  Internet Users  % of Population  \\\n",
       "108    140  Mexico  America   131249817       110400000            84.11   \n",
       "\n",
       "    Continent_Name Continent_Code Two_Letter_Country_Code  \\\n",
       "108  North America             AS                      MX   \n",
       "\n",
       "    Three_Letter_Country_Code  Country_Number                   Type  \n",
       "108                       MEX           484.0  United Mexican States  "
      ]
     },
     "execution_count": 394,
     "metadata": {},
     "output_type": "execute_result"
    }
   ],
   "source": [
    "df3[df3['Country'] == 'Mexico']"
   ]
  },
  {
   "cell_type": "code",
   "execution_count": 398,
   "id": "4c2bc7a5-9982-45a4-b784-9515c11c5886",
   "metadata": {},
   "outputs": [
    {
     "data": {
      "text/html": [
       "<div>\n",
       "<style scoped>\n",
       "    .dataframe tbody tr th:only-of-type {\n",
       "        vertical-align: middle;\n",
       "    }\n",
       "\n",
       "    .dataframe tbody tr th {\n",
       "        vertical-align: top;\n",
       "    }\n",
       "\n",
       "    .dataframe thead th {\n",
       "        text-align: right;\n",
       "    }\n",
       "</style>\n",
       "<table border=\"1\" class=\"dataframe\">\n",
       "  <thead>\n",
       "    <tr style=\"text-align: right;\">\n",
       "      <th></th>\n",
       "      <th>index</th>\n",
       "      <th>Country</th>\n",
       "      <th>Region</th>\n",
       "      <th>Population</th>\n",
       "      <th>Internet Users</th>\n",
       "      <th>% of Population</th>\n",
       "      <th>Continent_Name</th>\n",
       "      <th>Continent_Code</th>\n",
       "      <th>Two_Letter_Country_Code</th>\n",
       "      <th>Three_Letter_Country_Code</th>\n",
       "      <th>Country_Number</th>\n",
       "      <th>Type</th>\n",
       "    </tr>\n",
       "  </thead>\n",
       "  <tbody>\n",
       "    <tr>\n",
       "      <th>0</th>\n",
       "      <td>2</td>\n",
       "      <td>Albania</td>\n",
       "      <td>Europe</td>\n",
       "      <td>2872758</td>\n",
       "      <td>2191467</td>\n",
       "      <td>76.28</td>\n",
       "      <td>Europe</td>\n",
       "      <td>EU</td>\n",
       "      <td>AL</td>\n",
       "      <td>ALB</td>\n",
       "      <td>8.0</td>\n",
       "      <td>Republic</td>\n",
       "    </tr>\n",
       "    <tr>\n",
       "      <th>1</th>\n",
       "      <td>3</td>\n",
       "      <td>Algeria</td>\n",
       "      <td>Africa</td>\n",
       "      <td>45150879</td>\n",
       "      <td>37836425</td>\n",
       "      <td>83.80</td>\n",
       "      <td>Africa</td>\n",
       "      <td>AF</td>\n",
       "      <td>DZ</td>\n",
       "      <td>DZA</td>\n",
       "      <td>12.0</td>\n",
       "      <td>People's Democratic Republic</td>\n",
       "    </tr>\n",
       "    <tr>\n",
       "      <th>2</th>\n",
       "      <td>5</td>\n",
       "      <td>Andorra</td>\n",
       "      <td>Europe</td>\n",
       "      <td>77465</td>\n",
       "      <td>73101</td>\n",
       "      <td>94.37</td>\n",
       "      <td>Europe</td>\n",
       "      <td>EU</td>\n",
       "      <td>AD</td>\n",
       "      <td>AND</td>\n",
       "      <td>20.0</td>\n",
       "      <td>Principality</td>\n",
       "    </tr>\n",
       "    <tr>\n",
       "      <th>3</th>\n",
       "      <td>6</td>\n",
       "      <td>Angola</td>\n",
       "      <td>Africa</td>\n",
       "      <td>34592611</td>\n",
       "      <td>8980670</td>\n",
       "      <td>25.96</td>\n",
       "      <td>Africa</td>\n",
       "      <td>AF</td>\n",
       "      <td>AO</td>\n",
       "      <td>AGO</td>\n",
       "      <td>24.0</td>\n",
       "      <td>Republic</td>\n",
       "    </tr>\n",
       "    <tr>\n",
       "      <th>4</th>\n",
       "      <td>7</td>\n",
       "      <td>Anguilla</td>\n",
       "      <td>America</td>\n",
       "      <td>15222</td>\n",
       "      <td>13665</td>\n",
       "      <td>89.77</td>\n",
       "      <td>North America</td>\n",
       "      <td>AS</td>\n",
       "      <td>AI</td>\n",
       "      <td>AIA</td>\n",
       "      <td>660.0</td>\n",
       "      <td></td>\n",
       "    </tr>\n",
       "  </tbody>\n",
       "</table>\n",
       "</div>"
      ],
      "text/plain": [
       "   index   Country   Region  Population  Internet Users  % of Population  \\\n",
       "0      2   Albania   Europe     2872758         2191467            76.28   \n",
       "1      3   Algeria   Africa    45150879        37836425            83.80   \n",
       "2      5   Andorra   Europe       77465           73101            94.37   \n",
       "3      6    Angola   Africa    34592611         8980670            25.96   \n",
       "4      7  Anguilla  America       15222           13665            89.77   \n",
       "\n",
       "  Continent_Name Continent_Code Two_Letter_Country_Code  \\\n",
       "0         Europe             EU                      AL   \n",
       "1         Africa             AF                      DZ   \n",
       "2         Europe             EU                      AD   \n",
       "3         Africa             AF                      AO   \n",
       "4  North America             AS                      AI   \n",
       "\n",
       "  Three_Letter_Country_Code  Country_Number                          Type  \n",
       "0                       ALB             8.0                      Republic  \n",
       "1                       DZA            12.0  People's Democratic Republic  \n",
       "2                       AND            20.0                  Principality  \n",
       "3                       AGO            24.0                      Republic  \n",
       "4                       AIA           660.0                                "
      ]
     },
     "execution_count": 398,
     "metadata": {},
     "output_type": "execute_result"
    }
   ],
   "source": [
    "df3.head(5)"
   ]
  },
  {
   "cell_type": "code",
   "execution_count": 400,
   "id": "f986a929-e4b7-428c-ad36-f2bd1cc1df6c",
   "metadata": {},
   "outputs": [],
   "source": [
    "df4 = df3.drop(['index'], axis = 1)"
   ]
  },
  {
   "cell_type": "code",
   "execution_count": 402,
   "id": "5849b648-d787-4c36-9eba-97e96261bb27",
   "metadata": {},
   "outputs": [
    {
     "data": {
      "text/html": [
       "<div>\n",
       "<style scoped>\n",
       "    .dataframe tbody tr th:only-of-type {\n",
       "        vertical-align: middle;\n",
       "    }\n",
       "\n",
       "    .dataframe tbody tr th {\n",
       "        vertical-align: top;\n",
       "    }\n",
       "\n",
       "    .dataframe thead th {\n",
       "        text-align: right;\n",
       "    }\n",
       "</style>\n",
       "<table border=\"1\" class=\"dataframe\">\n",
       "  <thead>\n",
       "    <tr style=\"text-align: right;\">\n",
       "      <th></th>\n",
       "      <th>Country</th>\n",
       "      <th>Region</th>\n",
       "      <th>Population</th>\n",
       "      <th>Internet Users</th>\n",
       "      <th>% of Population</th>\n",
       "      <th>Continent_Name</th>\n",
       "      <th>Continent_Code</th>\n",
       "      <th>Two_Letter_Country_Code</th>\n",
       "      <th>Three_Letter_Country_Code</th>\n",
       "      <th>Country_Number</th>\n",
       "      <th>Type</th>\n",
       "    </tr>\n",
       "  </thead>\n",
       "  <tbody>\n",
       "    <tr>\n",
       "      <th>0</th>\n",
       "      <td>Albania</td>\n",
       "      <td>Europe</td>\n",
       "      <td>2872758</td>\n",
       "      <td>2191467</td>\n",
       "      <td>76.28</td>\n",
       "      <td>Europe</td>\n",
       "      <td>EU</td>\n",
       "      <td>AL</td>\n",
       "      <td>ALB</td>\n",
       "      <td>8.0</td>\n",
       "      <td>Republic</td>\n",
       "    </tr>\n",
       "    <tr>\n",
       "      <th>1</th>\n",
       "      <td>Algeria</td>\n",
       "      <td>Africa</td>\n",
       "      <td>45150879</td>\n",
       "      <td>37836425</td>\n",
       "      <td>83.80</td>\n",
       "      <td>Africa</td>\n",
       "      <td>AF</td>\n",
       "      <td>DZ</td>\n",
       "      <td>DZA</td>\n",
       "      <td>12.0</td>\n",
       "      <td>People's Democratic Republic</td>\n",
       "    </tr>\n",
       "    <tr>\n",
       "      <th>2</th>\n",
       "      <td>Andorra</td>\n",
       "      <td>Europe</td>\n",
       "      <td>77465</td>\n",
       "      <td>73101</td>\n",
       "      <td>94.37</td>\n",
       "      <td>Europe</td>\n",
       "      <td>EU</td>\n",
       "      <td>AD</td>\n",
       "      <td>AND</td>\n",
       "      <td>20.0</td>\n",
       "      <td>Principality</td>\n",
       "    </tr>\n",
       "    <tr>\n",
       "      <th>3</th>\n",
       "      <td>Angola</td>\n",
       "      <td>Africa</td>\n",
       "      <td>34592611</td>\n",
       "      <td>8980670</td>\n",
       "      <td>25.96</td>\n",
       "      <td>Africa</td>\n",
       "      <td>AF</td>\n",
       "      <td>AO</td>\n",
       "      <td>AGO</td>\n",
       "      <td>24.0</td>\n",
       "      <td>Republic</td>\n",
       "    </tr>\n",
       "    <tr>\n",
       "      <th>4</th>\n",
       "      <td>Anguilla</td>\n",
       "      <td>America</td>\n",
       "      <td>15222</td>\n",
       "      <td>13665</td>\n",
       "      <td>89.77</td>\n",
       "      <td>North America</td>\n",
       "      <td>AS</td>\n",
       "      <td>AI</td>\n",
       "      <td>AIA</td>\n",
       "      <td>660.0</td>\n",
       "      <td></td>\n",
       "    </tr>\n",
       "  </tbody>\n",
       "</table>\n",
       "</div>"
      ],
      "text/plain": [
       "    Country   Region  Population  Internet Users  % of Population  \\\n",
       "0   Albania   Europe     2872758         2191467            76.28   \n",
       "1   Algeria   Africa    45150879        37836425            83.80   \n",
       "2   Andorra   Europe       77465           73101            94.37   \n",
       "3    Angola   Africa    34592611         8980670            25.96   \n",
       "4  Anguilla  America       15222           13665            89.77   \n",
       "\n",
       "  Continent_Name Continent_Code Two_Letter_Country_Code  \\\n",
       "0         Europe             EU                      AL   \n",
       "1         Africa             AF                      DZ   \n",
       "2         Europe             EU                      AD   \n",
       "3         Africa             AF                      AO   \n",
       "4  North America             AS                      AI   \n",
       "\n",
       "  Three_Letter_Country_Code  Country_Number                          Type  \n",
       "0                       ALB             8.0                      Republic  \n",
       "1                       DZA            12.0  People's Democratic Republic  \n",
       "2                       AND            20.0                  Principality  \n",
       "3                       AGO            24.0                      Republic  \n",
       "4                       AIA           660.0                                "
      ]
     },
     "execution_count": 402,
     "metadata": {},
     "output_type": "execute_result"
    }
   ],
   "source": [
    "df4.head(5)"
   ]
  },
  {
   "cell_type": "code",
   "execution_count": 406,
   "id": "64bce816-432c-4d7f-b4ac-ebba336ea6a7",
   "metadata": {},
   "outputs": [
    {
     "data": {
      "text/html": [
       "<div>\n",
       "<style scoped>\n",
       "    .dataframe tbody tr th:only-of-type {\n",
       "        vertical-align: middle;\n",
       "    }\n",
       "\n",
       "    .dataframe tbody tr th {\n",
       "        vertical-align: top;\n",
       "    }\n",
       "\n",
       "    .dataframe thead th {\n",
       "        text-align: right;\n",
       "    }\n",
       "</style>\n",
       "<table border=\"1\" class=\"dataframe\">\n",
       "  <thead>\n",
       "    <tr style=\"text-align: right;\">\n",
       "      <th></th>\n",
       "      <th>Country</th>\n",
       "      <th>Region</th>\n",
       "      <th>Population</th>\n",
       "      <th>Internet Users</th>\n",
       "      <th>% of Population</th>\n",
       "      <th>Continent_Name</th>\n",
       "      <th>Continent_Code</th>\n",
       "      <th>Two_Letter_Country_Code</th>\n",
       "      <th>Three_Letter_Country_Code</th>\n",
       "      <th>Country_Number</th>\n",
       "      <th>Type</th>\n",
       "    </tr>\n",
       "  </thead>\n",
       "  <tbody>\n",
       "    <tr>\n",
       "      <th>117</th>\n",
       "      <td>Namibia</td>\n",
       "      <td>Africa</td>\n",
       "      <td>2587344</td>\n",
       "      <td>1347418</td>\n",
       "      <td>52.08</td>\n",
       "      <td>Africa</td>\n",
       "      <td>AF</td>\n",
       "      <td>N</td>\n",
       "      <td>NAM</td>\n",
       "      <td>516.0</td>\n",
       "      <td>Republic</td>\n",
       "    </tr>\n",
       "  </tbody>\n",
       "</table>\n",
       "</div>"
      ],
      "text/plain": [
       "     Country  Region  Population  Internet Users  % of Population  \\\n",
       "117  Namibia  Africa     2587344         1347418            52.08   \n",
       "\n",
       "    Continent_Name Continent_Code Two_Letter_Country_Code  \\\n",
       "117         Africa             AF                       N   \n",
       "\n",
       "    Three_Letter_Country_Code  Country_Number      Type  \n",
       "117                       NAM           516.0  Republic  "
      ]
     },
     "execution_count": 406,
     "metadata": {},
     "output_type": "execute_result"
    }
   ],
   "source": [
    "df4[df4['Two_Letter_Country_Code'].str.len() < 2]"
   ]
  },
  {
   "cell_type": "code",
   "execution_count": 442,
   "id": "e6ac9bc7-0305-4edf-9d47-8cd80946a492",
   "metadata": {},
   "outputs": [
    {
     "data": {
      "text/plain": [
       "Country                       Namibia\n",
       "Region                         Africa\n",
       "Population                    2587344\n",
       "Internet Users                1347418\n",
       "% of Population                 52.08\n",
       "Continent_Name                 Africa\n",
       "Continent_Code                     AF\n",
       "Two_Letter_Country_Code            NA\n",
       "Three_Letter_Country_Code         NAM\n",
       "Country_Number                  516.0\n",
       "Type                         Republic\n",
       "Name: 117, dtype: object"
      ]
     },
     "execution_count": 442,
     "metadata": {},
     "output_type": "execute_result"
    }
   ],
   "source": [
    "df4.loc[117]"
   ]
  },
  {
   "cell_type": "code",
   "execution_count": 464,
   "id": "7b9d5fd5-586d-44c1-9447-ded91dc26dc6",
   "metadata": {},
   "outputs": [
    {
     "name": "stdout",
     "output_type": "stream",
     "text": [
      "['a', 'o', 'n', 'e', 't', 'w', 'o', 't', 'h', 'r', 'e', 'e']\n"
     ]
    }
   ],
   "source": [
    "a = 'aonetwothree'\n",
    "s = []\n",
    "for i in a:\n",
    "    s.append(i)\n",
    "print(s)"
   ]
  },
  {
   "cell_type": "code",
   "execution_count": 436,
   "id": "8f8c0644-6166-4163-9943-c5b4fd80b0f9",
   "metadata": {},
   "outputs": [],
   "source": [
    "cond = df4['Two_Letter_Country_Code'].str.len() < 2\n",
    "# df4[cond]\n",
    "df4.loc[cond, 'Two_Letter_Country_Code'] = df4.loc[cond, 'Country'].str[:2].str.upper()"
   ]
  },
  {
   "cell_type": "code",
   "execution_count": 444,
   "id": "0ef6f4e3-8792-4a45-a03a-b0ab942cf246",
   "metadata": {},
   "outputs": [
    {
     "data": {
      "text/html": [
       "<div>\n",
       "<style scoped>\n",
       "    .dataframe tbody tr th:only-of-type {\n",
       "        vertical-align: middle;\n",
       "    }\n",
       "\n",
       "    .dataframe tbody tr th {\n",
       "        vertical-align: top;\n",
       "    }\n",
       "\n",
       "    .dataframe thead th {\n",
       "        text-align: right;\n",
       "    }\n",
       "</style>\n",
       "<table border=\"1\" class=\"dataframe\">\n",
       "  <thead>\n",
       "    <tr style=\"text-align: right;\">\n",
       "      <th></th>\n",
       "      <th>Country</th>\n",
       "      <th>Region</th>\n",
       "      <th>Population</th>\n",
       "      <th>Internet Users</th>\n",
       "      <th>% of Population</th>\n",
       "      <th>Continent_Name</th>\n",
       "      <th>Continent_Code</th>\n",
       "      <th>Two_Letter_Country_Code</th>\n",
       "      <th>Three_Letter_Country_Code</th>\n",
       "      <th>Country_Number</th>\n",
       "      <th>Type</th>\n",
       "    </tr>\n",
       "  </thead>\n",
       "  <tbody>\n",
       "  </tbody>\n",
       "</table>\n",
       "</div>"
      ],
      "text/plain": [
       "Empty DataFrame\n",
       "Columns: [Country, Region, Population, Internet Users, % of Population, Continent_Name, Continent_Code, Two_Letter_Country_Code, Three_Letter_Country_Code, Country_Number, Type]\n",
       "Index: []"
      ]
     },
     "execution_count": 444,
     "metadata": {},
     "output_type": "execute_result"
    }
   ],
   "source": [
    "df4[df4['Two_Letter_Country_Code'].str.len() < 2]"
   ]
  },
  {
   "cell_type": "code",
   "execution_count": 452,
   "id": "d03db58d-202f-4458-8283-ac7d720cf1ff",
   "metadata": {},
   "outputs": [],
   "source": [
    "df4.to_csv(r\"C:\\Users\\teren\\Downloads\\int_user.csv\", index = False)"
   ]
  },
  {
   "cell_type": "code",
   "execution_count": 454,
   "id": "6f13f6b4-3ea1-4d6f-a8d9-d8980188db96",
   "metadata": {},
   "outputs": [],
   "source": [
    "df5 = pd.read_csv(r\"C:\\Users\\teren\\Downloads\\int_user.csv\")"
   ]
  },
  {
   "cell_type": "code",
   "execution_count": 456,
   "id": "53b91e1f-5547-4a79-aaf8-5e7312ddde3f",
   "metadata": {
    "scrolled": true
   },
   "outputs": [
    {
     "data": {
      "text/html": [
       "<div>\n",
       "<style scoped>\n",
       "    .dataframe tbody tr th:only-of-type {\n",
       "        vertical-align: middle;\n",
       "    }\n",
       "\n",
       "    .dataframe tbody tr th {\n",
       "        vertical-align: top;\n",
       "    }\n",
       "\n",
       "    .dataframe thead th {\n",
       "        text-align: right;\n",
       "    }\n",
       "</style>\n",
       "<table border=\"1\" class=\"dataframe\">\n",
       "  <thead>\n",
       "    <tr style=\"text-align: right;\">\n",
       "      <th></th>\n",
       "      <th>Country</th>\n",
       "      <th>Region</th>\n",
       "      <th>Population</th>\n",
       "      <th>Internet Users</th>\n",
       "      <th>% of Population</th>\n",
       "      <th>Continent_Name</th>\n",
       "      <th>Continent_Code</th>\n",
       "      <th>Two_Letter_Country_Code</th>\n",
       "      <th>Three_Letter_Country_Code</th>\n",
       "      <th>Country_Number</th>\n",
       "      <th>Type</th>\n",
       "    </tr>\n",
       "  </thead>\n",
       "  <tbody>\n",
       "    <tr>\n",
       "      <th>0</th>\n",
       "      <td>Albania</td>\n",
       "      <td>Europe</td>\n",
       "      <td>2872758</td>\n",
       "      <td>2191467</td>\n",
       "      <td>76.28</td>\n",
       "      <td>Europe</td>\n",
       "      <td>EU</td>\n",
       "      <td>AL</td>\n",
       "      <td>ALB</td>\n",
       "      <td>8.0</td>\n",
       "      <td>Republic</td>\n",
       "    </tr>\n",
       "    <tr>\n",
       "      <th>1</th>\n",
       "      <td>Algeria</td>\n",
       "      <td>Africa</td>\n",
       "      <td>45150879</td>\n",
       "      <td>37836425</td>\n",
       "      <td>83.80</td>\n",
       "      <td>Africa</td>\n",
       "      <td>AF</td>\n",
       "      <td>DZ</td>\n",
       "      <td>DZA</td>\n",
       "      <td>12.0</td>\n",
       "      <td>People's Democratic Republic</td>\n",
       "    </tr>\n",
       "    <tr>\n",
       "      <th>2</th>\n",
       "      <td>Andorra</td>\n",
       "      <td>Europe</td>\n",
       "      <td>77465</td>\n",
       "      <td>73101</td>\n",
       "      <td>94.37</td>\n",
       "      <td>Europe</td>\n",
       "      <td>EU</td>\n",
       "      <td>AD</td>\n",
       "      <td>AND</td>\n",
       "      <td>20.0</td>\n",
       "      <td>Principality</td>\n",
       "    </tr>\n",
       "  </tbody>\n",
       "</table>\n",
       "</div>"
      ],
      "text/plain": [
       "   Country  Region  Population  Internet Users  % of Population  \\\n",
       "0  Albania  Europe     2872758         2191467            76.28   \n",
       "1  Algeria  Africa    45150879        37836425            83.80   \n",
       "2  Andorra  Europe       77465           73101            94.37   \n",
       "\n",
       "  Continent_Name Continent_Code Two_Letter_Country_Code  \\\n",
       "0         Europe             EU                      AL   \n",
       "1         Africa             AF                      DZ   \n",
       "2         Europe             EU                      AD   \n",
       "\n",
       "  Three_Letter_Country_Code  Country_Number                          Type  \n",
       "0                       ALB             8.0                      Republic  \n",
       "1                       DZA            12.0  People's Democratic Republic  \n",
       "2                       AND            20.0                  Principality  "
      ]
     },
     "execution_count": 456,
     "metadata": {},
     "output_type": "execute_result"
    }
   ],
   "source": [
    "df5.head(3)"
   ]
  },
  {
   "cell_type": "code",
   "execution_count": 486,
   "id": "63ff3439-4941-402d-a546-8e5ca9dacdd9",
   "metadata": {},
   "outputs": [
    {
     "data": {
      "text/plain": [
       "['Europe', 'Africa', 'America', 'Oceania', 'Asia', 'Middle East']"
      ]
     },
     "execution_count": 486,
     "metadata": {},
     "output_type": "execute_result"
    }
   ],
   "source": [
    "cont = df4['Country'].unique()\n",
    "cont.tolist()\n",
    "reg = df4['Region'].unique()\n",
    "reg.tolist()"
   ]
  },
  {
   "cell_type": "code",
   "execution_count": 490,
   "id": "a4aef5e9-66da-4cfe-a352-fdc4d806961a",
   "metadata": {
    "scrolled": true
   },
   "outputs": [
    {
     "data": {
      "text/html": [
       "<div>\n",
       "<style scoped>\n",
       "    .dataframe tbody tr th:only-of-type {\n",
       "        vertical-align: middle;\n",
       "    }\n",
       "\n",
       "    .dataframe tbody tr th {\n",
       "        vertical-align: top;\n",
       "    }\n",
       "\n",
       "    .dataframe thead th {\n",
       "        text-align: right;\n",
       "    }\n",
       "</style>\n",
       "<table border=\"1\" class=\"dataframe\">\n",
       "  <thead>\n",
       "    <tr style=\"text-align: right;\">\n",
       "      <th></th>\n",
       "      <th>Region</th>\n",
       "      <th>Country</th>\n",
       "    </tr>\n",
       "  </thead>\n",
       "  <tbody>\n",
       "    <tr>\n",
       "      <th>0</th>\n",
       "      <td>Europe</td>\n",
       "      <td>Albania</td>\n",
       "    </tr>\n",
       "    <tr>\n",
       "      <th>1</th>\n",
       "      <td>Africa</td>\n",
       "      <td>Algeria</td>\n",
       "    </tr>\n",
       "    <tr>\n",
       "      <th>2</th>\n",
       "      <td>Europe</td>\n",
       "      <td>Andorra</td>\n",
       "    </tr>\n",
       "    <tr>\n",
       "      <th>3</th>\n",
       "      <td>Africa</td>\n",
       "      <td>Angola</td>\n",
       "    </tr>\n",
       "    <tr>\n",
       "      <th>4</th>\n",
       "      <td>America</td>\n",
       "      <td>Anguilla</td>\n",
       "    </tr>\n",
       "    <tr>\n",
       "      <th>...</th>\n",
       "      <td>...</td>\n",
       "      <td>...</td>\n",
       "    </tr>\n",
       "    <tr>\n",
       "      <th>170</th>\n",
       "      <td>America</td>\n",
       "      <td>Venezuela</td>\n",
       "    </tr>\n",
       "    <tr>\n",
       "      <th>171</th>\n",
       "      <td>Asia</td>\n",
       "      <td>Vietnam</td>\n",
       "    </tr>\n",
       "    <tr>\n",
       "      <th>172</th>\n",
       "      <td>Middle East</td>\n",
       "      <td>Yemen</td>\n",
       "    </tr>\n",
       "    <tr>\n",
       "      <th>173</th>\n",
       "      <td>Africa</td>\n",
       "      <td>Zambia</td>\n",
       "    </tr>\n",
       "    <tr>\n",
       "      <th>174</th>\n",
       "      <td>Africa</td>\n",
       "      <td>Zimbabwe</td>\n",
       "    </tr>\n",
       "  </tbody>\n",
       "</table>\n",
       "<p>175 rows × 2 columns</p>\n",
       "</div>"
      ],
      "text/plain": [
       "          Region    Country\n",
       "0         Europe    Albania\n",
       "1         Africa    Algeria\n",
       "2         Europe    Andorra\n",
       "3         Africa     Angola\n",
       "4        America   Anguilla\n",
       "..           ...        ...\n",
       "170      America  Venezuela\n",
       "171         Asia    Vietnam\n",
       "172  Middle East      Yemen\n",
       "173       Africa     Zambia\n",
       "174       Africa   Zimbabwe\n",
       "\n",
       "[175 rows x 2 columns]"
      ]
     },
     "execution_count": 490,
     "metadata": {},
     "output_type": "execute_result"
    }
   ],
   "source": [
    "df4[['Region','Country']]"
   ]
  },
  {
   "cell_type": "code",
   "execution_count": 492,
   "id": "b735d526-3d42-48e4-aa0c-506ade6ccb06",
   "metadata": {},
   "outputs": [],
   "source": [
    "region_dict = df4.groupby('Region')['Country'].apply(list).to_dict()"
   ]
  },
  {
   "cell_type": "code",
   "execution_count": 494,
   "id": "7221d2a6-e7dd-4390-ba36-17c9dc796d50",
   "metadata": {
    "scrolled": true
   },
   "outputs": [
    {
     "data": {
      "text/plain": [
       "{'Africa': ['Algeria',\n",
       "  'Angola',\n",
       "  'Benin',\n",
       "  'Botswana',\n",
       "  'Burundi',\n",
       "  'Cameroon',\n",
       "  'Chad',\n",
       "  'Comoros',\n",
       "  'Congo',\n",
       "  'Congo',\n",
       "  'Djibouti',\n",
       "  'Egypt',\n",
       "  'Eritrea',\n",
       "  'Ethiopia',\n",
       "  'Gabon',\n",
       "  'Gambia',\n",
       "  'Ghana',\n",
       "  'Guinea',\n",
       "  'Guinea-Bissau',\n",
       "  'Kenya',\n",
       "  'Lesotho',\n",
       "  'Liberia',\n",
       "  'Madagascar',\n",
       "  'Malawi',\n",
       "  'Mali',\n",
       "  'Mauritania',\n",
       "  'Mauritius',\n",
       "  'Morocco',\n",
       "  'Mozambique',\n",
       "  'Namibia',\n",
       "  'Niger',\n",
       "  'Nigeria',\n",
       "  'Rwanda',\n",
       "  'Senegal',\n",
       "  'Seychelles',\n",
       "  'Somalia',\n",
       "  'Sudan',\n",
       "  'Tanzania',\n",
       "  'Togo',\n",
       "  'Tunisia',\n",
       "  'Uganda',\n",
       "  'Zambia',\n",
       "  'Zimbabwe'],\n",
       " 'America': ['Anguilla',\n",
       "  'Argentina',\n",
       "  'Aruba',\n",
       "  'Bahamas',\n",
       "  'Barbados',\n",
       "  'Belize',\n",
       "  'Bermuda',\n",
       "  'Bolivia',\n",
       "  'Brazil',\n",
       "  'Canada',\n",
       "  'Chile',\n",
       "  'Colombia',\n",
       "  'Cuba',\n",
       "  'Curaçao',\n",
       "  'Dominica',\n",
       "  'Ecuador',\n",
       "  'Greenland',\n",
       "  'Grenada',\n",
       "  'Guadeloupe',\n",
       "  'Guatemala',\n",
       "  'Guyana',\n",
       "  'Haiti',\n",
       "  'Honduras',\n",
       "  'Jamaica',\n",
       "  'Martinique',\n",
       "  'Mexico',\n",
       "  'Nicaragua',\n",
       "  'Panama',\n",
       "  'Paraguay',\n",
       "  'Peru',\n",
       "  'Suriname',\n",
       "  'Uruguay',\n",
       "  'Venezuela'],\n",
       " 'Asia': ['Armenia',\n",
       "  'Armenia',\n",
       "  'Azerbaijan',\n",
       "  'Azerbaijan',\n",
       "  'Bangladesh',\n",
       "  'Bhutan',\n",
       "  'Cambodia',\n",
       "  'China',\n",
       "  'Georgia',\n",
       "  'Georgia',\n",
       "  'India',\n",
       "  'Indonesia',\n",
       "  'Japan',\n",
       "  'Kazakhstan',\n",
       "  'Kazakhstan',\n",
       "  'Macao',\n",
       "  'Malaysia',\n",
       "  'Maldives',\n",
       "  'Mongolia',\n",
       "  'Myanmar',\n",
       "  'Nepal',\n",
       "  'Pakistan',\n",
       "  'Philippines',\n",
       "  'Singapore',\n",
       "  'Taiwan',\n",
       "  'Tajikistan',\n",
       "  'Thailand',\n",
       "  'Timor-Leste',\n",
       "  'Turkmenistan',\n",
       "  'Uzbekistan',\n",
       "  'Vietnam'],\n",
       " 'Europe': ['Albania',\n",
       "  'Andorra',\n",
       "  'Austria',\n",
       "  'Belarus',\n",
       "  'Belgium',\n",
       "  'Bulgaria',\n",
       "  'Croatia',\n",
       "  'Cyprus',\n",
       "  'Cyprus',\n",
       "  'Denmark',\n",
       "  'Estonia',\n",
       "  'Finland',\n",
       "  'France',\n",
       "  'Germany',\n",
       "  'Gibraltar',\n",
       "  'Greece',\n",
       "  'Hungary',\n",
       "  'Iceland',\n",
       "  'Ireland',\n",
       "  'Italy',\n",
       "  'Jersey',\n",
       "  'Latvia',\n",
       "  'Liechtenstein',\n",
       "  'Lithuania',\n",
       "  'Luxembourg',\n",
       "  'Malta',\n",
       "  'Moldova',\n",
       "  'Monaco',\n",
       "  'Montenegro',\n",
       "  'Netherlands',\n",
       "  'Netherlands',\n",
       "  'Norway',\n",
       "  'Poland',\n",
       "  'Portugal',\n",
       "  'Romania',\n",
       "  'Serbia',\n",
       "  'Slovakia',\n",
       "  'Slovenia',\n",
       "  'Spain',\n",
       "  'Sweden',\n",
       "  'Switzerland',\n",
       "  'Turkey',\n",
       "  'Turkey',\n",
       "  'Ukraine'],\n",
       " 'Middle East': ['Bahrain',\n",
       "  'Iran',\n",
       "  'Iraq',\n",
       "  'Israel',\n",
       "  'Jordan',\n",
       "  'Kuwait',\n",
       "  'Lebanon',\n",
       "  'Oman',\n",
       "  'Qatar',\n",
       "  'Yemen'],\n",
       " 'Oceania': ['Antarctica',\n",
       "  'Australia',\n",
       "  'Fiji',\n",
       "  'Guam',\n",
       "  'Kiribati',\n",
       "  'Micronesia',\n",
       "  'Nauru',\n",
       "  'Niue',\n",
       "  'Palau',\n",
       "  'Samoa',\n",
       "  'Tokelau',\n",
       "  'Tonga',\n",
       "  'Tuvalu',\n",
       "  'Vanuatu']}"
      ]
     },
     "execution_count": 494,
     "metadata": {},
     "output_type": "execute_result"
    }
   ],
   "source": [
    "region_dict"
   ]
  },
  {
   "cell_type": "code",
   "execution_count": 498,
   "id": "78fea80a-4b81-41d7-ba3c-0ed598a3a6ea",
   "metadata": {},
   "outputs": [
    {
     "data": {
      "text/plain": [
       "'Micronesia'"
      ]
     },
     "execution_count": 498,
     "metadata": {},
     "output_type": "execute_result"
    }
   ],
   "source": [
    "region_dict['Oceania'][5]"
   ]
  },
  {
   "cell_type": "code",
   "execution_count": 506,
   "id": "600066b0-39b2-4e99-85e3-9d011c2e1a96",
   "metadata": {},
   "outputs": [],
   "source": [
    "def get_key_by_value(my_dict, target_value):\n",
    "    for key, value in my_dict.items():\n",
    "        if target_value in value:  # if value is in a list\n",
    "            return key\n",
    "    return None  # if not found"
   ]
  },
  {
   "cell_type": "code",
   "execution_count": 508,
   "id": "878cecbe-7f06-4507-bcca-f305d05346d1",
   "metadata": {
    "scrolled": true
   },
   "outputs": [
    {
     "data": {
      "text/plain": [
       "'Oceania'"
      ]
     },
     "execution_count": 508,
     "metadata": {},
     "output_type": "execute_result"
    }
   ],
   "source": [
    "get_key_by_value(region_dict, 'Tonga')"
   ]
  },
  {
   "cell_type": "code",
   "execution_count": 512,
   "id": "4589b0af-3b26-4c79-8c1d-3751dc79e680",
   "metadata": {},
   "outputs": [],
   "source": [
    "df5 = pd.read_csv(r\"C:\\Users\\teren\\Downloads\\students_adaptability_level_online_education.csv\")"
   ]
  },
  {
   "cell_type": "code",
   "execution_count": 514,
   "id": "2e5a737a-1b06-4a8e-9a97-3a08091fb587",
   "metadata": {},
   "outputs": [
    {
     "data": {
      "text/html": [
       "<div>\n",
       "<style scoped>\n",
       "    .dataframe tbody tr th:only-of-type {\n",
       "        vertical-align: middle;\n",
       "    }\n",
       "\n",
       "    .dataframe tbody tr th {\n",
       "        vertical-align: top;\n",
       "    }\n",
       "\n",
       "    .dataframe thead th {\n",
       "        text-align: right;\n",
       "    }\n",
       "</style>\n",
       "<table border=\"1\" class=\"dataframe\">\n",
       "  <thead>\n",
       "    <tr style=\"text-align: right;\">\n",
       "      <th></th>\n",
       "      <th>Gender</th>\n",
       "      <th>Age</th>\n",
       "      <th>Education Level</th>\n",
       "      <th>Institution Type</th>\n",
       "      <th>IT Student</th>\n",
       "      <th>Location</th>\n",
       "      <th>Load-shedding</th>\n",
       "      <th>Financial Condition</th>\n",
       "      <th>Internet Type</th>\n",
       "      <th>Network Type</th>\n",
       "      <th>Class Duration</th>\n",
       "      <th>Self Lms</th>\n",
       "      <th>Device</th>\n",
       "      <th>Adaptivity Level</th>\n",
       "    </tr>\n",
       "  </thead>\n",
       "  <tbody>\n",
       "    <tr>\n",
       "      <th>0</th>\n",
       "      <td>Boy</td>\n",
       "      <td>21-25</td>\n",
       "      <td>University</td>\n",
       "      <td>Non Government</td>\n",
       "      <td>No</td>\n",
       "      <td>Yes</td>\n",
       "      <td>Low</td>\n",
       "      <td>Mid</td>\n",
       "      <td>Wifi</td>\n",
       "      <td>4G</td>\n",
       "      <td>3-6</td>\n",
       "      <td>No</td>\n",
       "      <td>Tab</td>\n",
       "      <td>Moderate</td>\n",
       "    </tr>\n",
       "    <tr>\n",
       "      <th>1</th>\n",
       "      <td>Girl</td>\n",
       "      <td>21-25</td>\n",
       "      <td>University</td>\n",
       "      <td>Non Government</td>\n",
       "      <td>No</td>\n",
       "      <td>Yes</td>\n",
       "      <td>High</td>\n",
       "      <td>Mid</td>\n",
       "      <td>Mobile Data</td>\n",
       "      <td>4G</td>\n",
       "      <td>1-3</td>\n",
       "      <td>Yes</td>\n",
       "      <td>Mobile</td>\n",
       "      <td>Moderate</td>\n",
       "    </tr>\n",
       "    <tr>\n",
       "      <th>2</th>\n",
       "      <td>Girl</td>\n",
       "      <td>16-20</td>\n",
       "      <td>College</td>\n",
       "      <td>Government</td>\n",
       "      <td>No</td>\n",
       "      <td>Yes</td>\n",
       "      <td>Low</td>\n",
       "      <td>Mid</td>\n",
       "      <td>Wifi</td>\n",
       "      <td>4G</td>\n",
       "      <td>1-3</td>\n",
       "      <td>No</td>\n",
       "      <td>Mobile</td>\n",
       "      <td>Moderate</td>\n",
       "    </tr>\n",
       "  </tbody>\n",
       "</table>\n",
       "</div>"
      ],
      "text/plain": [
       "  Gender    Age Education Level Institution Type IT Student Location  \\\n",
       "0    Boy  21-25      University   Non Government         No      Yes   \n",
       "1   Girl  21-25      University   Non Government         No      Yes   \n",
       "2   Girl  16-20         College       Government         No      Yes   \n",
       "\n",
       "  Load-shedding Financial Condition Internet Type Network Type Class Duration  \\\n",
       "0           Low                 Mid          Wifi           4G            3-6   \n",
       "1          High                 Mid   Mobile Data           4G            1-3   \n",
       "2           Low                 Mid          Wifi           4G            1-3   \n",
       "\n",
       "  Self Lms  Device Adaptivity Level  \n",
       "0       No     Tab         Moderate  \n",
       "1      Yes  Mobile         Moderate  \n",
       "2       No  Mobile         Moderate  "
      ]
     },
     "execution_count": 514,
     "metadata": {},
     "output_type": "execute_result"
    }
   ],
   "source": [
    "df5.head(3)"
   ]
  },
  {
   "cell_type": "code",
   "execution_count": 516,
   "id": "d83e1439-dfaf-4fa2-b0c8-954d5204712d",
   "metadata": {},
   "outputs": [
    {
     "data": {
      "text/plain": [
       "(1205, 14)"
      ]
     },
     "execution_count": 516,
     "metadata": {},
     "output_type": "execute_result"
    }
   ],
   "source": [
    "df5.shape"
   ]
  },
  {
   "cell_type": "code",
   "execution_count": 522,
   "id": "3ea6e4f5-dc17-4dba-a532-95d52832c5d0",
   "metadata": {},
   "outputs": [
    {
     "data": {
      "text/plain": [
       "Gender                 object\n",
       "Age                    object\n",
       "Education Level        object\n",
       "Institution Type       object\n",
       "IT Student             object\n",
       "Location               object\n",
       "Load-shedding          object\n",
       "Financial Condition    object\n",
       "Internet Type          object\n",
       "Network Type           object\n",
       "Class Duration         object\n",
       "Self Lms               object\n",
       "Device                 object\n",
       "Adaptivity Level       object\n",
       "dtype: object"
      ]
     },
     "execution_count": 522,
     "metadata": {},
     "output_type": "execute_result"
    }
   ],
   "source": [
    "df5.dtypes"
   ]
  },
  {
   "cell_type": "code",
   "execution_count": 524,
   "id": "96337656-4e1f-4fad-b5e7-f331756fdc13",
   "metadata": {},
   "outputs": [
    {
     "name": "stdout",
     "output_type": "stream",
     "text": [
      "<class 'pandas.core.frame.DataFrame'>\n",
      "RangeIndex: 1205 entries, 0 to 1204\n",
      "Data columns (total 14 columns):\n",
      " #   Column               Non-Null Count  Dtype \n",
      "---  ------               --------------  ----- \n",
      " 0   Gender               1205 non-null   object\n",
      " 1   Age                  1205 non-null   object\n",
      " 2   Education Level      1205 non-null   object\n",
      " 3   Institution Type     1205 non-null   object\n",
      " 4   IT Student           1205 non-null   object\n",
      " 5   Location             1205 non-null   object\n",
      " 6   Load-shedding        1205 non-null   object\n",
      " 7   Financial Condition  1205 non-null   object\n",
      " 8   Internet Type        1205 non-null   object\n",
      " 9   Network Type         1205 non-null   object\n",
      " 10  Class Duration       1205 non-null   object\n",
      " 11  Self Lms             1205 non-null   object\n",
      " 12  Device               1205 non-null   object\n",
      " 13  Adaptivity Level     1205 non-null   object\n",
      "dtypes: object(14)\n",
      "memory usage: 131.9+ KB\n"
     ]
    }
   ],
   "source": [
    "df5.info()"
   ]
  },
  {
   "cell_type": "code",
   "execution_count": 526,
   "id": "73eee050-6c2d-463f-b045-7f97b14416d9",
   "metadata": {},
   "outputs": [
    {
     "data": {
      "text/plain": [
       "Gender                 0\n",
       "Age                    0\n",
       "Education Level        0\n",
       "Institution Type       0\n",
       "IT Student             0\n",
       "Location               0\n",
       "Load-shedding          0\n",
       "Financial Condition    0\n",
       "Internet Type          0\n",
       "Network Type           0\n",
       "Class Duration         0\n",
       "Self Lms               0\n",
       "Device                 0\n",
       "Adaptivity Level       0\n",
       "dtype: int64"
      ]
     },
     "execution_count": 526,
     "metadata": {},
     "output_type": "execute_result"
    }
   ],
   "source": [
    "df5.isnull().sum()"
   ]
  },
  {
   "cell_type": "code",
   "execution_count": 528,
   "id": "0116740f-bab3-4588-a7f5-776fbb2a5ac0",
   "metadata": {},
   "outputs": [
    {
     "data": {
      "text/html": [
       "<div>\n",
       "<style scoped>\n",
       "    .dataframe tbody tr th:only-of-type {\n",
       "        vertical-align: middle;\n",
       "    }\n",
       "\n",
       "    .dataframe tbody tr th {\n",
       "        vertical-align: top;\n",
       "    }\n",
       "\n",
       "    .dataframe thead th {\n",
       "        text-align: right;\n",
       "    }\n",
       "</style>\n",
       "<table border=\"1\" class=\"dataframe\">\n",
       "  <thead>\n",
       "    <tr style=\"text-align: right;\">\n",
       "      <th></th>\n",
       "      <th>Gender</th>\n",
       "      <th>Age</th>\n",
       "      <th>Education Level</th>\n",
       "      <th>Institution Type</th>\n",
       "      <th>IT Student</th>\n",
       "      <th>Location</th>\n",
       "      <th>Load-shedding</th>\n",
       "      <th>Financial Condition</th>\n",
       "      <th>Internet Type</th>\n",
       "      <th>Network Type</th>\n",
       "      <th>Class Duration</th>\n",
       "      <th>Self Lms</th>\n",
       "      <th>Device</th>\n",
       "      <th>Adaptivity Level</th>\n",
       "    </tr>\n",
       "  </thead>\n",
       "  <tbody>\n",
       "    <tr>\n",
       "      <th>0</th>\n",
       "      <td>Boy</td>\n",
       "      <td>21-25</td>\n",
       "      <td>University</td>\n",
       "      <td>Non Government</td>\n",
       "      <td>No</td>\n",
       "      <td>Yes</td>\n",
       "      <td>Low</td>\n",
       "      <td>Mid</td>\n",
       "      <td>Wifi</td>\n",
       "      <td>4G</td>\n",
       "      <td>3-6</td>\n",
       "      <td>No</td>\n",
       "      <td>Tab</td>\n",
       "      <td>Moderate</td>\n",
       "    </tr>\n",
       "    <tr>\n",
       "      <th>1</th>\n",
       "      <td>Girl</td>\n",
       "      <td>21-25</td>\n",
       "      <td>University</td>\n",
       "      <td>Non Government</td>\n",
       "      <td>No</td>\n",
       "      <td>Yes</td>\n",
       "      <td>High</td>\n",
       "      <td>Mid</td>\n",
       "      <td>Mobile Data</td>\n",
       "      <td>4G</td>\n",
       "      <td>1-3</td>\n",
       "      <td>Yes</td>\n",
       "      <td>Mobile</td>\n",
       "      <td>Moderate</td>\n",
       "    </tr>\n",
       "  </tbody>\n",
       "</table>\n",
       "</div>"
      ],
      "text/plain": [
       "  Gender    Age Education Level Institution Type IT Student Location  \\\n",
       "0    Boy  21-25      University   Non Government         No      Yes   \n",
       "1   Girl  21-25      University   Non Government         No      Yes   \n",
       "\n",
       "  Load-shedding Financial Condition Internet Type Network Type Class Duration  \\\n",
       "0           Low                 Mid          Wifi           4G            3-6   \n",
       "1          High                 Mid   Mobile Data           4G            1-3   \n",
       "\n",
       "  Self Lms  Device Adaptivity Level  \n",
       "0       No     Tab         Moderate  \n",
       "1      Yes  Mobile         Moderate  "
      ]
     },
     "execution_count": 528,
     "metadata": {},
     "output_type": "execute_result"
    }
   ],
   "source": [
    "df5.head(2)"
   ]
  },
  {
   "cell_type": "code",
   "execution_count": 530,
   "id": "9bf3db2b-afed-47ac-99a8-665f0b2699d3",
   "metadata": {},
   "outputs": [],
   "source": [
    "def spl(txt:str):\n",
    "    res = ''\n",
    "    for i in txt:\n",
    "        if i != '-':\n",
    "            res = res + i\n",
    "        else:\n",
    "            break\n",
    "    return int(res)"
   ]
  },
  {
   "cell_type": "code",
   "execution_count": 534,
   "id": "2b0bea02-c406-4c99-9abb-55a804dc96cf",
   "metadata": {},
   "outputs": [
    {
     "data": {
      "text/plain": [
       "21"
      ]
     },
     "execution_count": 534,
     "metadata": {},
     "output_type": "execute_result"
    }
   ],
   "source": [
    "spl('21-25')"
   ]
  },
  {
   "cell_type": "code",
   "execution_count": 580,
   "id": "b1732596-abbd-4cba-87c7-d4a53b8b439b",
   "metadata": {},
   "outputs": [],
   "source": [
    "def plt2(txt:str):\n",
    "    res = ''\n",
    "    if len(txt.split('-')) == 1:\n",
    "        res = txt\n",
    "    else:\n",
    "        res = res + txt.split('-')[1]\n",
    "    return int(res)"
   ]
  },
  {
   "cell_type": "code",
   "execution_count": 582,
   "id": "0c00bb38-ede8-44cc-ac4e-d406a6e3c6f9",
   "metadata": {},
   "outputs": [
    {
     "data": {
      "text/plain": [
       "3"
      ]
     },
     "execution_count": 582,
     "metadata": {},
     "output_type": "execute_result"
    }
   ],
   "source": [
    "plt2('3')"
   ]
  },
  {
   "cell_type": "code",
   "execution_count": 566,
   "id": "2ea5652e-306b-4f48-993b-b1d6762f9593",
   "metadata": {
    "scrolled": true
   },
   "outputs": [
    {
     "data": {
      "text/plain": [
       "['3', '6']"
      ]
     },
     "execution_count": 566,
     "metadata": {},
     "output_type": "execute_result"
    }
   ],
   "source": [
    "('3-6').split('-')"
   ]
  },
  {
   "cell_type": "code",
   "execution_count": 552,
   "id": "8dc4c273-3827-4359-83a3-4fbb553c9706",
   "metadata": {},
   "outputs": [
    {
     "data": {
      "text/html": [
       "<div>\n",
       "<style scoped>\n",
       "    .dataframe tbody tr th:only-of-type {\n",
       "        vertical-align: middle;\n",
       "    }\n",
       "\n",
       "    .dataframe tbody tr th {\n",
       "        vertical-align: top;\n",
       "    }\n",
       "\n",
       "    .dataframe thead th {\n",
       "        text-align: right;\n",
       "    }\n",
       "</style>\n",
       "<table border=\"1\" class=\"dataframe\">\n",
       "  <thead>\n",
       "    <tr style=\"text-align: right;\">\n",
       "      <th></th>\n",
       "      <th>Gender</th>\n",
       "      <th>Age</th>\n",
       "      <th>Education Level</th>\n",
       "      <th>Institution Type</th>\n",
       "      <th>IT Student</th>\n",
       "      <th>Location</th>\n",
       "      <th>Load-shedding</th>\n",
       "      <th>Financial Condition</th>\n",
       "      <th>Internet Type</th>\n",
       "      <th>Network Type</th>\n",
       "      <th>Class Duration</th>\n",
       "      <th>Self Lms</th>\n",
       "      <th>Device</th>\n",
       "      <th>Adaptivity Level</th>\n",
       "    </tr>\n",
       "  </thead>\n",
       "  <tbody>\n",
       "    <tr>\n",
       "      <th>0</th>\n",
       "      <td>Boy</td>\n",
       "      <td>21-25</td>\n",
       "      <td>University</td>\n",
       "      <td>Non Government</td>\n",
       "      <td>No</td>\n",
       "      <td>Yes</td>\n",
       "      <td>Low</td>\n",
       "      <td>Mid</td>\n",
       "      <td>Wifi</td>\n",
       "      <td>4G</td>\n",
       "      <td>3-6</td>\n",
       "      <td>No</td>\n",
       "      <td>Tab</td>\n",
       "      <td>Moderate</td>\n",
       "    </tr>\n",
       "    <tr>\n",
       "      <th>1</th>\n",
       "      <td>Girl</td>\n",
       "      <td>21-25</td>\n",
       "      <td>University</td>\n",
       "      <td>Non Government</td>\n",
       "      <td>No</td>\n",
       "      <td>Yes</td>\n",
       "      <td>High</td>\n",
       "      <td>Mid</td>\n",
       "      <td>Mobile Data</td>\n",
       "      <td>4G</td>\n",
       "      <td>1-3</td>\n",
       "      <td>Yes</td>\n",
       "      <td>Mobile</td>\n",
       "      <td>Moderate</td>\n",
       "    </tr>\n",
       "  </tbody>\n",
       "</table>\n",
       "</div>"
      ],
      "text/plain": [
       "  Gender    Age Education Level Institution Type IT Student Location  \\\n",
       "0    Boy  21-25      University   Non Government         No      Yes   \n",
       "1   Girl  21-25      University   Non Government         No      Yes   \n",
       "\n",
       "  Load-shedding Financial Condition Internet Type Network Type Class Duration  \\\n",
       "0           Low                 Mid          Wifi           4G            3-6   \n",
       "1          High                 Mid   Mobile Data           4G            1-3   \n",
       "\n",
       "  Self Lms  Device Adaptivity Level  \n",
       "0       No     Tab         Moderate  \n",
       "1      Yes  Mobile         Moderate  "
      ]
     },
     "execution_count": 552,
     "metadata": {},
     "output_type": "execute_result"
    }
   ],
   "source": [
    "df5.head(2)"
   ]
  },
  {
   "cell_type": "code",
   "execution_count": 554,
   "id": "96e375a4-0faf-4e03-bf2d-3f36494289c9",
   "metadata": {},
   "outputs": [],
   "source": [
    "df5['Age_s'] = pd.Series(map(spl, df5['Age']))"
   ]
  },
  {
   "cell_type": "code",
   "execution_count": 556,
   "id": "3d989959-0b67-4526-8dd9-7093f89a383d",
   "metadata": {},
   "outputs": [],
   "source": [
    "df5['Age_f'] = pd.Series(map(plt2, df5['Age']))"
   ]
  },
  {
   "cell_type": "code",
   "execution_count": 558,
   "id": "db079c3d-7fe1-4453-bd47-d239ed20f459",
   "metadata": {
    "scrolled": true
   },
   "outputs": [
    {
     "data": {
      "text/html": [
       "<div>\n",
       "<style scoped>\n",
       "    .dataframe tbody tr th:only-of-type {\n",
       "        vertical-align: middle;\n",
       "    }\n",
       "\n",
       "    .dataframe tbody tr th {\n",
       "        vertical-align: top;\n",
       "    }\n",
       "\n",
       "    .dataframe thead th {\n",
       "        text-align: right;\n",
       "    }\n",
       "</style>\n",
       "<table border=\"1\" class=\"dataframe\">\n",
       "  <thead>\n",
       "    <tr style=\"text-align: right;\">\n",
       "      <th></th>\n",
       "      <th>Gender</th>\n",
       "      <th>Age</th>\n",
       "      <th>Education Level</th>\n",
       "      <th>Institution Type</th>\n",
       "      <th>IT Student</th>\n",
       "      <th>Location</th>\n",
       "      <th>Load-shedding</th>\n",
       "      <th>Financial Condition</th>\n",
       "      <th>Internet Type</th>\n",
       "      <th>Network Type</th>\n",
       "      <th>Class Duration</th>\n",
       "      <th>Self Lms</th>\n",
       "      <th>Device</th>\n",
       "      <th>Adaptivity Level</th>\n",
       "      <th>Age_s</th>\n",
       "      <th>Age_f</th>\n",
       "    </tr>\n",
       "  </thead>\n",
       "  <tbody>\n",
       "    <tr>\n",
       "      <th>0</th>\n",
       "      <td>Boy</td>\n",
       "      <td>21-25</td>\n",
       "      <td>University</td>\n",
       "      <td>Non Government</td>\n",
       "      <td>No</td>\n",
       "      <td>Yes</td>\n",
       "      <td>Low</td>\n",
       "      <td>Mid</td>\n",
       "      <td>Wifi</td>\n",
       "      <td>4G</td>\n",
       "      <td>3-6</td>\n",
       "      <td>No</td>\n",
       "      <td>Tab</td>\n",
       "      <td>Moderate</td>\n",
       "      <td>21</td>\n",
       "      <td>25</td>\n",
       "    </tr>\n",
       "    <tr>\n",
       "      <th>1</th>\n",
       "      <td>Girl</td>\n",
       "      <td>21-25</td>\n",
       "      <td>University</td>\n",
       "      <td>Non Government</td>\n",
       "      <td>No</td>\n",
       "      <td>Yes</td>\n",
       "      <td>High</td>\n",
       "      <td>Mid</td>\n",
       "      <td>Mobile Data</td>\n",
       "      <td>4G</td>\n",
       "      <td>1-3</td>\n",
       "      <td>Yes</td>\n",
       "      <td>Mobile</td>\n",
       "      <td>Moderate</td>\n",
       "      <td>21</td>\n",
       "      <td>25</td>\n",
       "    </tr>\n",
       "  </tbody>\n",
       "</table>\n",
       "</div>"
      ],
      "text/plain": [
       "  Gender    Age Education Level Institution Type IT Student Location  \\\n",
       "0    Boy  21-25      University   Non Government         No      Yes   \n",
       "1   Girl  21-25      University   Non Government         No      Yes   \n",
       "\n",
       "  Load-shedding Financial Condition Internet Type Network Type Class Duration  \\\n",
       "0           Low                 Mid          Wifi           4G            3-6   \n",
       "1          High                 Mid   Mobile Data           4G            1-3   \n",
       "\n",
       "  Self Lms  Device Adaptivity Level  Age_s  Age_f  \n",
       "0       No     Tab         Moderate     21     25  \n",
       "1      Yes  Mobile         Moderate     21     25  "
      ]
     },
     "execution_count": 558,
     "metadata": {},
     "output_type": "execute_result"
    }
   ],
   "source": [
    "df5.head(2)"
   ]
  },
  {
   "cell_type": "code",
   "execution_count": 570,
   "id": "56b604c9-efbc-429c-ba48-9d3c36fa4f1d",
   "metadata": {},
   "outputs": [
    {
     "data": {
      "text/plain": [
       "array(['3-6', '1-3', '0'], dtype=object)"
      ]
     },
     "execution_count": 570,
     "metadata": {},
     "output_type": "execute_result"
    }
   ],
   "source": [
    "df5['Class Duration'].unique()"
   ]
  },
  {
   "cell_type": "code",
   "execution_count": 560,
   "id": "93f4fadc-11b8-43f4-a49d-25e66bc2b59a",
   "metadata": {},
   "outputs": [],
   "source": [
    "df5['Class_s'] = pd.Series(map(spl, df5['Class Duration']))"
   ]
  },
  {
   "cell_type": "code",
   "execution_count": 584,
   "id": "b118146b-dfe0-4102-9d77-275d97ef9f6a",
   "metadata": {},
   "outputs": [],
   "source": [
    "df5['Class_f'] = pd.Series(map(plt2, df5['Class Duration']))"
   ]
  },
  {
   "cell_type": "code",
   "execution_count": 586,
   "id": "7b30d811-8754-4582-b347-c1406738c97f",
   "metadata": {},
   "outputs": [
    {
     "data": {
      "text/html": [
       "<div>\n",
       "<style scoped>\n",
       "    .dataframe tbody tr th:only-of-type {\n",
       "        vertical-align: middle;\n",
       "    }\n",
       "\n",
       "    .dataframe tbody tr th {\n",
       "        vertical-align: top;\n",
       "    }\n",
       "\n",
       "    .dataframe thead th {\n",
       "        text-align: right;\n",
       "    }\n",
       "</style>\n",
       "<table border=\"1\" class=\"dataframe\">\n",
       "  <thead>\n",
       "    <tr style=\"text-align: right;\">\n",
       "      <th></th>\n",
       "      <th>Gender</th>\n",
       "      <th>Age</th>\n",
       "      <th>Education Level</th>\n",
       "      <th>Institution Type</th>\n",
       "      <th>IT Student</th>\n",
       "      <th>Location</th>\n",
       "      <th>Load-shedding</th>\n",
       "      <th>Financial Condition</th>\n",
       "      <th>Internet Type</th>\n",
       "      <th>Network Type</th>\n",
       "      <th>Class Duration</th>\n",
       "      <th>Self Lms</th>\n",
       "      <th>Device</th>\n",
       "      <th>Adaptivity Level</th>\n",
       "      <th>Age_s</th>\n",
       "      <th>Age_f</th>\n",
       "      <th>Class_s</th>\n",
       "      <th>Class_f</th>\n",
       "    </tr>\n",
       "  </thead>\n",
       "  <tbody>\n",
       "    <tr>\n",
       "      <th>0</th>\n",
       "      <td>Boy</td>\n",
       "      <td>21-25</td>\n",
       "      <td>University</td>\n",
       "      <td>Non Government</td>\n",
       "      <td>No</td>\n",
       "      <td>Yes</td>\n",
       "      <td>Low</td>\n",
       "      <td>Mid</td>\n",
       "      <td>Wifi</td>\n",
       "      <td>4G</td>\n",
       "      <td>3-6</td>\n",
       "      <td>No</td>\n",
       "      <td>Tab</td>\n",
       "      <td>Moderate</td>\n",
       "      <td>21</td>\n",
       "      <td>25</td>\n",
       "      <td>3</td>\n",
       "      <td>6</td>\n",
       "    </tr>\n",
       "    <tr>\n",
       "      <th>1</th>\n",
       "      <td>Girl</td>\n",
       "      <td>21-25</td>\n",
       "      <td>University</td>\n",
       "      <td>Non Government</td>\n",
       "      <td>No</td>\n",
       "      <td>Yes</td>\n",
       "      <td>High</td>\n",
       "      <td>Mid</td>\n",
       "      <td>Mobile Data</td>\n",
       "      <td>4G</td>\n",
       "      <td>1-3</td>\n",
       "      <td>Yes</td>\n",
       "      <td>Mobile</td>\n",
       "      <td>Moderate</td>\n",
       "      <td>21</td>\n",
       "      <td>25</td>\n",
       "      <td>1</td>\n",
       "      <td>3</td>\n",
       "    </tr>\n",
       "  </tbody>\n",
       "</table>\n",
       "</div>"
      ],
      "text/plain": [
       "  Gender    Age Education Level Institution Type IT Student Location  \\\n",
       "0    Boy  21-25      University   Non Government         No      Yes   \n",
       "1   Girl  21-25      University   Non Government         No      Yes   \n",
       "\n",
       "  Load-shedding Financial Condition Internet Type Network Type Class Duration  \\\n",
       "0           Low                 Mid          Wifi           4G            3-6   \n",
       "1          High                 Mid   Mobile Data           4G            1-3   \n",
       "\n",
       "  Self Lms  Device Adaptivity Level  Age_s  Age_f  Class_s  Class_f  \n",
       "0       No     Tab         Moderate     21     25        3        6  \n",
       "1      Yes  Mobile         Moderate     21     25        1        3  "
      ]
     },
     "execution_count": 586,
     "metadata": {},
     "output_type": "execute_result"
    }
   ],
   "source": [
    "df5.head(2)"
   ]
  },
  {
   "cell_type": "code",
   "execution_count": 588,
   "id": "d8250c9d-bdf3-4510-a1ce-d491868f3c37",
   "metadata": {},
   "outputs": [],
   "source": [
    "df_x = df5.drop(['Age', 'Class Duration' ], axis = 1)"
   ]
  },
  {
   "cell_type": "code",
   "execution_count": 590,
   "id": "1e75ffcc-bd1a-4084-a40b-051002c849ce",
   "metadata": {},
   "outputs": [
    {
     "data": {
      "text/html": [
       "<div>\n",
       "<style scoped>\n",
       "    .dataframe tbody tr th:only-of-type {\n",
       "        vertical-align: middle;\n",
       "    }\n",
       "\n",
       "    .dataframe tbody tr th {\n",
       "        vertical-align: top;\n",
       "    }\n",
       "\n",
       "    .dataframe thead th {\n",
       "        text-align: right;\n",
       "    }\n",
       "</style>\n",
       "<table border=\"1\" class=\"dataframe\">\n",
       "  <thead>\n",
       "    <tr style=\"text-align: right;\">\n",
       "      <th></th>\n",
       "      <th>Gender</th>\n",
       "      <th>Education Level</th>\n",
       "      <th>Institution Type</th>\n",
       "      <th>IT Student</th>\n",
       "      <th>Location</th>\n",
       "      <th>Load-shedding</th>\n",
       "      <th>Financial Condition</th>\n",
       "      <th>Internet Type</th>\n",
       "      <th>Network Type</th>\n",
       "      <th>Self Lms</th>\n",
       "      <th>Device</th>\n",
       "      <th>Adaptivity Level</th>\n",
       "      <th>Age_s</th>\n",
       "      <th>Age_f</th>\n",
       "      <th>Class_s</th>\n",
       "      <th>Class_f</th>\n",
       "    </tr>\n",
       "  </thead>\n",
       "  <tbody>\n",
       "    <tr>\n",
       "      <th>0</th>\n",
       "      <td>Boy</td>\n",
       "      <td>University</td>\n",
       "      <td>Non Government</td>\n",
       "      <td>No</td>\n",
       "      <td>Yes</td>\n",
       "      <td>Low</td>\n",
       "      <td>Mid</td>\n",
       "      <td>Wifi</td>\n",
       "      <td>4G</td>\n",
       "      <td>No</td>\n",
       "      <td>Tab</td>\n",
       "      <td>Moderate</td>\n",
       "      <td>21</td>\n",
       "      <td>25</td>\n",
       "      <td>3</td>\n",
       "      <td>6</td>\n",
       "    </tr>\n",
       "    <tr>\n",
       "      <th>1</th>\n",
       "      <td>Girl</td>\n",
       "      <td>University</td>\n",
       "      <td>Non Government</td>\n",
       "      <td>No</td>\n",
       "      <td>Yes</td>\n",
       "      <td>High</td>\n",
       "      <td>Mid</td>\n",
       "      <td>Mobile Data</td>\n",
       "      <td>4G</td>\n",
       "      <td>Yes</td>\n",
       "      <td>Mobile</td>\n",
       "      <td>Moderate</td>\n",
       "      <td>21</td>\n",
       "      <td>25</td>\n",
       "      <td>1</td>\n",
       "      <td>3</td>\n",
       "    </tr>\n",
       "    <tr>\n",
       "      <th>2</th>\n",
       "      <td>Girl</td>\n",
       "      <td>College</td>\n",
       "      <td>Government</td>\n",
       "      <td>No</td>\n",
       "      <td>Yes</td>\n",
       "      <td>Low</td>\n",
       "      <td>Mid</td>\n",
       "      <td>Wifi</td>\n",
       "      <td>4G</td>\n",
       "      <td>No</td>\n",
       "      <td>Mobile</td>\n",
       "      <td>Moderate</td>\n",
       "      <td>16</td>\n",
       "      <td>20</td>\n",
       "      <td>1</td>\n",
       "      <td>3</td>\n",
       "    </tr>\n",
       "  </tbody>\n",
       "</table>\n",
       "</div>"
      ],
      "text/plain": [
       "  Gender Education Level Institution Type IT Student Location Load-shedding  \\\n",
       "0    Boy      University   Non Government         No      Yes           Low   \n",
       "1   Girl      University   Non Government         No      Yes          High   \n",
       "2   Girl         College       Government         No      Yes           Low   \n",
       "\n",
       "  Financial Condition Internet Type Network Type Self Lms  Device  \\\n",
       "0                 Mid          Wifi           4G       No     Tab   \n",
       "1                 Mid   Mobile Data           4G      Yes  Mobile   \n",
       "2                 Mid          Wifi           4G       No  Mobile   \n",
       "\n",
       "  Adaptivity Level  Age_s  Age_f  Class_s  Class_f  \n",
       "0         Moderate     21     25        3        6  \n",
       "1         Moderate     21     25        1        3  \n",
       "2         Moderate     16     20        1        3  "
      ]
     },
     "execution_count": 590,
     "metadata": {},
     "output_type": "execute_result"
    }
   ],
   "source": [
    "df_x.head(3)"
   ]
  },
  {
   "cell_type": "code",
   "execution_count": 602,
   "id": "32c3d8d1-0dce-4ccc-8eb8-b1ab7df2d998",
   "metadata": {},
   "outputs": [],
   "source": [
    "df1 = df5.drop(['Age', 'Class Duration' ], axis = 1).copy()"
   ]
  },
  {
   "cell_type": "code",
   "execution_count": 604,
   "id": "9f2f8d56-e7a2-415c-8352-f1b963a321f1",
   "metadata": {},
   "outputs": [
    {
     "data": {
      "text/html": [
       "<div>\n",
       "<style scoped>\n",
       "    .dataframe tbody tr th:only-of-type {\n",
       "        vertical-align: middle;\n",
       "    }\n",
       "\n",
       "    .dataframe tbody tr th {\n",
       "        vertical-align: top;\n",
       "    }\n",
       "\n",
       "    .dataframe thead th {\n",
       "        text-align: right;\n",
       "    }\n",
       "</style>\n",
       "<table border=\"1\" class=\"dataframe\">\n",
       "  <thead>\n",
       "    <tr style=\"text-align: right;\">\n",
       "      <th></th>\n",
       "      <th>Gender</th>\n",
       "      <th>Education Level</th>\n",
       "      <th>Institution Type</th>\n",
       "      <th>IT Student</th>\n",
       "      <th>Location</th>\n",
       "      <th>Load-shedding</th>\n",
       "      <th>Financial Condition</th>\n",
       "      <th>Internet Type</th>\n",
       "      <th>Network Type</th>\n",
       "      <th>Self Lms</th>\n",
       "      <th>Device</th>\n",
       "      <th>Adaptivity Level</th>\n",
       "      <th>Age_s</th>\n",
       "      <th>Age_f</th>\n",
       "      <th>Class_s</th>\n",
       "      <th>Class_f</th>\n",
       "    </tr>\n",
       "  </thead>\n",
       "  <tbody>\n",
       "    <tr>\n",
       "      <th>1</th>\n",
       "      <td>Girl</td>\n",
       "      <td>University</td>\n",
       "      <td>Non Government</td>\n",
       "      <td>No</td>\n",
       "      <td>Yes</td>\n",
       "      <td>High</td>\n",
       "      <td>Mid</td>\n",
       "      <td>Mobile Data</td>\n",
       "      <td>4G</td>\n",
       "      <td>Yes</td>\n",
       "      <td>Mobile</td>\n",
       "      <td>Moderate</td>\n",
       "      <td>21</td>\n",
       "      <td>25</td>\n",
       "      <td>1</td>\n",
       "      <td>3</td>\n",
       "    </tr>\n",
       "    <tr>\n",
       "      <th>2</th>\n",
       "      <td>Girl</td>\n",
       "      <td>College</td>\n",
       "      <td>Government</td>\n",
       "      <td>No</td>\n",
       "      <td>Yes</td>\n",
       "      <td>Low</td>\n",
       "      <td>Mid</td>\n",
       "      <td>Wifi</td>\n",
       "      <td>4G</td>\n",
       "      <td>No</td>\n",
       "      <td>Mobile</td>\n",
       "      <td>Moderate</td>\n",
       "      <td>16</td>\n",
       "      <td>20</td>\n",
       "      <td>1</td>\n",
       "      <td>3</td>\n",
       "    </tr>\n",
       "    <tr>\n",
       "      <th>3</th>\n",
       "      <td>Girl</td>\n",
       "      <td>School</td>\n",
       "      <td>Non Government</td>\n",
       "      <td>No</td>\n",
       "      <td>Yes</td>\n",
       "      <td>Low</td>\n",
       "      <td>Mid</td>\n",
       "      <td>Mobile Data</td>\n",
       "      <td>4G</td>\n",
       "      <td>No</td>\n",
       "      <td>Mobile</td>\n",
       "      <td>Moderate</td>\n",
       "      <td>11</td>\n",
       "      <td>15</td>\n",
       "      <td>1</td>\n",
       "      <td>3</td>\n",
       "    </tr>\n",
       "  </tbody>\n",
       "</table>\n",
       "</div>"
      ],
      "text/plain": [
       "  Gender Education Level Institution Type IT Student Location Load-shedding  \\\n",
       "1   Girl      University   Non Government         No      Yes          High   \n",
       "2   Girl         College       Government         No      Yes           Low   \n",
       "3   Girl          School   Non Government         No      Yes           Low   \n",
       "\n",
       "  Financial Condition Internet Type Network Type Self Lms  Device  \\\n",
       "1                 Mid   Mobile Data           4G      Yes  Mobile   \n",
       "2                 Mid          Wifi           4G       No  Mobile   \n",
       "3                 Mid   Mobile Data           4G       No  Mobile   \n",
       "\n",
       "  Adaptivity Level  Age_s  Age_f  Class_s  Class_f  \n",
       "1         Moderate     21     25        1        3  \n",
       "2         Moderate     16     20        1        3  \n",
       "3         Moderate     11     15        1        3  "
      ]
     },
     "execution_count": 604,
     "metadata": {},
     "output_type": "execute_result"
    }
   ],
   "source": [
    "df1[df1['Gender'] == 'Girl'].head(3)"
   ]
  },
  {
   "cell_type": "code",
   "execution_count": 632,
   "id": "8f2af531-9196-4705-a3ee-00772fa493a7",
   "metadata": {},
   "outputs": [
    {
     "data": {
      "text/plain": [
       "Gender  Education Level  Institution Type  IT Student  Location  Load-shedding  Financial Condition  Internet Type  Network Type  Self Lms  Device    Adaptivity Level  Age_s  Age_f  Class_s  Class_f\n",
       "Boy     School           Non Government    No          Yes       Low            Mid                  Mobile Data    4G            No        Mobile    Moderate          11     15     1        3          34\n",
       "Girl    School           Non Government    No          Yes       Low            Mid                  Mobile Data    4G            No        Mobile    Moderate          1      5      1        3          29\n",
       "                                                                                                                                                                        11     15     1        3          29\n",
       "Boy     School           Non Government    No          Yes       Low            Mid                  Mobile Data    3G            No        Mobile    Moderate          11     15     1        3          27\n",
       "Girl    School           Non Government    No          Yes       Low            Poor                 Mobile Data    4G            No        Mobile    Moderate          1      5      1        3          27\n",
       "                                                                                                                                                                                                          ..\n",
       "        College          Non Government    No          No        Low            Mid                  Mobile Data    3G            Yes       Mobile    Low               16     20     1        3           1\n",
       "        University       Government        No          Yes       Low            Mid                  Wifi           4G            No        Mobile    Low               16     20     1        3           1\n",
       "Boy     University       Non Government    Yes         Yes       Low            Mid                  Mobile Data    4G            No        Computer  Moderate          21     25     3        6           1\n",
       "        School           Non Government    No          Yes       Low            Rich                 Wifi           4G            No        Mobile    High              11     15     1        3           1\n",
       "        College          Government        No          Yes       Low            Mid                  Mobile Data    3G            No        Mobile    Moderate          16     20     1        3           1\n",
       "Name: count, Length: 256, dtype: int64"
      ]
     },
     "execution_count": 632,
     "metadata": {},
     "output_type": "execute_result"
    }
   ],
   "source": [
    "df1.value_counts()"
   ]
  },
  {
   "cell_type": "code",
   "execution_count": 612,
   "id": "814d3fe1-ff3c-4eb0-b45f-81cd1fbc3ba9",
   "metadata": {},
   "outputs": [
    {
     "data": {
      "text/plain": [
       "array(['Boy', 'Girl'], dtype=object)"
      ]
     },
     "execution_count": 612,
     "metadata": {},
     "output_type": "execute_result"
    }
   ],
   "source": [
    "df1['Gender'].unique()"
   ]
  },
  {
   "cell_type": "code",
   "execution_count": 636,
   "id": "34bd820e-1f17-4184-be80-c1547664345d",
   "metadata": {},
   "outputs": [
    {
     "data": {
      "text/plain": [
       "Gender                            Boy\n",
       "Education Level                School\n",
       "Institution Type       Non Government\n",
       "IT Student                         No\n",
       "Location                          Yes\n",
       "Load-shedding                     Low\n",
       "Financial Condition               Mid\n",
       "Internet Type             Mobile Data\n",
       "Network Type                       3G\n",
       "Self Lms                           No\n",
       "Device                         Mobile\n",
       "Adaptivity Level             Moderate\n",
       "Age_s                              11\n",
       "Age_f                              15\n",
       "Class_s                             1\n",
       "Class_f                             3\n",
       "Name: 663, dtype: object"
      ]
     },
     "execution_count": 636,
     "metadata": {},
     "output_type": "execute_result"
    }
   ],
   "source": [
    "df1.loc[663]"
   ]
  },
  {
   "cell_type": "code",
   "execution_count": 630,
   "id": "7ff316df-a53c-4eda-b991-bb00669584f1",
   "metadata": {
    "scrolled": true
   },
   "outputs": [
    {
     "data": {
      "text/plain": [
       "<Axes: title={'center': 'Gender Distribution'}>"
      ]
     },
     "execution_count": 630,
     "metadata": {},
     "output_type": "execute_result"
    },
    {
     "data": {
      "image/png": "[encoded data removed]",
      "text/plain": [
       "<Figure size 640x480 with 1 Axes>"
      ]
     },
     "metadata": {},
     "output_type": "display_data"
    }
   ],
   "source": [
    "a = df1['Gender'].value_counts()\n",
    "a.plot(kind='pie', autopct='%1.1f%%', ylabel='', title='Gender Distribution')"
   ]
  },
  {
   "cell_type": "code",
   "execution_count": 638,
   "id": "f3434d9d-247d-41fa-a219-0c18affcf2e8",
   "metadata": {},
   "outputs": [
    {
     "data": {
      "text/html": [
       "<div>\n",
       "<style scoped>\n",
       "    .dataframe tbody tr th:only-of-type {\n",
       "        vertical-align: middle;\n",
       "    }\n",
       "\n",
       "    .dataframe tbody tr th {\n",
       "        vertical-align: top;\n",
       "    }\n",
       "\n",
       "    .dataframe thead th {\n",
       "        text-align: right;\n",
       "    }\n",
       "</style>\n",
       "<table border=\"1\" class=\"dataframe\">\n",
       "  <thead>\n",
       "    <tr style=\"text-align: right;\">\n",
       "      <th></th>\n",
       "      <th>Gender</th>\n",
       "      <th>Education Level</th>\n",
       "      <th>Institution Type</th>\n",
       "      <th>IT Student</th>\n",
       "      <th>Location</th>\n",
       "      <th>Load-shedding</th>\n",
       "      <th>Financial Condition</th>\n",
       "      <th>Internet Type</th>\n",
       "      <th>Network Type</th>\n",
       "      <th>Self Lms</th>\n",
       "      <th>Device</th>\n",
       "      <th>Adaptivity Level</th>\n",
       "      <th>Age_s</th>\n",
       "      <th>Age_f</th>\n",
       "      <th>Class_s</th>\n",
       "      <th>Class_f</th>\n",
       "    </tr>\n",
       "  </thead>\n",
       "  <tbody>\n",
       "    <tr>\n",
       "      <th>0</th>\n",
       "      <td>Boy</td>\n",
       "      <td>University</td>\n",
       "      <td>Non Government</td>\n",
       "      <td>No</td>\n",
       "      <td>Yes</td>\n",
       "      <td>Low</td>\n",
       "      <td>Mid</td>\n",
       "      <td>Wifi</td>\n",
       "      <td>4G</td>\n",
       "      <td>No</td>\n",
       "      <td>Tab</td>\n",
       "      <td>Moderate</td>\n",
       "      <td>21</td>\n",
       "      <td>25</td>\n",
       "      <td>3</td>\n",
       "      <td>6</td>\n",
       "    </tr>\n",
       "    <tr>\n",
       "      <th>1</th>\n",
       "      <td>Girl</td>\n",
       "      <td>University</td>\n",
       "      <td>Non Government</td>\n",
       "      <td>No</td>\n",
       "      <td>Yes</td>\n",
       "      <td>High</td>\n",
       "      <td>Mid</td>\n",
       "      <td>Mobile Data</td>\n",
       "      <td>4G</td>\n",
       "      <td>Yes</td>\n",
       "      <td>Mobile</td>\n",
       "      <td>Moderate</td>\n",
       "      <td>21</td>\n",
       "      <td>25</td>\n",
       "      <td>1</td>\n",
       "      <td>3</td>\n",
       "    </tr>\n",
       "    <tr>\n",
       "      <th>2</th>\n",
       "      <td>Girl</td>\n",
       "      <td>College</td>\n",
       "      <td>Government</td>\n",
       "      <td>No</td>\n",
       "      <td>Yes</td>\n",
       "      <td>Low</td>\n",
       "      <td>Mid</td>\n",
       "      <td>Wifi</td>\n",
       "      <td>4G</td>\n",
       "      <td>No</td>\n",
       "      <td>Mobile</td>\n",
       "      <td>Moderate</td>\n",
       "      <td>16</td>\n",
       "      <td>20</td>\n",
       "      <td>1</td>\n",
       "      <td>3</td>\n",
       "    </tr>\n",
       "  </tbody>\n",
       "</table>\n",
       "</div>"
      ],
      "text/plain": [
       "  Gender Education Level Institution Type IT Student Location Load-shedding  \\\n",
       "0    Boy      University   Non Government         No      Yes           Low   \n",
       "1   Girl      University   Non Government         No      Yes          High   \n",
       "2   Girl         College       Government         No      Yes           Low   \n",
       "\n",
       "  Financial Condition Internet Type Network Type Self Lms  Device  \\\n",
       "0                 Mid          Wifi           4G       No     Tab   \n",
       "1                 Mid   Mobile Data           4G      Yes  Mobile   \n",
       "2                 Mid          Wifi           4G       No  Mobile   \n",
       "\n",
       "  Adaptivity Level  Age_s  Age_f  Class_s  Class_f  \n",
       "0         Moderate     21     25        3        6  \n",
       "1         Moderate     21     25        1        3  \n",
       "2         Moderate     16     20        1        3  "
      ]
     },
     "execution_count": 638,
     "metadata": {},
     "output_type": "execute_result"
    }
   ],
   "source": [
    "df1.head(3)"
   ]
  },
  {
   "cell_type": "code",
   "execution_count": 644,
   "id": "a8f59fc9-a431-46ec-aff3-0a16e492fab7",
   "metadata": {},
   "outputs": [
    {
     "data": {
      "text/html": [
       "<div>\n",
       "<style scoped>\n",
       "    .dataframe tbody tr th:only-of-type {\n",
       "        vertical-align: middle;\n",
       "    }\n",
       "\n",
       "    .dataframe tbody tr th {\n",
       "        vertical-align: top;\n",
       "    }\n",
       "\n",
       "    .dataframe thead tr th {\n",
       "        text-align: left;\n",
       "    }\n",
       "\n",
       "    .dataframe thead tr:last-of-type th {\n",
       "        text-align: right;\n",
       "    }\n",
       "</style>\n",
       "<table border=\"1\" class=\"dataframe\">\n",
       "  <thead>\n",
       "    <tr>\n",
       "      <th></th>\n",
       "      <th></th>\n",
       "      <th></th>\n",
       "      <th>Gender</th>\n",
       "      <th>Institution Type</th>\n",
       "      <th>Age_s</th>\n",
       "    </tr>\n",
       "    <tr>\n",
       "      <th></th>\n",
       "      <th></th>\n",
       "      <th></th>\n",
       "      <th>count</th>\n",
       "      <th>count</th>\n",
       "      <th>mean</th>\n",
       "    </tr>\n",
       "    <tr>\n",
       "      <th>Gender</th>\n",
       "      <th>Institution Type</th>\n",
       "      <th>Age_s</th>\n",
       "      <th></th>\n",
       "      <th></th>\n",
       "      <th></th>\n",
       "    </tr>\n",
       "  </thead>\n",
       "  <tbody>\n",
       "    <tr>\n",
       "      <th rowspan=\"12\" valign=\"top\">Boy</th>\n",
       "      <th rowspan=\"6\" valign=\"top\">Government</th>\n",
       "      <th>1</th>\n",
       "      <td>3</td>\n",
       "      <td>3</td>\n",
       "      <td>1.0</td>\n",
       "    </tr>\n",
       "    <tr>\n",
       "      <th>6</th>\n",
       "      <td>10</td>\n",
       "      <td>10</td>\n",
       "      <td>6.0</td>\n",
       "    </tr>\n",
       "    <tr>\n",
       "      <th>11</th>\n",
       "      <td>24</td>\n",
       "      <td>24</td>\n",
       "      <td>11.0</td>\n",
       "    </tr>\n",
       "    <tr>\n",
       "      <th>16</th>\n",
       "      <td>102</td>\n",
       "      <td>102</td>\n",
       "      <td>16.0</td>\n",
       "    </tr>\n",
       "    <tr>\n",
       "      <th>21</th>\n",
       "      <td>72</td>\n",
       "      <td>72</td>\n",
       "      <td>21.0</td>\n",
       "    </tr>\n",
       "    <tr>\n",
       "      <th>26</th>\n",
       "      <td>29</td>\n",
       "      <td>29</td>\n",
       "      <td>26.0</td>\n",
       "    </tr>\n",
       "    <tr>\n",
       "      <th rowspan=\"6\" valign=\"top\">Non Government</th>\n",
       "      <th>1</th>\n",
       "      <td>11</td>\n",
       "      <td>11</td>\n",
       "      <td>1.0</td>\n",
       "    </tr>\n",
       "    <tr>\n",
       "      <th>6</th>\n",
       "      <td>12</td>\n",
       "      <td>12</td>\n",
       "      <td>6.0</td>\n",
       "    </tr>\n",
       "    <tr>\n",
       "      <th>11</th>\n",
       "      <td>187</td>\n",
       "      <td>187</td>\n",
       "      <td>11.0</td>\n",
       "    </tr>\n",
       "    <tr>\n",
       "      <th>16</th>\n",
       "      <td>7</td>\n",
       "      <td>7</td>\n",
       "      <td>16.0</td>\n",
       "    </tr>\n",
       "    <tr>\n",
       "      <th>21</th>\n",
       "      <td>193</td>\n",
       "      <td>193</td>\n",
       "      <td>21.0</td>\n",
       "    </tr>\n",
       "    <tr>\n",
       "      <th>26</th>\n",
       "      <td>13</td>\n",
       "      <td>13</td>\n",
       "      <td>26.0</td>\n",
       "    </tr>\n",
       "    <tr>\n",
       "      <th rowspan=\"11\" valign=\"top\">Girl</th>\n",
       "      <th rowspan=\"6\" valign=\"top\">Government</th>\n",
       "      <th>1</th>\n",
       "      <td>3</td>\n",
       "      <td>3</td>\n",
       "      <td>1.0</td>\n",
       "    </tr>\n",
       "    <tr>\n",
       "      <th>6</th>\n",
       "      <td>4</td>\n",
       "      <td>4</td>\n",
       "      <td>6.0</td>\n",
       "    </tr>\n",
       "    <tr>\n",
       "      <th>11</th>\n",
       "      <td>28</td>\n",
       "      <td>28</td>\n",
       "      <td>11.0</td>\n",
       "    </tr>\n",
       "    <tr>\n",
       "      <th>16</th>\n",
       "      <td>47</td>\n",
       "      <td>47</td>\n",
       "      <td>16.0</td>\n",
       "    </tr>\n",
       "    <tr>\n",
       "      <th>21</th>\n",
       "      <td>34</td>\n",
       "      <td>34</td>\n",
       "      <td>21.0</td>\n",
       "    </tr>\n",
       "    <tr>\n",
       "      <th>26</th>\n",
       "      <td>26</td>\n",
       "      <td>26</td>\n",
       "      <td>26.0</td>\n",
       "    </tr>\n",
       "    <tr>\n",
       "      <th rowspan=\"5\" valign=\"top\">Non Government</th>\n",
       "      <th>1</th>\n",
       "      <td>64</td>\n",
       "      <td>64</td>\n",
       "      <td>1.0</td>\n",
       "    </tr>\n",
       "    <tr>\n",
       "      <th>6</th>\n",
       "      <td>25</td>\n",
       "      <td>25</td>\n",
       "      <td>6.0</td>\n",
       "    </tr>\n",
       "    <tr>\n",
       "      <th>11</th>\n",
       "      <td>114</td>\n",
       "      <td>114</td>\n",
       "      <td>11.0</td>\n",
       "    </tr>\n",
       "    <tr>\n",
       "      <th>16</th>\n",
       "      <td>122</td>\n",
       "      <td>122</td>\n",
       "      <td>16.0</td>\n",
       "    </tr>\n",
       "    <tr>\n",
       "      <th>21</th>\n",
       "      <td>75</td>\n",
       "      <td>75</td>\n",
       "      <td>21.0</td>\n",
       "    </tr>\n",
       "  </tbody>\n",
       "</table>\n",
       "</div>"
      ],
      "text/plain": [
       "                              Gender Institution Type Age_s\n",
       "                               count            count  mean\n",
       "Gender Institution Type Age_s                              \n",
       "Boy    Government       1          3                3   1.0\n",
       "                        6         10               10   6.0\n",
       "                        11        24               24  11.0\n",
       "                        16       102              102  16.0\n",
       "                        21        72               72  21.0\n",
       "                        26        29               29  26.0\n",
       "       Non Government   1         11               11   1.0\n",
       "                        6         12               12   6.0\n",
       "                        11       187              187  11.0\n",
       "                        16         7                7  16.0\n",
       "                        21       193              193  21.0\n",
       "                        26        13               13  26.0\n",
       "Girl   Government       1          3                3   1.0\n",
       "                        6          4                4   6.0\n",
       "                        11        28               28  11.0\n",
       "                        16        47               47  16.0\n",
       "                        21        34               34  21.0\n",
       "                        26        26               26  26.0\n",
       "       Non Government   1         64               64   1.0\n",
       "                        6         25               25   6.0\n",
       "                        11       114              114  11.0\n",
       "                        16       122              122  16.0\n",
       "                        21        75               75  21.0"
      ]
     },
     "execution_count": 644,
     "metadata": {},
     "output_type": "execute_result"
    }
   ],
   "source": [
    "dic = {'Gender':['count'],\n",
    "      'Institution Type': ['count'],\n",
    "      'Age_s':['mean']}\n",
    "df1.groupby(['Gender', 'Institution Type', 'Age_s']).agg(dic)"
   ]
  },
  {
   "cell_type": "code",
   "execution_count": 672,
   "id": "f8601ece-d55e-4638-a0f8-665bf3a8b733",
   "metadata": {},
   "outputs": [],
   "source": [
    "dic = {'Gender':['count'],\n",
    "      'Age_s':['mean'],\n",
    "      'Age_f': ['mean']}\n",
    "s = df1.groupby(['Gender', 'Institution Type', 'Age_s']).agg(dic)"
   ]
  },
  {
   "cell_type": "code",
   "execution_count": 674,
   "id": "d05a3d9a-5297-4209-b72f-c87ba435850e",
   "metadata": {},
   "outputs": [
    {
     "data": {
      "text/html": [
       "<div>\n",
       "<style scoped>\n",
       "    .dataframe tbody tr th:only-of-type {\n",
       "        vertical-align: middle;\n",
       "    }\n",
       "\n",
       "    .dataframe tbody tr th {\n",
       "        vertical-align: top;\n",
       "    }\n",
       "\n",
       "    .dataframe thead tr th {\n",
       "        text-align: left;\n",
       "    }\n",
       "\n",
       "    .dataframe thead tr:last-of-type th {\n",
       "        text-align: right;\n",
       "    }\n",
       "</style>\n",
       "<table border=\"1\" class=\"dataframe\">\n",
       "  <thead>\n",
       "    <tr>\n",
       "      <th></th>\n",
       "      <th></th>\n",
       "      <th></th>\n",
       "      <th>Gender</th>\n",
       "      <th>Age_s</th>\n",
       "      <th>Age_f</th>\n",
       "    </tr>\n",
       "    <tr>\n",
       "      <th></th>\n",
       "      <th></th>\n",
       "      <th></th>\n",
       "      <th>count</th>\n",
       "      <th>mean</th>\n",
       "      <th>mean</th>\n",
       "    </tr>\n",
       "    <tr>\n",
       "      <th>Gender</th>\n",
       "      <th>Institution Type</th>\n",
       "      <th>Age_s</th>\n",
       "      <th></th>\n",
       "      <th></th>\n",
       "      <th></th>\n",
       "    </tr>\n",
       "  </thead>\n",
       "  <tbody>\n",
       "    <tr>\n",
       "      <th rowspan=\"12\" valign=\"top\">Boy</th>\n",
       "      <th rowspan=\"6\" valign=\"top\">Government</th>\n",
       "      <th>1</th>\n",
       "      <td>3</td>\n",
       "      <td>1.0</td>\n",
       "      <td>5.0</td>\n",
       "    </tr>\n",
       "    <tr>\n",
       "      <th>6</th>\n",
       "      <td>10</td>\n",
       "      <td>6.0</td>\n",
       "      <td>10.0</td>\n",
       "    </tr>\n",
       "    <tr>\n",
       "      <th>11</th>\n",
       "      <td>24</td>\n",
       "      <td>11.0</td>\n",
       "      <td>15.0</td>\n",
       "    </tr>\n",
       "    <tr>\n",
       "      <th>16</th>\n",
       "      <td>102</td>\n",
       "      <td>16.0</td>\n",
       "      <td>20.0</td>\n",
       "    </tr>\n",
       "    <tr>\n",
       "      <th>21</th>\n",
       "      <td>72</td>\n",
       "      <td>21.0</td>\n",
       "      <td>25.0</td>\n",
       "    </tr>\n",
       "    <tr>\n",
       "      <th>26</th>\n",
       "      <td>29</td>\n",
       "      <td>26.0</td>\n",
       "      <td>30.0</td>\n",
       "    </tr>\n",
       "    <tr>\n",
       "      <th rowspan=\"6\" valign=\"top\">Non Government</th>\n",
       "      <th>1</th>\n",
       "      <td>11</td>\n",
       "      <td>1.0</td>\n",
       "      <td>5.0</td>\n",
       "    </tr>\n",
       "    <tr>\n",
       "      <th>6</th>\n",
       "      <td>12</td>\n",
       "      <td>6.0</td>\n",
       "      <td>10.0</td>\n",
       "    </tr>\n",
       "    <tr>\n",
       "      <th>11</th>\n",
       "      <td>187</td>\n",
       "      <td>11.0</td>\n",
       "      <td>15.0</td>\n",
       "    </tr>\n",
       "    <tr>\n",
       "      <th>16</th>\n",
       "      <td>7</td>\n",
       "      <td>16.0</td>\n",
       "      <td>20.0</td>\n",
       "    </tr>\n",
       "    <tr>\n",
       "      <th>21</th>\n",
       "      <td>193</td>\n",
       "      <td>21.0</td>\n",
       "      <td>25.0</td>\n",
       "    </tr>\n",
       "    <tr>\n",
       "      <th>26</th>\n",
       "      <td>13</td>\n",
       "      <td>26.0</td>\n",
       "      <td>30.0</td>\n",
       "    </tr>\n",
       "    <tr>\n",
       "      <th rowspan=\"11\" valign=\"top\">Girl</th>\n",
       "      <th rowspan=\"6\" valign=\"top\">Government</th>\n",
       "      <th>1</th>\n",
       "      <td>3</td>\n",
       "      <td>1.0</td>\n",
       "      <td>5.0</td>\n",
       "    </tr>\n",
       "    <tr>\n",
       "      <th>6</th>\n",
       "      <td>4</td>\n",
       "      <td>6.0</td>\n",
       "      <td>10.0</td>\n",
       "    </tr>\n",
       "    <tr>\n",
       "      <th>11</th>\n",
       "      <td>28</td>\n",
       "      <td>11.0</td>\n",
       "      <td>15.0</td>\n",
       "    </tr>\n",
       "    <tr>\n",
       "      <th>16</th>\n",
       "      <td>47</td>\n",
       "      <td>16.0</td>\n",
       "      <td>20.0</td>\n",
       "    </tr>\n",
       "    <tr>\n",
       "      <th>21</th>\n",
       "      <td>34</td>\n",
       "      <td>21.0</td>\n",
       "      <td>25.0</td>\n",
       "    </tr>\n",
       "    <tr>\n",
       "      <th>26</th>\n",
       "      <td>26</td>\n",
       "      <td>26.0</td>\n",
       "      <td>30.0</td>\n",
       "    </tr>\n",
       "    <tr>\n",
       "      <th rowspan=\"5\" valign=\"top\">Non Government</th>\n",
       "      <th>1</th>\n",
       "      <td>64</td>\n",
       "      <td>1.0</td>\n",
       "      <td>5.0</td>\n",
       "    </tr>\n",
       "    <tr>\n",
       "      <th>6</th>\n",
       "      <td>25</td>\n",
       "      <td>6.0</td>\n",
       "      <td>10.0</td>\n",
       "    </tr>\n",
       "    <tr>\n",
       "      <th>11</th>\n",
       "      <td>114</td>\n",
       "      <td>11.0</td>\n",
       "      <td>15.0</td>\n",
       "    </tr>\n",
       "    <tr>\n",
       "      <th>16</th>\n",
       "      <td>122</td>\n",
       "      <td>16.0</td>\n",
       "      <td>20.0</td>\n",
       "    </tr>\n",
       "    <tr>\n",
       "      <th>21</th>\n",
       "      <td>75</td>\n",
       "      <td>21.0</td>\n",
       "      <td>25.0</td>\n",
       "    </tr>\n",
       "  </tbody>\n",
       "</table>\n",
       "</div>"
      ],
      "text/plain": [
       "                              Gender Age_s Age_f\n",
       "                               count  mean  mean\n",
       "Gender Institution Type Age_s                   \n",
       "Boy    Government       1          3   1.0   5.0\n",
       "                        6         10   6.0  10.0\n",
       "                        11        24  11.0  15.0\n",
       "                        16       102  16.0  20.0\n",
       "                        21        72  21.0  25.0\n",
       "                        26        29  26.0  30.0\n",
       "       Non Government   1         11   1.0   5.0\n",
       "                        6         12   6.0  10.0\n",
       "                        11       187  11.0  15.0\n",
       "                        16         7  16.0  20.0\n",
       "                        21       193  21.0  25.0\n",
       "                        26        13  26.0  30.0\n",
       "Girl   Government       1          3   1.0   5.0\n",
       "                        6          4   6.0  10.0\n",
       "                        11        28  11.0  15.0\n",
       "                        16        47  16.0  20.0\n",
       "                        21        34  21.0  25.0\n",
       "                        26        26  26.0  30.0\n",
       "       Non Government   1         64   1.0   5.0\n",
       "                        6         25   6.0  10.0\n",
       "                        11       114  11.0  15.0\n",
       "                        16       122  16.0  20.0\n",
       "                        21        75  21.0  25.0"
      ]
     },
     "execution_count": 674,
     "metadata": {},
     "output_type": "execute_result"
    }
   ],
   "source": [
    "s"
   ]
  }
 ],
 "metadata": {
  "kernelspec": {
   "display_name": "Python [conda env:base] *",
   "language": "python",
   "name": "conda-base-py"
  },
  "language_info": {
   "codemirror_mode": {
    "name": "ipython",
    "version": 3
   },
   "file_extension": ".py",
   "mimetype": "text/x-python",
   "name": "python",
   "nbconvert_exporter": "python",
   "pygments_lexer": "ipython3",
   "version": "3.11.5"
  }
 },
 "nbformat": 4,
 "nbformat_minor": 5
}
